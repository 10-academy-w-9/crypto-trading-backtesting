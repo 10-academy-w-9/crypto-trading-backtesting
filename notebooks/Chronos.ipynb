{
  "cells": [
    {
      "cell_type": "code",
      "execution_count": 2,
      "metadata": {
        "colab": {
          "base_uri": "https://localhost:8080/"
        },
        "id": "UKmLdWL4Sod6",
        "outputId": "7f68bda9-da26-43ca-a879-ee79561bed7a"
      },
      "outputs": [
        {
          "name": "stdout",
          "output_type": "stream",
          "text": [
            "Mounted at /content/drive\n"
          ]
        }
      ],
      "source": [
        "from google.colab import drive\n",
        "drive.mount('/content/drive')\n"
      ]
    },
    {
      "cell_type": "markdown",
      "metadata": {
        "id": "b3eFoFYDPXtU"
      },
      "source": [
        "## Prerequisite"
      ]
    },
    {
      "cell_type": "code",
      "execution_count": 3,
      "metadata": {
        "colab": {
          "base_uri": "https://localhost:8080/"
        },
        "collapsed": true,
        "id": "4MjKEKx7S5-O",
        "outputId": "0ef57f94-b656-46e4-cf10-df65d72a500d"
      },
      "outputs": [
        {
          "name": "stdout",
          "output_type": "stream",
          "text": [
            "Collecting git+https://github.com/amazon-science/chronos-forecasting.git\n",
            "  Cloning https://github.com/amazon-science/chronos-forecasting.git to /tmp/pip-req-build-imvq34e_\n",
            "  Running command git clone --filter=blob:none --quiet https://github.com/amazon-science/chronos-forecasting.git /tmp/pip-req-build-imvq34e_\n",
            "  Resolved https://github.com/amazon-science/chronos-forecasting.git to commit afd9cfd062b60ca1ba8d7c9daef7dc820489db0a\n",
            "  Installing build dependencies ... \u001b[?25l\u001b[?25hdone\n",
            "  Getting requirements to build wheel ... \u001b[?25l\u001b[?25hdone\n",
            "  Preparing metadata (pyproject.toml) ... \u001b[?25l\u001b[?25hdone\n",
            "Requirement already satisfied: torch~=2.0 in /usr/local/lib/python3.10/dist-packages (from chronos==1.2.0) (2.3.0+cu121)\n",
            "Requirement already satisfied: transformers~=4.30 in /usr/local/lib/python3.10/dist-packages (from chronos==1.2.0) (4.41.2)\n",
            "Collecting accelerate (from chronos==1.2.0)\n",
            "  Downloading accelerate-0.31.0-py3-none-any.whl (309 kB)\n",
            "\u001b[2K     \u001b[90m━━━━━━━━━━━━━━━━━━━━━━━━━━━━━━━━━━━━━━━━\u001b[0m \u001b[32m309.4/309.4 kB\u001b[0m \u001b[31m4.7 MB/s\u001b[0m eta \u001b[36m0:00:00\u001b[0m\n",
            "\u001b[?25hRequirement already satisfied: filelock in /usr/local/lib/python3.10/dist-packages (from torch~=2.0->chronos==1.2.0) (3.15.3)\n",
            "Requirement already satisfied: typing-extensions>=4.8.0 in /usr/local/lib/python3.10/dist-packages (from torch~=2.0->chronos==1.2.0) (4.12.2)\n",
            "Requirement already satisfied: sympy in /usr/local/lib/python3.10/dist-packages (from torch~=2.0->chronos==1.2.0) (1.12.1)\n",
            "Requirement already satisfied: networkx in /usr/local/lib/python3.10/dist-packages (from torch~=2.0->chronos==1.2.0) (3.3)\n",
            "Requirement already satisfied: jinja2 in /usr/local/lib/python3.10/dist-packages (from torch~=2.0->chronos==1.2.0) (3.1.4)\n",
            "Requirement already satisfied: fsspec in /usr/local/lib/python3.10/dist-packages (from torch~=2.0->chronos==1.2.0) (2023.6.0)\n",
            "Collecting nvidia-cuda-nvrtc-cu12==12.1.105 (from torch~=2.0->chronos==1.2.0)\n",
            "  Using cached nvidia_cuda_nvrtc_cu12-12.1.105-py3-none-manylinux1_x86_64.whl (23.7 MB)\n",
            "Collecting nvidia-cuda-runtime-cu12==12.1.105 (from torch~=2.0->chronos==1.2.0)\n",
            "  Using cached nvidia_cuda_runtime_cu12-12.1.105-py3-none-manylinux1_x86_64.whl (823 kB)\n",
            "Collecting nvidia-cuda-cupti-cu12==12.1.105 (from torch~=2.0->chronos==1.2.0)\n",
            "  Using cached nvidia_cuda_cupti_cu12-12.1.105-py3-none-manylinux1_x86_64.whl (14.1 MB)\n",
            "Collecting nvidia-cudnn-cu12==8.9.2.26 (from torch~=2.0->chronos==1.2.0)\n",
            "  Using cached nvidia_cudnn_cu12-8.9.2.26-py3-none-manylinux1_x86_64.whl (731.7 MB)\n",
            "Collecting nvidia-cublas-cu12==12.1.3.1 (from torch~=2.0->chronos==1.2.0)\n",
            "  Using cached nvidia_cublas_cu12-12.1.3.1-py3-none-manylinux1_x86_64.whl (410.6 MB)\n",
            "Collecting nvidia-cufft-cu12==11.0.2.54 (from torch~=2.0->chronos==1.2.0)\n",
            "  Using cached nvidia_cufft_cu12-11.0.2.54-py3-none-manylinux1_x86_64.whl (121.6 MB)\n",
            "Collecting nvidia-curand-cu12==10.3.2.106 (from torch~=2.0->chronos==1.2.0)\n",
            "  Using cached nvidia_curand_cu12-10.3.2.106-py3-none-manylinux1_x86_64.whl (56.5 MB)\n",
            "Collecting nvidia-cusolver-cu12==11.4.5.107 (from torch~=2.0->chronos==1.2.0)\n",
            "  Using cached nvidia_cusolver_cu12-11.4.5.107-py3-none-manylinux1_x86_64.whl (124.2 MB)\n",
            "Collecting nvidia-cusparse-cu12==12.1.0.106 (from torch~=2.0->chronos==1.2.0)\n",
            "  Using cached nvidia_cusparse_cu12-12.1.0.106-py3-none-manylinux1_x86_64.whl (196.0 MB)\n",
            "Collecting nvidia-nccl-cu12==2.20.5 (from torch~=2.0->chronos==1.2.0)\n",
            "  Using cached nvidia_nccl_cu12-2.20.5-py3-none-manylinux2014_x86_64.whl (176.2 MB)\n",
            "Collecting nvidia-nvtx-cu12==12.1.105 (from torch~=2.0->chronos==1.2.0)\n",
            "  Using cached nvidia_nvtx_cu12-12.1.105-py3-none-manylinux1_x86_64.whl (99 kB)\n",
            "Requirement already satisfied: triton==2.3.0 in /usr/local/lib/python3.10/dist-packages (from torch~=2.0->chronos==1.2.0) (2.3.0)\n",
            "Collecting nvidia-nvjitlink-cu12 (from nvidia-cusolver-cu12==11.4.5.107->torch~=2.0->chronos==1.2.0)\n",
            "  Downloading nvidia_nvjitlink_cu12-12.5.40-py3-none-manylinux2014_x86_64.whl (21.3 MB)\n",
            "\u001b[2K     \u001b[90m━━━━━━━━━━━━━━━━━━━━━━━━━━━━━━━━━━━━━━━━\u001b[0m \u001b[32m21.3/21.3 MB\u001b[0m \u001b[31m43.5 MB/s\u001b[0m eta \u001b[36m0:00:00\u001b[0m\n",
            "\u001b[?25hRequirement already satisfied: huggingface-hub<1.0,>=0.23.0 in /usr/local/lib/python3.10/dist-packages (from transformers~=4.30->chronos==1.2.0) (0.23.4)\n",
            "Requirement already satisfied: numpy>=1.17 in /usr/local/lib/python3.10/dist-packages (from transformers~=4.30->chronos==1.2.0) (1.25.2)\n",
            "Requirement already satisfied: packaging>=20.0 in /usr/local/lib/python3.10/dist-packages (from transformers~=4.30->chronos==1.2.0) (24.1)\n",
            "Requirement already satisfied: pyyaml>=5.1 in /usr/local/lib/python3.10/dist-packages (from transformers~=4.30->chronos==1.2.0) (6.0.1)\n",
            "Requirement already satisfied: regex!=2019.12.17 in /usr/local/lib/python3.10/dist-packages (from transformers~=4.30->chronos==1.2.0) (2024.5.15)\n",
            "Requirement already satisfied: requests in /usr/local/lib/python3.10/dist-packages (from transformers~=4.30->chronos==1.2.0) (2.31.0)\n",
            "Requirement already satisfied: tokenizers<0.20,>=0.19 in /usr/local/lib/python3.10/dist-packages (from transformers~=4.30->chronos==1.2.0) (0.19.1)\n",
            "Requirement already satisfied: safetensors>=0.4.1 in /usr/local/lib/python3.10/dist-packages (from transformers~=4.30->chronos==1.2.0) (0.4.3)\n",
            "Requirement already satisfied: tqdm>=4.27 in /usr/local/lib/python3.10/dist-packages (from transformers~=4.30->chronos==1.2.0) (4.66.4)\n",
            "Requirement already satisfied: psutil in /usr/local/lib/python3.10/dist-packages (from accelerate->chronos==1.2.0) (5.9.5)\n",
            "Requirement already satisfied: MarkupSafe>=2.0 in /usr/local/lib/python3.10/dist-packages (from jinja2->torch~=2.0->chronos==1.2.0) (2.1.5)\n",
            "Requirement already satisfied: charset-normalizer<4,>=2 in /usr/local/lib/python3.10/dist-packages (from requests->transformers~=4.30->chronos==1.2.0) (3.3.2)\n",
            "Requirement already satisfied: idna<4,>=2.5 in /usr/local/lib/python3.10/dist-packages (from requests->transformers~=4.30->chronos==1.2.0) (3.7)\n",
            "Requirement already satisfied: urllib3<3,>=1.21.1 in /usr/local/lib/python3.10/dist-packages (from requests->transformers~=4.30->chronos==1.2.0) (2.0.7)\n",
            "Requirement already satisfied: certifi>=2017.4.17 in /usr/local/lib/python3.10/dist-packages (from requests->transformers~=4.30->chronos==1.2.0) (2024.6.2)\n",
            "Requirement already satisfied: mpmath<1.4.0,>=1.1.0 in /usr/local/lib/python3.10/dist-packages (from sympy->torch~=2.0->chronos==1.2.0) (1.3.0)\n",
            "Building wheels for collected packages: chronos\n",
            "  Building wheel for chronos (pyproject.toml) ... \u001b[?25l\u001b[?25hdone\n",
            "  Created wheel for chronos: filename=chronos-1.2.0-py3-none-any.whl size=13875 sha256=4f2951fad1551907db70231bc326a2c8d3a1a9a7a1712280b2f2c55da8c0eea2\n",
            "  Stored in directory: /tmp/pip-ephem-wheel-cache-y_hia3ef/wheels/bf/c1/65/08857e57345ef1b34ba0edb4791f1b2594943e82f34e93a4ab\n",
            "Successfully built chronos\n",
            "Installing collected packages: nvidia-nvtx-cu12, nvidia-nvjitlink-cu12, nvidia-nccl-cu12, nvidia-curand-cu12, nvidia-cufft-cu12, nvidia-cuda-runtime-cu12, nvidia-cuda-nvrtc-cu12, nvidia-cuda-cupti-cu12, nvidia-cublas-cu12, nvidia-cusparse-cu12, nvidia-cudnn-cu12, nvidia-cusolver-cu12, accelerate, chronos\n",
            "Successfully installed accelerate-0.31.0 chronos-1.2.0 nvidia-cublas-cu12-12.1.3.1 nvidia-cuda-cupti-cu12-12.1.105 nvidia-cuda-nvrtc-cu12-12.1.105 nvidia-cuda-runtime-cu12-12.1.105 nvidia-cudnn-cu12-8.9.2.26 nvidia-cufft-cu12-11.0.2.54 nvidia-curand-cu12-10.3.2.106 nvidia-cusolver-cu12-11.4.5.107 nvidia-cusparse-cu12-12.1.0.106 nvidia-nccl-cu12-2.20.5 nvidia-nvjitlink-cu12-12.5.40 nvidia-nvtx-cu12-12.1.105\n"
          ]
        }
      ],
      "source": [
        "pip install git+https://github.com/amazon-science/chronos-forecasting.git"
      ]
    },
    {
      "cell_type": "markdown",
      "metadata": {
        "id": "TNVFj6FxPfAH"
      },
      "source": [
        "## Test script"
      ]
    },
    {
      "cell_type": "code",
      "execution_count": 4,
      "metadata": {
        "id": "u5VeXz_GS8f_"
      },
      "outputs": [],
      "source": [
        "import pandas as pd\n",
        "import torch\n",
        "from chronos import ChronosPipeline\n",
        "import matplotlib.pyplot as plt\n",
        "import numpy as np\n",
        "\n",
        "def predict_and_plot_crypto_data(\n",
        "    coin_name,\n",
        "    crypto_data_dict,\n",
        "    model_name=\"amazon/chronos-t5-small\",\n",
        "    prediction_length=12,\n",
        "    num_samples=20):\n",
        "\n",
        "  \"\"\"\n",
        "  Predicts and plots cryptocurrency data for multiple coins.\n",
        "\n",
        "  Args:\n",
        "      crypto_data_dict: Dictionary containing data for each cryptocurrency.\n",
        "          Keys should be coin names (e.g., 'BTC', 'ETH'), values should be file paths to CSV data.\n",
        "      model_name: Name of the pre-trained Chronos model (default: \"amazon/chronos-t5-small\").\n",
        "      prediction_length: Number of future data points to predict (default: 12).\n",
        "      num_samples: Number of prediction samples to generate (default: 20).\n",
        "  \"\"\"\n",
        "\n",
        "  # Check if coin exists in data\n",
        "  if coin_name not in crypto_data_dict:\n",
        "      raise ValueError(f\"Coin '{coin_name}' not found in data dictionary.\")\n",
        "\n",
        "\n",
        "  # Initialize Chronos pipeline once outside the loop for efficiency\n",
        "  pipeline = ChronosPipeline.from_pretrained(\n",
        "      model_name,\n",
        "      device_map=\"cpu\",  # use \"cpu\" for CPU inference and \"mps\" for Apple Silicon\n",
        "      torch_dtype=torch.bfloat16,\n",
        "  )\n",
        "\n",
        "  predictions = {}  # Create an empty dictionary to store results\n",
        "\n",
        "  for coin_name, csv_file in crypto_data_dict.items():\n",
        "    # Load data for the specific coin\n",
        "    csv_file = crypto_data_dict[coin_name]\n",
        "    df = pd.read_csv(csv_file)\n",
        "\n",
        "\n",
        "    # Perform prediction\n",
        "    forecast = pipeline.predict(\n",
        "        context=torch.tensor(df[\"Close\"]),\n",
        "        prediction_length=prediction_length,\n",
        "        num_samples=num_samples,\n",
        "    )\n",
        "\n",
        "    # Generate forecast index for plotting\n",
        "    forecast_index = range(len(df), len(df) + prediction_length)\n",
        "    low, median, high = np.quantile(forecast[0].numpy(), [0.1, 0.5, 0.9], axis=0)\n",
        "\n",
        "    predictions[coin_name] = {  # Add results to the dictionary\n",
        "          \"median\": median,\n",
        "          \"low\": low,\n",
        "          \"high\": high\n",
        "      }\n",
        "\n",
        "\n",
        "    # Plot and visualize predictions (replace with your desired plotting logic)\n",
        "    plt.plot(df[\"Close\"], label=\"Actual\")\n",
        "    plt.plot(forecast_index, median, label=\"Median Prediction\")\n",
        "    plt.fill_between(forecast_index, low, high, alpha=0.2, label=\"Prediction Range\")\n",
        "    plt.title(f\"Predicted {coin_name} Prices\")\n",
        "    plt.legend()\n",
        "    plt.show()\n",
        "\n",
        "  return predictions  # Return the dictionary containing predictions\n",
        "\n",
        "# Example usage\n",
        "crypto_data = {\n",
        "  'BTC' : \"/content/drive/MyDrive/backtesting/datas/yfinance/BTC-USD.csv\",\n",
        "  'BNB' : \"/content/drive/MyDrive/backtesting/datas/yfinance/BNB-USD.csv\",\n",
        "  'ETH' : \"/content/drive/MyDrive/backtesting/datas/yfinance/ETH-USD.csv\"\n",
        "}\n",
        "\n",
        "\n"
      ]
    },
    {
      "cell_type": "code",
      "execution_count": 5,
      "metadata": {
        "colab": {
          "base_uri": "https://localhost:8080/",
          "height": 1000,
          "referenced_widgets": [
            "f006a98dc18b4b149af5eec489589349",
            "4c6874881fee455fb520f9941863a472",
            "8b9d8de7ca924e2a96443f45c3a77980",
            "5f95a5cefc854e03bb744d4dc9a95f85",
            "117ef9df0f3d4907b88502009bd136cd",
            "53167bd685d74c48b5ce8c19902edfc6",
            "0b4ce759e67f4a54a219fbf401c5cbb1",
            "af7b054a71634bb08e2608e56ccdb87b",
            "25782fa97aa9493c8ab059b982c37444",
            "85e40147660d4fbab4ba90e2cdc3062f",
            "d392c40b703d4cd49c669859662cf542",
            "ab60294dd9164adb9182d223ea683bbb",
            "9a1e9a69f3b749c9afaf3f96cf0ba5c5",
            "b6fa4f1d42aa46d58e77417896cac7f5",
            "a6335bc3a2a948e8923bcf0cbb246544",
            "c3229438e974408f84401a6da66c6f99",
            "64340bf981b54b2aadf68dc95065ce22",
            "bfee1b6938d4431a97491039189ba4be",
            "e4e2878194414935867000460cee245e",
            "cb83d412f44b49e09c8a4c329b2bc90b",
            "6001423116234fe0b688fbdce1acd217",
            "bea87538ba274102bd74fe9751ac8f6c",
            "a84e44833e5b424fb040fdbce5d17cd3",
            "c71ccf9d8a7743508e2e08fe21727343",
            "daac1393d05a48de81143a6d62eea469",
            "037d472ccd824b63ae3b90a1d8abd585",
            "8d15679b9a074f4793395d176910abde",
            "afa1056fc8114c1d8a8f902e2caf7621",
            "1b6dcda84157435badbd2d27b81fbd44",
            "b201897328064218a170ffe1ccace7d4",
            "eb6dbdcf6c24423ab8f1421ff46c1bed",
            "6b7abcce62144b028b24f47afef1eed2",
            "d9036a9f979f4682a9814b98ec2370c7"
          ]
        },
        "id": "5cGwZYzWU7zi",
        "outputId": "7936de3b-bd0a-4e80-f4b6-d09ab90adcd5"
      },
      "outputs": [
        {
          "name": "stderr",
          "output_type": "stream",
          "text": [
            "/usr/local/lib/python3.10/dist-packages/huggingface_hub/file_download.py:1132: FutureWarning: `resume_download` is deprecated and will be removed in version 1.0.0. Downloads always resume when possible. If you want to force a new download, use `force_download=True`.\n",
            "  warnings.warn(\n",
            "/usr/local/lib/python3.10/dist-packages/huggingface_hub/utils/_token.py:89: UserWarning: \n",
            "The secret `HF_TOKEN` does not exist in your Colab secrets.\n",
            "To authenticate with the Hugging Face Hub, create a token in your settings tab (https://huggingface.co/settings/tokens), set it as secret in your Google Colab and restart your session.\n",
            "You will be able to reuse this secret in all of your notebooks.\n",
            "Please note that authentication is recommended but still optional to access public models or datasets.\n",
            "  warnings.warn(\n"
          ]
        },
        {
          "data": {
            "application/vnd.jupyter.widget-view+json": {
              "model_id": "f006a98dc18b4b149af5eec489589349",
              "version_major": 2,
              "version_minor": 0
            },
            "text/plain": [
              "config.json:   0%|          | 0.00/1.11k [00:00<?, ?B/s]"
            ]
          },
          "metadata": {},
          "output_type": "display_data"
        },
        {
          "data": {
            "application/vnd.jupyter.widget-view+json": {
              "model_id": "ab60294dd9164adb9182d223ea683bbb",
              "version_major": 2,
              "version_minor": 0
            },
            "text/plain": [
              "model.safetensors:   0%|          | 0.00/185M [00:00<?, ?B/s]"
            ]
          },
          "metadata": {},
          "output_type": "display_data"
        },
        {
          "data": {
            "application/vnd.jupyter.widget-view+json": {
              "model_id": "a84e44833e5b424fb040fdbce5d17cd3",
              "version_major": 2,
              "version_minor": 0
            },
            "text/plain": [
              "generation_config.json:   0%|          | 0.00/142 [00:00<?, ?B/s]"
            ]
          },
          "metadata": {},
          "output_type": "display_data"
        },
        {
          "data": {
            "image/png": "[encoded data removed]",
            "text/plain": [
              "<Figure size 640x480 with 1 Axes>"
            ]
          },
          "metadata": {},
          "output_type": "display_data"
        },
        {
          "data": {
            "image/png": "[encoded data removed]",
            "text/plain": [
              "<Figure size 640x480 with 1 Axes>"
            ]
          },
          "metadata": {},
          "output_type": "display_data"
        },
        {
          "data": {
            "image/png": "[encoded data removed]",
            "text/plain": [
              "<Figure size 640x480 with 1 Axes>"
            ]
          },
          "metadata": {},
          "output_type": "display_data"
        },
        {
          "data": {
            "text/plain": [
              "{'BTC': {'median': array([65216.10184736, 65545.47577453, 65216.10184736, 65216.10184736,\n",
              "         65710.16273811, 65710.16273811, 66039.53666528, 65874.8497017 ,\n",
              "         66204.22362887, 66368.91059245, 68180.46719188, 67192.34541037]),\n",
              "  'low': array([64227.98006586, 63898.60078302, 63569.22685585, 63865.6633903 ,\n",
              "         63865.6633903 , 63865.6633903 , 63536.28946313, 63569.22685585,\n",
              "         64195.04213757, 63865.6633903 , 63206.91553596, 63536.28946313]),\n",
              "  'high': array([68213.40458459, 68509.84111904, 67521.71933754, 68509.84111904,\n",
              "         69234.46429438, 70222.59089599, 69530.90082883, 69300.33907981,\n",
              "         71177.77528478, 70551.96482316, 71276.58746293, 71243.65007021])},\n",
              " 'BNB': {'median': array([597.32778443, 594.73070968, 592.1335927 , 594.73070968,\n",
              "         589.53651795, 593.43215119, 588.23798057, 589.53651795,\n",
              "         589.53651795, 594.73068857, 590.83505532, 581.74529369]),\n",
              "  'low': array([591.61417775, 583.30353854, 578.88851146, 576.55114418,\n",
              "         565.90313769, 565.12401527, 565.64343022, 563.30606294,\n",
              "         561.48810639, 563.04635124, 556.29395688, 556.81337183]),\n",
              "  'high': array([605.11900869, 611.09228063, 618.62379741, 613.94906285,\n",
              "         609.2743283 , 621.22087216, 615.50730771, 623.55824366,\n",
              "         632.90771277, 654.46347123, 648.4901993 , 645.63341707])},\n",
              " 'ETH': {'median': array([3550.28826617, 3523.25564117, 3532.26651617, 3514.24476617,\n",
              "         3532.26651617, 3541.27739117, 3613.36439117, 3559.29914117,\n",
              "         3559.29914117, 3613.36439117, 3586.33176617, 3595.34264117]),\n",
              "  'low': array([3424.13572314, 3456.57487314, 3384.48787315, 3242.11604816,\n",
              "         3206.07251886, 3215.08339385, 3198.86381886, 3276.35734385,\n",
              "         3269.14864385, 3105.15045513, 3076.31565513, 3161.01788013]),\n",
              "  'high': array([3714.28619116, 3710.68187046, 3728.70362046, 3698.06664546,\n",
              "         3696.26447046, 3761.14277046, 3804.39497045, 3845.84525918,\n",
              "         3856.65830918, 3833.23003418, 3871.07570918, 3917.93225918])}}"
            ]
          },
          "execution_count": 5,
          "metadata": {},
          "output_type": "execute_result"
        }
      ],
      "source": [
        "predict_and_plot_crypto_data('BTC', crypto_data)\n",
        "\n",
        "#crypto_predictions = predict_and_plot_crypto_data(crypto_data)\n",
        "# Access predictions for a specific coin (e.g., 'BTC')\n",
        "#btc_predictions = crypto_predictions['BTC']\n",
        "\n"
      ]
    },
    {
      "cell_type": "code",
      "execution_count": 5,
      "metadata": {
        "id": "zYabfxk4VySV"
      },
      "outputs": [],
      "source": []
    },
    {
      "cell_type": "code",
      "execution_count": 6,
      "metadata": {
        "collapsed": true,
        "id": "XYMOyAFYS6Kn"
      },
      "outputs": [],
      "source": [
        "# Print the median predicted values for all coins\n",
        "#for coin, prediction in crypto_predictions.items():\n",
        "#  print(f\"Coin: {coin}, Median Prediction: {prediction['median']}\")"
      ]
    },
    {
      "cell_type": "code",
      "execution_count": 6,
      "metadata": {
        "id": "Zb-ikw6lU-Oz"
      },
      "outputs": [],
      "source": []
    },
    {
      "cell_type": "code",
      "execution_count": 7,
      "metadata": {
        "id": "8PkVm42VU-kw"
      },
      "outputs": [],
      "source": [
        "import pandas as pd\n",
        "import torch\n",
        "from chronos import ChronosPipeline\n",
        "import matplotlib.pyplot as plt\n",
        "import numpy as np\n",
        "\n",
        "\n",
        "# Define the crypto coins data source dictionary\n",
        "crypto_data_dict = {\n",
        "    'BTC': \"/content/drive/MyDrive/backtesting/datas/yfinance/BTC-USD.csv\",\n",
        "    'BNB': \"/content/drive/MyDrive/backtesting/datas/yfinance/BNB-USD.csv\",\n",
        "    'ETH': \"/content/drive/MyDrive/backtesting/datas/yfinance/ETH-USD.csv\"\n",
        "}\n",
        "\n",
        "def predict_and_plot_crypto_data(\n",
        "    coin_name,\n",
        "    crypto_data_dict,\n",
        "    model_name=\"amazon/chronos-t5-small\",\n",
        "    prediction_length=12,\n",
        "    num_samples=20):\n",
        "  \"\"\"\n",
        "  Predicts and plots cryptocurrency data for a single coin.\n",
        "\n",
        "  Args:\n",
        "      coin_name: Name of the cryptocurrency (e.g., 'BTC', 'ETH').\n",
        "      crypto_data_dict: Dictionary containing data for each cryptocurrency.\n",
        "          Keys should be coin names, values should be file paths to CSV data.\n",
        "      model_name: Name of the pre-trained Chronos model (default: \"amazon/chronos-t5-small\").\n",
        "      prediction_length: Number of future data points to predict (default: 12).\n",
        "      num_samples: Number of prediction samples to generate (default: 20).\n",
        "  \"\"\"\n",
        "\n",
        "\n",
        "\n",
        "  # Check if coin exists in data\n",
        "  if coin_name not in crypto_data_dict:\n",
        "      raise ValueError(f\"Coin '{coin_name}' not found in data dictionary.\")\n",
        "\n",
        "  # Load data for the specified coin\n",
        "  csv_file = crypto_data_dict[coin_name]\n",
        "  df = pd.read_csv(csv_file)\n",
        "\n",
        "  # Initialize Chronos pipeline (can be inside or outside depending on preference)\n",
        "  pipeline = ChronosPipeline.from_pretrained(\n",
        "      model_name,\n",
        "      device_map=\"cpu\",  # use \"cpu\" for CPU inference and \"mps\" for Apple Silicon\n",
        "      torch_dtype=torch.bfloat16,\n",
        "  )\n",
        "\n",
        "  # Perform prediction\n",
        "  forecast = pipeline.predict(\n",
        "      context=torch.tensor(df[\"Close\"]),\n",
        "      prediction_length=prediction_length,\n",
        "      num_samples=num_samples,\n",
        "  )\n",
        "\n",
        "  # Generate forecast index for plotting\n",
        "  forecast_index = range(len(df), len(df) + prediction_length)\n",
        "  low, median, high = np.quantile(forecast[0].numpy(), [0.1, 0.5, 0.9], axis=0)\n",
        "\n",
        "  # Plot and visualize predictions (replace with your desired plotting logic)\n",
        "  plt.plot(df[\"Close\"], label=\"Actual\")\n",
        "  plt.plot(forecast_index, median, label=\"Median Prediction\")\n",
        "  plt.fill_between(forecast_index, low, high, alpha=0.2, label=\"Prediction Range\")\n",
        "  plt.title(f\"Predicted {coin_name} Prices\")\n",
        "  plt.legend()\n",
        "  plt.show()\n"
      ]
    },
    {
      "cell_type": "code",
      "execution_count": 8,
      "metadata": {
        "colab": {
          "base_uri": "https://localhost:8080/",
          "height": 507
        },
        "id": "1e-iWVnPYer1",
        "outputId": "ad5238f0-f316-4bd2-90f1-32ec130eea08"
      },
      "outputs": [
        {
          "name": "stderr",
          "output_type": "stream",
          "text": [
            "/usr/local/lib/python3.10/dist-packages/huggingface_hub/file_download.py:1132: FutureWarning: `resume_download` is deprecated and will be removed in version 1.0.0. Downloads always resume when possible. If you want to force a new download, use `force_download=True`.\n",
            "  warnings.warn(\n"
          ]
        },
        {
          "data": {
            "image/png": "[encoded data removed]",
            "text/plain": [
              "<Figure size 640x480 with 1 Axes>"
            ]
          },
          "metadata": {},
          "output_type": "display_data"
        }
      ],
      "source": [
        "# Example usage (assuming crypto_data_dict is defined)\n",
        "predict_and_plot_crypto_data('BTC', crypto_data_dict)  # Call for Bitcoin"
      ]
    },
    {
      "cell_type": "code",
      "execution_count": 8,
      "metadata": {
        "id": "xnGerO0HjwUY"
      },
      "outputs": [],
      "source": []
    },
    {
      "cell_type": "markdown",
      "metadata": {
        "id": "f66u-dU2PoEd"
      },
      "source": [
        "## Final script"
      ]
    },
    {
      "cell_type": "code",
      "execution_count": 9,
      "metadata": {
        "id": "E5sffSH1YZgP"
      },
      "outputs": [],
      "source": [
        "import pandas as pd\n",
        "import torch\n",
        "from chronos import ChronosPipeline\n",
        "import matplotlib.pyplot as plt\n",
        "import numpy as np\n",
        "\n",
        "\n",
        "# Define the crypto coins data source dictionary\n",
        "crypto_data_dict = {\n",
        "    'BTC': \"/content/drive/MyDrive/backtesting/datas/yfinance/BTC-USD.csv\",\n",
        "    'BNB': \"/content/drive/MyDrive/backtesting/datas/yfinance/BNB-USD.csv\",\n",
        "    'ETH': \"/content/drive/MyDrive/backtesting/datas/yfinance/ETH-USD.csv\"\n",
        "}\n",
        "\n",
        "def predict_and_plot_crypto_data(\n",
        "    coin_name,\n",
        "    crypto_data_dict,\n",
        "    model_name=\"amazon/chronos-t5-small\",\n",
        "    prediction_length=12,\n",
        "    num_samples=20):\n",
        "    \"\"\"\n",
        "    Predicts and plots cryptocurrency data for a single coin.\n",
        "\n",
        "    Args:\n",
        "        coin_name (str): Name of the cryptocurrency (e.g., 'BTC', 'ETH').\n",
        "        crypto_data_dict (dict): Dictionary containing data for each cryptocurrency.\n",
        "            Keys should be coin names, values should be file paths to CSV data.\n",
        "        model_name (str): Name of the pre-trained Chronos model (default: \"amazon/chronos-t5-small\").\n",
        "        prediction_length (int): Number of future data points to predict (default: 12).\n",
        "        num_samples (int): Number of prediction samples to generate (default: 20).\n",
        "\n",
        "    Raises:\n",
        "        ValueError: If coin_name is not found in crypto_data_dict.\n",
        "\n",
        "    Returns:\n",
        "        tuple: Tuple containing forecast index and median prediction array.\n",
        "    \"\"\"\n",
        "\n",
        "    # Check if coin exists in data\n",
        "    if coin_name not in crypto_data_dict:\n",
        "        raise ValueError(f\"Coin '{coin_name}' not found in data dictionary.\")\n",
        "\n",
        "    # Load data for the specified coin\n",
        "    csv_file = crypto_data_dict[coin_name]\n",
        "    df = pd.read_csv(csv_file)\n",
        "\n",
        "    # Initialize Chronos pipeline\n",
        "    pipeline = ChronosPipeline.from_pretrained(\n",
        "        model_name,\n",
        "        device_map=\"cpu\",  # use \"cpu\" for CPU inference and \"mps\" for Apple Silicon\n",
        "        torch_dtype=torch.bfloat16,\n",
        "    )\n",
        "\n",
        "    # Perform prediction\n",
        "    forecast = pipeline.predict(\n",
        "        context=torch.tensor(df[\"Close\"]),\n",
        "        prediction_length=prediction_length,\n",
        "        num_samples=num_samples,\n",
        "    )\n",
        "\n",
        "    # Generate forecast index for plotting\n",
        "    forecast_index = range(len(df), len(df) + prediction_length)\n",
        "    low, median, high = np.quantile(forecast[0].numpy(), [0.1, 0.5, 0.9], axis=0)\n",
        "\n",
        "    # Plot and visualize predictions\n",
        "    plt.figure(figsize=(10, 6))  # Adjust figure size as needed\n",
        "    plt.plot(df[\"Close\"], label=\"History\")\n",
        "    plt.plot(forecast_index, median, label=\"Median Prediction\")\n",
        "    plt.fill_between(forecast_index, low, high, alpha=0.2, label=\"Prediction Range\")\n",
        "    plt.title(f\"Predicted {coin_name} Prices\")\n",
        "    plt.xlabel(\"Time\")\n",
        "    plt.ylabel(\"Price\")\n",
        "    plt.legend()\n",
        "    plt.grid(True)  # Add gridlines\n",
        "    plt.show()\n",
        "\n",
        "    return forecast_index, median  # Optionally return forecast data for further use\n"
      ]
    },
    {
      "cell_type": "markdown",
      "metadata": {
        "id": "eMCgKbs4a68-"
      },
      "source": [
        "### Calling the prediction function"
      ]
    },
    {
      "cell_type": "code",
      "execution_count": 10,
      "metadata": {
        "colab": {
          "base_uri": "https://localhost:8080/",
          "height": 775
        },
        "id": "Et66P-m6jyZG",
        "outputId": "c73aa99e-3deb-4813-dc09-baf9ff960006"
      },
      "outputs": [
        {
          "name": "stderr",
          "output_type": "stream",
          "text": [
            "/usr/local/lib/python3.10/dist-packages/huggingface_hub/file_download.py:1132: FutureWarning: `resume_download` is deprecated and will be removed in version 1.0.0. Downloads always resume when possible. If you want to force a new download, use `force_download=True`.\n",
            "  warnings.warn(\n"
          ]
        },
        {
          "data": {
            "image/png": "[encoded data removed]",
            "text/plain": [
              "<Figure size 1000x600 with 1 Axes>"
            ]
          },
          "metadata": {},
          "output_type": "display_data"
        },
        {
          "data": {
            "text/plain": [
              "(range(367, 397),\n",
              " array([3541.27739117, 3514.24476617, 3505.23374465, 3532.26651617,\n",
              "        3541.27739117, 3532.26651617, 3496.22272314, 3460.17922314,\n",
              "        3451.16834814, 3406.11397314, 3478.20097314, 3460.17922314,\n",
              "        3505.23374465, 3496.22286966, 3469.19009814, 3469.19009814,\n",
              "        3415.12484814, 3415.12484814, 3460.17922314, 3496.22272314,\n",
              "        3550.28811965, 3478.20111966, 3514.24461965, 3550.28826617,\n",
              "        3622.37526616, 3586.33176617, 3595.34264117, 3559.29914117,\n",
              "        3550.28826617, 3577.32089117]))"
            ]
          },
          "execution_count": 10,
          "metadata": {},
          "output_type": "execute_result"
        }
      ],
      "source": [
        "predict_and_plot_crypto_data('ETH',crypto_data_dict, prediction_length=30)"
      ]
    },
    {
      "cell_type": "code",
      "execution_count": 10,
      "metadata": {
        "id": "dF49N6fHJB12"
      },
      "outputs": [],
      "source": []
    },
    {
      "cell_type": "code",
      "execution_count": 11,
      "metadata": {
        "colab": {
          "base_uri": "https://localhost:8080/",
          "height": 775
        },
        "id": "O8bQ-Z_gJDAk",
        "outputId": "f136b3d6-b3f8-4b83-9e52-b1fb287fdfd5"
      },
      "outputs": [
        {
          "name": "stderr",
          "output_type": "stream",
          "text": [
            "/usr/local/lib/python3.10/dist-packages/huggingface_hub/file_download.py:1132: FutureWarning: `resume_download` is deprecated and will be removed in version 1.0.0. Downloads always resume when possible. If you want to force a new download, use `force_download=True`.\n",
            "  warnings.warn(\n"
          ]
        },
        {
          "data": {
            "image/png": "[encoded data removed]",
            "text/plain": [
              "<Figure size 1000x600 with 1 Axes>"
            ]
          },
          "metadata": {},
          "output_type": "display_data"
        },
        {
          "data": {
            "text/plain": [
              "(range(367, 397),\n",
              " array([597.32778443, 593.43215119, 593.43215119, 589.53651795,\n",
              "        589.53651795, 590.83507644, 588.23798057, 588.23798057,\n",
              "        592.13361381, 585.64090582, 586.93944319, 588.23798057,\n",
              "        593.43215119, 589.53651795, 599.92485919, 594.73068857,\n",
              "        597.32778443, 589.53651795, 594.73070968, 594.73068857,\n",
              "        594.73068857, 596.02922594, 605.11900869, 590.83505532,\n",
              "        606.41754607, 605.11900869, 596.02924706, 598.6263007 ,\n",
              "        588.23798057, 599.92485919]))"
            ]
          },
          "execution_count": 11,
          "metadata": {},
          "output_type": "execute_result"
        }
      ],
      "source": [
        "predict_and_plot_crypto_data('BNB',crypto_data_dict, prediction_length=30)"
      ]
    },
    {
      "cell_type": "code",
      "execution_count": 12,
      "metadata": {
        "colab": {
          "base_uri": "https://localhost:8080/",
          "height": 775
        },
        "id": "60axOrgEa1_d",
        "outputId": "c8ddd419-3911-45fe-85e2-1dbfe09d143c"
      },
      "outputs": [
        {
          "name": "stderr",
          "output_type": "stream",
          "text": [
            "/usr/local/lib/python3.10/dist-packages/huggingface_hub/file_download.py:1132: FutureWarning: `resume_download` is deprecated and will be removed in version 1.0.0. Downloads always resume when possible. If you want to force a new download, use `force_download=True`.\n",
            "  warnings.warn(\n"
          ]
        },
        {
          "data": {
            "image/png": "[encoded data removed]",
            "text/plain": [
              "<Figure size 1000x600 with 1 Axes>"
            ]
          },
          "metadata": {},
          "output_type": "display_data"
        },
        {
          "data": {
            "text/plain": [
              "(range(367, 397),\n",
              " array([64557.35399303, 64722.04095661, 64722.04095661, 64557.35399303,\n",
              "        63569.22685585, 64392.66702944, 63733.91649727, 63733.91649727,\n",
              "        63733.91381943, 64392.66702944, 64227.97738802, 64063.29042444,\n",
              "        62745.79203793, 64227.97738802, 64722.04095661, 64557.35131519,\n",
              "        64392.66435161, 63898.60078302, 63898.60078302, 64227.98006586,\n",
              "        64063.29042444, 64227.97738802, 64063.29042444, 63569.22953369,\n",
              "        64392.66702944, 64392.66702944, 64722.04095661, 65545.47577453,\n",
              "        65710.16273811, 66039.53666528]))"
            ]
          },
          "execution_count": 12,
          "metadata": {},
          "output_type": "execute_result"
        }
      ],
      "source": [
        "predict_and_plot_crypto_data('BTC',crypto_data_dict, prediction_length=30)"
      ]
    },
    {
      "cell_type": "code",
      "execution_count": 12,
      "metadata": {
        "id": "tHXdAGRga2uj"
      },
      "outputs": [],
      "source": []
    },
    {
      "cell_type": "markdown",
      "metadata": {
        "id": "IHwxu8DgKSqR"
      },
      "source": [
        "## Testing the accuracy"
      ]
    },
    {
      "cell_type": "code",
      "execution_count": 53,
      "metadata": {
        "id": "hiAjigvDKYhD"
      },
      "outputs": [],
      "source": [
        "# Define the crypto coins data source dictionary\n",
        "crypto_data_dict = {\n",
        "    'BTC': \"/content/drive/MyDrive/backtesting/datas/yfinance/BTC-USD.csv\",\n",
        "    'BNB': \"/content/drive/MyDrive/backtesting/datas/yfinance/BNB-USD.csv\",\n",
        "    'ETH': \"/content/drive/MyDrive/backtesting/datas/yfinance/ETH-USD.csv\"\n",
        "}"
      ]
    },
    {
      "cell_type": "code",
      "execution_count": 54,
      "metadata": {
        "colab": {
          "base_uri": "https://localhost:8080/",
          "height": 206
        },
        "id": "_pV4n8zkKkrZ",
        "outputId": "e77a5c5a-e625-422c-9723-36e32345591e"
      },
      "outputs": [
        {
          "data": {
            "application/vnd.google.colaboratory.intrinsic+json": {
              "summary": "{\n  \"name\": \"bnb\",\n  \"rows\": 367,\n  \"fields\": [\n    {\n      \"column\": \"Date\",\n      \"properties\": {\n        \"dtype\": \"object\",\n        \"num_unique_values\": 367,\n        \"samples\": [\n          \"2023-12-30\",\n          \"2023-07-23\",\n          \"2023-07-05\"\n        ],\n        \"semantic_type\": \"\",\n        \"description\": \"\"\n      }\n    },\n    {\n      \"column\": \"Open\",\n      \"properties\": {\n        \"dtype\": \"number\",\n        \"std\": 156.35783578416468,\n        \"min\": 205.2258,\n        \"max\": 710.460388,\n        \"num_unique_values\": 367,\n        \"samples\": [\n          313.841949,\n          241.054657,\n          242.499481\n        ],\n        \"semantic_type\": \"\",\n        \"description\": \"\"\n      }\n    },\n    {\n      \"column\": \"High\",\n      \"properties\": {\n        \"dtype\": \"number\",\n        \"std\": 160.59017849855874,\n        \"min\": 206.659103,\n        \"max\": 720.672607,\n        \"num_unique_values\": 367,\n        \"samples\": [\n          320.111572,\n          243.976486,\n          243.861115\n        ],\n        \"semantic_type\": \"\",\n        \"description\": \"\"\n      }\n    },\n    {\n      \"column\": \"Low\",\n      \"properties\": {\n        \"dtype\": \"number\",\n        \"std\": 151.5776883642462,\n        \"min\": 203.655441,\n        \"max\": 692.994751,\n        \"num_unique_values\": 367,\n        \"samples\": [\n          313.560059,\n          240.761215,\n          237.120117\n        ],\n        \"semantic_type\": \"\",\n        \"description\": \"\"\n      }\n    },\n    {\n      \"column\": \"Close\",\n      \"properties\": {\n        \"dtype\": \"number\",\n        \"std\": 156.76779673717954,\n        \"min\": 205.229416,\n        \"max\": 710.46405,\n        \"num_unique_values\": 367,\n        \"samples\": [\n          317.166199,\n          242.455963,\n          239.081085\n        ],\n        \"semantic_type\": \"\",\n        \"description\": \"\"\n      }\n    },\n    {\n      \"column\": \"Adj Close\",\n      \"properties\": {\n        \"dtype\": \"number\",\n        \"std\": 156.76779673717954,\n        \"min\": 205.229416,\n        \"max\": 710.46405,\n        \"num_unique_values\": 367,\n        \"samples\": [\n          317.166199,\n          242.455963,\n          239.081085\n        ],\n        \"semantic_type\": \"\",\n        \"description\": \"\"\n      }\n    },\n    {\n      \"column\": \"Volume\",\n      \"properties\": {\n        \"dtype\": \"number\",\n        \"std\": 936135344,\n        \"min\": 203846460,\n        \"max\": 5849156503,\n        \"num_unique_values\": 367,\n        \"samples\": [\n          901159404,\n          279600847,\n          455501209\n        ],\n        \"semantic_type\": \"\",\n        \"description\": \"\"\n      }\n    }\n  ]\n}",
              "type": "dataframe",
              "variable_name": "bnb"
            },
            "text/html": [
              "\n",
              "  <div id=\"df-7756c3de-62cb-4ac7-933b-acaeef01f926\" class=\"colab-df-container\">\n",
              "    <div>\n",
              "<style scoped>\n",
              "    .dataframe tbody tr th:only-of-type {\n",
              "        vertical-align: middle;\n",
              "    }\n",
              "\n",
              "    .dataframe tbody tr th {\n",
              "        vertical-align: top;\n",
              "    }\n",
              "\n",
              "    .dataframe thead th {\n",
              "        text-align: right;\n",
              "    }\n",
              "</style>\n",
              "<table border=\"1\" class=\"dataframe\">\n",
              "  <thead>\n",
              "    <tr style=\"text-align: right;\">\n",
              "      <th></th>\n",
              "      <th>Date</th>\n",
              "      <th>Open</th>\n",
              "      <th>High</th>\n",
              "      <th>Low</th>\n",
              "      <th>Close</th>\n",
              "      <th>Adj Close</th>\n",
              "      <th>Volume</th>\n",
              "    </tr>\n",
              "  </thead>\n",
              "  <tbody>\n",
              "    <tr>\n",
              "      <th>0</th>\n",
              "      <td>2023-06-20</td>\n",
              "      <td>242.881851</td>\n",
              "      <td>247.822693</td>\n",
              "      <td>239.018738</td>\n",
              "      <td>247.674438</td>\n",
              "      <td>247.674438</td>\n",
              "      <td>477391843</td>\n",
              "    </tr>\n",
              "    <tr>\n",
              "      <th>1</th>\n",
              "      <td>2023-06-21</td>\n",
              "      <td>247.682938</td>\n",
              "      <td>253.541931</td>\n",
              "      <td>245.548248</td>\n",
              "      <td>249.286346</td>\n",
              "      <td>249.286346</td>\n",
              "      <td>717670519</td>\n",
              "    </tr>\n",
              "    <tr>\n",
              "      <th>2</th>\n",
              "      <td>2023-06-22</td>\n",
              "      <td>249.276474</td>\n",
              "      <td>256.220032</td>\n",
              "      <td>240.052200</td>\n",
              "      <td>240.792435</td>\n",
              "      <td>240.792435</td>\n",
              "      <td>709030407</td>\n",
              "    </tr>\n",
              "    <tr>\n",
              "      <th>3</th>\n",
              "      <td>2023-06-23</td>\n",
              "      <td>240.792053</td>\n",
              "      <td>248.809784</td>\n",
              "      <td>240.094818</td>\n",
              "      <td>244.564941</td>\n",
              "      <td>244.564941</td>\n",
              "      <td>493157882</td>\n",
              "    </tr>\n",
              "    <tr>\n",
              "      <th>4</th>\n",
              "      <td>2023-06-24</td>\n",
              "      <td>244.553513</td>\n",
              "      <td>248.428619</td>\n",
              "      <td>231.994751</td>\n",
              "      <td>236.659653</td>\n",
              "      <td>236.659653</td>\n",
              "      <td>558809140</td>\n",
              "    </tr>\n",
              "  </tbody>\n",
              "</table>\n",
              "</div>\n",
              "    <div class=\"colab-df-buttons\">\n",
              "\n",
              "  <div class=\"colab-df-container\">\n",
              "    <button class=\"colab-df-convert\" onclick=\"convertToInteractive('df-7756c3de-62cb-4ac7-933b-acaeef01f926')\"\n",
              "            title=\"Convert this dataframe to an interactive table.\"\n",
              "            style=\"display:none;\">\n",
              "\n",
              "  <svg xmlns=\"http://www.w3.org/2000/svg\" height=\"24px\" viewBox=\"0 -960 960 960\">\n",
              "    <path d=\"M120-120v-720h720v720H120Zm60-500h600v-160H180v160Zm220 220h160v-160H400v160Zm0 220h160v-160H400v160ZM180-400h160v-160H180v160Zm440 0h160v-160H620v160ZM180-180h160v-160H180v160Zm440 0h160v-160H620v160Z\"/>\n",
              "  </svg>\n",
              "    </button>\n",
              "\n",
              "  <style>\n",
              "    .colab-df-container {\n",
              "      display:flex;\n",
              "      gap: 12px;\n",
              "    }\n",
              "\n",
              "    .colab-df-convert {\n",
              "      background-color: #E8F0FE;\n",
              "      border: none;\n",
              "      border-radius: 50%;\n",
              "      cursor: pointer;\n",
              "      display: none;\n",
              "      fill: #1967D2;\n",
              "      height: 32px;\n",
              "      padding: 0 0 0 0;\n",
              "      width: 32px;\n",
              "    }\n",
              "\n",
              "    .colab-df-convert:hover {\n",
              "      background-color: #E2EBFA;\n",
              "      box-shadow: 0px 1px 2px rgba(60, 64, 67, 0.3), 0px 1px 3px 1px rgba(60, 64, 67, 0.15);\n",
              "      fill: #174EA6;\n",
              "    }\n",
              "\n",
              "    .colab-df-buttons div {\n",
              "      margin-bottom: 4px;\n",
              "    }\n",
              "\n",
              "    [theme=dark] .colab-df-convert {\n",
              "      background-color: #3B4455;\n",
              "      fill: #D2E3FC;\n",
              "    }\n",
              "\n",
              "    [theme=dark] .colab-df-convert:hover {\n",
              "      background-color: #434B5C;\n",
              "      box-shadow: 0px 1px 3px 1px rgba(0, 0, 0, 0.15);\n",
              "      filter: drop-shadow(0px 1px 2px rgba(0, 0, 0, 0.3));\n",
              "      fill: #FFFFFF;\n",
              "    }\n",
              "  </style>\n",
              "\n",
              "    <script>\n",
              "      const buttonEl =\n",
              "        document.querySelector('#df-7756c3de-62cb-4ac7-933b-acaeef01f926 button.colab-df-convert');\n",
              "      buttonEl.style.display =\n",
              "        google.colab.kernel.accessAllowed ? 'block' : 'none';\n",
              "\n",
              "      async function convertToInteractive(key) {\n",
              "        const element = document.querySelector('#df-7756c3de-62cb-4ac7-933b-acaeef01f926');\n",
              "        const dataTable =\n",
              "          await google.colab.kernel.invokeFunction('convertToInteractive',\n",
              "                                                    [key], {});\n",
              "        if (!dataTable) return;\n",
              "\n",
              "        const docLinkHtml = 'Like what you see? Visit the ' +\n",
              "          '<a target=\"_blank\" href=https://colab.research.google.com/notebooks/data_table.ipynb>data table notebook</a>'\n",
              "          + ' to learn more about interactive tables.';\n",
              "        element.innerHTML = '';\n",
              "        dataTable['output_type'] = 'display_data';\n",
              "        await google.colab.output.renderOutput(dataTable, element);\n",
              "        const docLink = document.createElement('div');\n",
              "        docLink.innerHTML = docLinkHtml;\n",
              "        element.appendChild(docLink);\n",
              "      }\n",
              "    </script>\n",
              "  </div>\n",
              "\n",
              "\n",
              "<div id=\"df-56532cb9-4973-459b-bc85-1cd28072c0cf\">\n",
              "  <button class=\"colab-df-quickchart\" onclick=\"quickchart('df-56532cb9-4973-459b-bc85-1cd28072c0cf')\"\n",
              "            title=\"Suggest charts\"\n",
              "            style=\"display:none;\">\n",
              "\n",
              "<svg xmlns=\"http://www.w3.org/2000/svg\" height=\"24px\"viewBox=\"0 0 24 24\"\n",
              "     width=\"24px\">\n",
              "    <g>\n",
              "        <path d=\"M19 3H5c-1.1 0-2 .9-2 2v14c0 1.1.9 2 2 2h14c1.1 0 2-.9 2-2V5c0-1.1-.9-2-2-2zM9 17H7v-7h2v7zm4 0h-2V7h2v10zm4 0h-2v-4h2v4z\"/>\n",
              "    </g>\n",
              "</svg>\n",
              "  </button>\n",
              "\n",
              "<style>\n",
              "  .colab-df-quickchart {\n",
              "      --bg-color: #E8F0FE;\n",
              "      --fill-color: #1967D2;\n",
              "      --hover-bg-color: #E2EBFA;\n",
              "      --hover-fill-color: #174EA6;\n",
              "      --disabled-fill-color: #AAA;\n",
              "      --disabled-bg-color: #DDD;\n",
              "  }\n",
              "\n",
              "  [theme=dark] .colab-df-quickchart {\n",
              "      --bg-color: #3B4455;\n",
              "      --fill-color: #D2E3FC;\n",
              "      --hover-bg-color: #434B5C;\n",
              "      --hover-fill-color: #FFFFFF;\n",
              "      --disabled-bg-color: #3B4455;\n",
              "      --disabled-fill-color: #666;\n",
              "  }\n",
              "\n",
              "  .colab-df-quickchart {\n",
              "    background-color: var(--bg-color);\n",
              "    border: none;\n",
              "    border-radius: 50%;\n",
              "    cursor: pointer;\n",
              "    display: none;\n",
              "    fill: var(--fill-color);\n",
              "    height: 32px;\n",
              "    padding: 0;\n",
              "    width: 32px;\n",
              "  }\n",
              "\n",
              "  .colab-df-quickchart:hover {\n",
              "    background-color: var(--hover-bg-color);\n",
              "    box-shadow: 0 1px 2px rgba(60, 64, 67, 0.3), 0 1px 3px 1px rgba(60, 64, 67, 0.15);\n",
              "    fill: var(--button-hover-fill-color);\n",
              "  }\n",
              "\n",
              "  .colab-df-quickchart-complete:disabled,\n",
              "  .colab-df-quickchart-complete:disabled:hover {\n",
              "    background-color: var(--disabled-bg-color);\n",
              "    fill: var(--disabled-fill-color);\n",
              "    box-shadow: none;\n",
              "  }\n",
              "\n",
              "  .colab-df-spinner {\n",
              "    border: 2px solid var(--fill-color);\n",
              "    border-color: transparent;\n",
              "    border-bottom-color: var(--fill-color);\n",
              "    animation:\n",
              "      spin 1s steps(1) infinite;\n",
              "  }\n",
              "\n",
              "  @keyframes spin {\n",
              "    0% {\n",
              "      border-color: transparent;\n",
              "      border-bottom-color: var(--fill-color);\n",
              "      border-left-color: var(--fill-color);\n",
              "    }\n",
              "    20% {\n",
              "      border-color: transparent;\n",
              "      border-left-color: var(--fill-color);\n",
              "      border-top-color: var(--fill-color);\n",
              "    }\n",
              "    30% {\n",
              "      border-color: transparent;\n",
              "      border-left-color: var(--fill-color);\n",
              "      border-top-color: var(--fill-color);\n",
              "      border-right-color: var(--fill-color);\n",
              "    }\n",
              "    40% {\n",
              "      border-color: transparent;\n",
              "      border-right-color: var(--fill-color);\n",
              "      border-top-color: var(--fill-color);\n",
              "    }\n",
              "    60% {\n",
              "      border-color: transparent;\n",
              "      border-right-color: var(--fill-color);\n",
              "    }\n",
              "    80% {\n",
              "      border-color: transparent;\n",
              "      border-right-color: var(--fill-color);\n",
              "      border-bottom-color: var(--fill-color);\n",
              "    }\n",
              "    90% {\n",
              "      border-color: transparent;\n",
              "      border-bottom-color: var(--fill-color);\n",
              "    }\n",
              "  }\n",
              "</style>\n",
              "\n",
              "  <script>\n",
              "    async function quickchart(key) {\n",
              "      const quickchartButtonEl =\n",
              "        document.querySelector('#' + key + ' button');\n",
              "      quickchartButtonEl.disabled = true;  // To prevent multiple clicks.\n",
              "      quickchartButtonEl.classList.add('colab-df-spinner');\n",
              "      try {\n",
              "        const charts = await google.colab.kernel.invokeFunction(\n",
              "            'suggestCharts', [key], {});\n",
              "      } catch (error) {\n",
              "        console.error('Error during call to suggestCharts:', error);\n",
              "      }\n",
              "      quickchartButtonEl.classList.remove('colab-df-spinner');\n",
              "      quickchartButtonEl.classList.add('colab-df-quickchart-complete');\n",
              "    }\n",
              "    (() => {\n",
              "      let quickchartButtonEl =\n",
              "        document.querySelector('#df-56532cb9-4973-459b-bc85-1cd28072c0cf button');\n",
              "      quickchartButtonEl.style.display =\n",
              "        google.colab.kernel.accessAllowed ? 'block' : 'none';\n",
              "    })();\n",
              "  </script>\n",
              "</div>\n",
              "\n",
              "    </div>\n",
              "  </div>\n"
            ],
            "text/plain": [
              "         Date        Open        High         Low       Close   Adj Close  \\\n",
              "0  2023-06-20  242.881851  247.822693  239.018738  247.674438  247.674438   \n",
              "1  2023-06-21  247.682938  253.541931  245.548248  249.286346  249.286346   \n",
              "2  2023-06-22  249.276474  256.220032  240.052200  240.792435  240.792435   \n",
              "3  2023-06-23  240.792053  248.809784  240.094818  244.564941  244.564941   \n",
              "4  2023-06-24  244.553513  248.428619  231.994751  236.659653  236.659653   \n",
              "\n",
              "      Volume  \n",
              "0  477391843  \n",
              "1  717670519  \n",
              "2  709030407  \n",
              "3  493157882  \n",
              "4  558809140  "
            ]
          },
          "execution_count": 54,
          "metadata": {},
          "output_type": "execute_result"
        }
      ],
      "source": [
        "csv_file = crypto_data_dict['BNB']\n",
        "bnb = pd.read_csv(csv_file)\n",
        "\n",
        "bnb.head()"
      ]
    },
    {
      "cell_type": "code",
      "execution_count": 55,
      "metadata": {
        "colab": {
          "base_uri": "https://localhost:8080/"
        },
        "id": "sVSss9byKrhh",
        "outputId": "1438f587-e70b-4cab-8f87-cd6f6417c125"
      },
      "outputs": [
        {
          "data": {
            "text/plain": [
              "('2023-06-20', '2024-06-20')"
            ]
          },
          "execution_count": 55,
          "metadata": {},
          "output_type": "execute_result"
        }
      ],
      "source": [
        "bnb['Date'].min(), bnb['Date'].max()"
      ]
    },
    {
      "cell_type": "code",
      "execution_count": 56,
      "metadata": {
        "colab": {
          "base_uri": "https://localhost:8080/"
        },
        "id": "mX2Bx2HmLVjM",
        "outputId": "d02d94b8-3ac0-4d61-ad8a-8a6e08d5023e"
      },
      "outputs": [
        {
          "data": {
            "text/plain": [
              "dtype('O')"
            ]
          },
          "execution_count": 56,
          "metadata": {},
          "output_type": "execute_result"
        }
      ],
      "source": [
        "bnb['Date'].dtypes"
      ]
    },
    {
      "cell_type": "markdown",
      "metadata": {
        "id": "IrtxxW3JPTOe"
      },
      "source": []
    },
    {
      "cell_type": "code",
      "execution_count": 57,
      "metadata": {
        "colab": {
          "base_uri": "https://localhost:8080/"
        },
        "id": "SRmfrcD0L4LC",
        "outputId": "48cc2484-b001-44bd-bfcb-c364eef472f6"
      },
      "outputs": [
        {
          "name": "stdout",
          "output_type": "stream",
          "text": [
            "366.0\n"
          ]
        }
      ],
      "source": [
        "import pandas as pd\n",
        "import numpy as np\n",
        "\n",
        "\n",
        "bnb['Date'] = pd.to_datetime(bnb['Date'])\n",
        "\n",
        "num_days = (bnb['Date'].max() - bnb['Date'].min()) / np.timedelta64(1, 'D')  # for days\n",
        "num_hours = (bnb['Date'].max() - bnb['Date'].min()) / np.timedelta64(1, 'h')  # for hours\n",
        "print(num_days)\n"
      ]
    },
    {
      "cell_type": "code",
      "execution_count": 58,
      "metadata": {
        "colab": {
          "base_uri": "https://localhost:8080/"
        },
        "id": "Ja8nQ_MklWLN",
        "outputId": "341866ab-1fc8-4647-fe71-4027e3ed1389"
      },
      "outputs": [
        {
          "data": {
            "text/plain": [
              "Date         datetime64[ns]\n",
              "Open                float64\n",
              "High                float64\n",
              "Low                 float64\n",
              "Close               float64\n",
              "Adj Close           float64\n",
              "Volume                int64\n",
              "dtype: object"
            ]
          },
          "execution_count": 58,
          "metadata": {},
          "output_type": "execute_result"
        }
      ],
      "source": [
        "import pandas as pd\n",
        "\n",
        "# Sample DataFrame with 366 rows and a 'Date' column (replace with your actual data)\n",
        "#dates = pd.date_range(start='2023-06-20', periods=366)\n",
        "#df = pd.DataFrame({'Date': dates})\n",
        "\n",
        "\n",
        "#print(bnb_test)\n",
        "\n",
        "bnb_test = bnb[249:320]  # Select small portion for detail\n",
        "\n",
        "bnb_test.dtypes\n",
        "\n",
        "\n"
      ]
    },
    {
      "cell_type": "code",
      "execution_count": 62,
      "metadata": {
        "colab": {
          "base_uri": "https://localhost:8080/"
        },
        "id": "GhkGtq5VglxK",
        "outputId": "0eec89c1-e6c8-4526-cfcf-ee6d8b620b1a"
      },
      "outputs": [
        {
          "data": {
            "text/plain": [
              "(47, 7)"
            ]
          },
          "execution_count": 62,
          "metadata": {},
          "output_type": "execute_result"
        }
      ],
      "source": [
        "# Create bnb_rest with the remaining rows after the first 300\n",
        "bnb_rest = bnb.iloc[320:].copy()\n",
        "bnb_rest.shape\n"
      ]
    },
    {
      "cell_type": "code",
      "execution_count": 24,
      "metadata": {
        "colab": {
          "base_uri": "https://localhost:8080/",
          "height": 424
        },
        "id": "9-d0yL3i5IY1",
        "outputId": "5f30b49c-c828-43b0-a058-292d67bf4762"
      },
      "outputs": [
        {
          "data": {
            "application/vnd.google.colaboratory.intrinsic+json": {
              "summary": "{\n  \"name\": \"bnb_test\",\n  \"rows\": 71,\n  \"fields\": [\n    {\n      \"column\": \"Date\",\n      \"properties\": {\n        \"dtype\": \"date\",\n        \"min\": \"2024-02-24 00:00:00\",\n        \"max\": \"2024-05-04 00:00:00\",\n        \"num_unique_values\": 71,\n        \"samples\": [\n          \"2024-03-17 00:00:00\",\n          \"2024-02-24 00:00:00\",\n          \"2024-04-13 00:00:00\"\n        ],\n        \"semantic_type\": \"\",\n        \"description\": \"\"\n      }\n    },\n    {\n      \"column\": \"Open\",\n      \"properties\": {\n        \"dtype\": \"number\",\n        \"std\": 72.76317248146842,\n        \"min\": 375.323822,\n        \"max\": 632.802795,\n        \"num_unique_values\": 71,\n        \"samples\": [\n          576.775208,\n          375.323822,\n          596.374939\n        ],\n        \"semantic_type\": \"\",\n        \"description\": \"\"\n      }\n    },\n    {\n      \"column\": \"High\",\n      \"properties\": {\n        \"dtype\": \"number\",\n        \"std\": 72.24542626088744,\n        \"min\": 383.0737,\n        \"max\": 641.48114,\n        \"num_unique_values\": 71,\n        \"samples\": [\n          589.635681,\n          383.0737,\n          599.891968\n        ],\n        \"semantic_type\": \"\",\n        \"description\": \"\"\n      }\n    },\n    {\n      \"column\": \"Low\",\n      \"properties\": {\n        \"dtype\": \"number\",\n        \"std\": 69.68650071363751,\n        \"min\": 363.220642,\n        \"max\": 601.777466,\n        \"num_unique_values\": 71,\n        \"samples\": [\n          550.14325,\n          371.999146,\n          517.270081\n        ],\n        \"semantic_type\": \"\",\n        \"description\": \"\"\n      }\n    },\n    {\n      \"column\": \"Close\",\n      \"properties\": {\n        \"dtype\": \"number\",\n        \"std\": 70.15787720726388,\n        \"min\": 381.742798,\n        \"max\": 632.802795,\n        \"num_unique_values\": 71,\n        \"samples\": [\n          571.085571,\n          381.742798,\n          554.299805\n        ],\n        \"semantic_type\": \"\",\n        \"description\": \"\"\n      }\n    },\n    {\n      \"column\": \"Adj Close\",\n      \"properties\": {\n        \"dtype\": \"number\",\n        \"std\": 70.15787720726388,\n        \"min\": 381.742798,\n        \"max\": 632.802795,\n        \"num_unique_values\": 71,\n        \"samples\": [\n          571.085571,\n          381.742798,\n          554.299805\n        ],\n        \"semantic_type\": \"\",\n        \"description\": \"\"\n      }\n    },\n    {\n      \"column\": \"Volume\",\n      \"properties\": {\n        \"dtype\": \"number\",\n        \"std\": 1196677690,\n        \"min\": 582273374,\n        \"max\": 5849156503,\n        \"num_unique_values\": 71,\n        \"samples\": [\n          3512190982,\n          1088410661,\n          2660310655\n        ],\n        \"semantic_type\": \"\",\n        \"description\": \"\"\n      }\n    }\n  ]\n}",
              "type": "dataframe",
              "variable_name": "bnb_test"
            },
            "text/html": [
              "\n",
              "  <div id=\"df-06be62b2-0a24-4255-aeab-87e1d6cf854a\" class=\"colab-df-container\">\n",
              "    <div>\n",
              "<style scoped>\n",
              "    .dataframe tbody tr th:only-of-type {\n",
              "        vertical-align: middle;\n",
              "    }\n",
              "\n",
              "    .dataframe tbody tr th {\n",
              "        vertical-align: top;\n",
              "    }\n",
              "\n",
              "    .dataframe thead th {\n",
              "        text-align: right;\n",
              "    }\n",
              "</style>\n",
              "<table border=\"1\" class=\"dataframe\">\n",
              "  <thead>\n",
              "    <tr style=\"text-align: right;\">\n",
              "      <th></th>\n",
              "      <th>Date</th>\n",
              "      <th>Open</th>\n",
              "      <th>High</th>\n",
              "      <th>Low</th>\n",
              "      <th>Close</th>\n",
              "      <th>Adj Close</th>\n",
              "      <th>Volume</th>\n",
              "    </tr>\n",
              "  </thead>\n",
              "  <tbody>\n",
              "    <tr>\n",
              "      <th>249</th>\n",
              "      <td>2024-02-24</td>\n",
              "      <td>375.323822</td>\n",
              "      <td>383.073700</td>\n",
              "      <td>371.999146</td>\n",
              "      <td>381.742798</td>\n",
              "      <td>381.742798</td>\n",
              "      <td>1088410661</td>\n",
              "    </tr>\n",
              "    <tr>\n",
              "      <th>250</th>\n",
              "      <td>2024-02-25</td>\n",
              "      <td>381.742615</td>\n",
              "      <td>390.450104</td>\n",
              "      <td>378.128571</td>\n",
              "      <td>388.551727</td>\n",
              "      <td>388.551727</td>\n",
              "      <td>1324081579</td>\n",
              "    </tr>\n",
              "    <tr>\n",
              "      <th>251</th>\n",
              "      <td>2024-02-26</td>\n",
              "      <td>388.535004</td>\n",
              "      <td>404.440094</td>\n",
              "      <td>382.256866</td>\n",
              "      <td>401.643890</td>\n",
              "      <td>401.643890</td>\n",
              "      <td>2011146388</td>\n",
              "    </tr>\n",
              "    <tr>\n",
              "      <th>252</th>\n",
              "      <td>2024-02-27</td>\n",
              "      <td>401.643890</td>\n",
              "      <td>403.740051</td>\n",
              "      <td>390.917877</td>\n",
              "      <td>394.995636</td>\n",
              "      <td>394.995636</td>\n",
              "      <td>1750697179</td>\n",
              "    </tr>\n",
              "    <tr>\n",
              "      <th>253</th>\n",
              "      <td>2024-02-28</td>\n",
              "      <td>394.951721</td>\n",
              "      <td>427.046814</td>\n",
              "      <td>394.661072</td>\n",
              "      <td>415.771606</td>\n",
              "      <td>415.771606</td>\n",
              "      <td>2323818531</td>\n",
              "    </tr>\n",
              "    <tr>\n",
              "      <th>...</th>\n",
              "      <td>...</td>\n",
              "      <td>...</td>\n",
              "      <td>...</td>\n",
              "      <td>...</td>\n",
              "      <td>...</td>\n",
              "      <td>...</td>\n",
              "      <td>...</td>\n",
              "    </tr>\n",
              "    <tr>\n",
              "      <th>315</th>\n",
              "      <td>2024-04-30</td>\n",
              "      <td>592.831787</td>\n",
              "      <td>603.322815</td>\n",
              "      <td>556.170898</td>\n",
              "      <td>578.488037</td>\n",
              "      <td>578.488037</td>\n",
              "      <td>1727881192</td>\n",
              "    </tr>\n",
              "    <tr>\n",
              "      <th>316</th>\n",
              "      <td>2024-05-01</td>\n",
              "      <td>578.487488</td>\n",
              "      <td>579.332947</td>\n",
              "      <td>538.046448</td>\n",
              "      <td>561.408203</td>\n",
              "      <td>561.408203</td>\n",
              "      <td>1502825527</td>\n",
              "    </tr>\n",
              "    <tr>\n",
              "      <th>317</th>\n",
              "      <td>2024-05-02</td>\n",
              "      <td>561.408203</td>\n",
              "      <td>565.457397</td>\n",
              "      <td>543.522339</td>\n",
              "      <td>560.526733</td>\n",
              "      <td>560.526733</td>\n",
              "      <td>877449354</td>\n",
              "    </tr>\n",
              "    <tr>\n",
              "      <th>318</th>\n",
              "      <td>2024-05-03</td>\n",
              "      <td>560.526733</td>\n",
              "      <td>590.244812</td>\n",
              "      <td>559.446716</td>\n",
              "      <td>587.010437</td>\n",
              "      <td>587.010437</td>\n",
              "      <td>854728192</td>\n",
              "    </tr>\n",
              "    <tr>\n",
              "      <th>319</th>\n",
              "      <td>2024-05-04</td>\n",
              "      <td>587.018433</td>\n",
              "      <td>593.193420</td>\n",
              "      <td>583.299377</td>\n",
              "      <td>585.846558</td>\n",
              "      <td>585.846558</td>\n",
              "      <td>582273374</td>\n",
              "    </tr>\n",
              "  </tbody>\n",
              "</table>\n",
              "<p>71 rows × 7 columns</p>\n",
              "</div>\n",
              "    <div class=\"colab-df-buttons\">\n",
              "\n",
              "  <div class=\"colab-df-container\">\n",
              "    <button class=\"colab-df-convert\" onclick=\"convertToInteractive('df-06be62b2-0a24-4255-aeab-87e1d6cf854a')\"\n",
              "            title=\"Convert this dataframe to an interactive table.\"\n",
              "            style=\"display:none;\">\n",
              "\n",
              "  <svg xmlns=\"http://www.w3.org/2000/svg\" height=\"24px\" viewBox=\"0 -960 960 960\">\n",
              "    <path d=\"M120-120v-720h720v720H120Zm60-500h600v-160H180v160Zm220 220h160v-160H400v160Zm0 220h160v-160H400v160ZM180-400h160v-160H180v160Zm440 0h160v-160H620v160ZM180-180h160v-160H180v160Zm440 0h160v-160H620v160Z\"/>\n",
              "  </svg>\n",
              "    </button>\n",
              "\n",
              "  <style>\n",
              "    .colab-df-container {\n",
              "      display:flex;\n",
              "      gap: 12px;\n",
              "    }\n",
              "\n",
              "    .colab-df-convert {\n",
              "      background-color: #E8F0FE;\n",
              "      border: none;\n",
              "      border-radius: 50%;\n",
              "      cursor: pointer;\n",
              "      display: none;\n",
              "      fill: #1967D2;\n",
              "      height: 32px;\n",
              "      padding: 0 0 0 0;\n",
              "      width: 32px;\n",
              "    }\n",
              "\n",
              "    .colab-df-convert:hover {\n",
              "      background-color: #E2EBFA;\n",
              "      box-shadow: 0px 1px 2px rgba(60, 64, 67, 0.3), 0px 1px 3px 1px rgba(60, 64, 67, 0.15);\n",
              "      fill: #174EA6;\n",
              "    }\n",
              "\n",
              "    .colab-df-buttons div {\n",
              "      margin-bottom: 4px;\n",
              "    }\n",
              "\n",
              "    [theme=dark] .colab-df-convert {\n",
              "      background-color: #3B4455;\n",
              "      fill: #D2E3FC;\n",
              "    }\n",
              "\n",
              "    [theme=dark] .colab-df-convert:hover {\n",
              "      background-color: #434B5C;\n",
              "      box-shadow: 0px 1px 3px 1px rgba(0, 0, 0, 0.15);\n",
              "      filter: drop-shadow(0px 1px 2px rgba(0, 0, 0, 0.3));\n",
              "      fill: #FFFFFF;\n",
              "    }\n",
              "  </style>\n",
              "\n",
              "    <script>\n",
              "      const buttonEl =\n",
              "        document.querySelector('#df-06be62b2-0a24-4255-aeab-87e1d6cf854a button.colab-df-convert');\n",
              "      buttonEl.style.display =\n",
              "        google.colab.kernel.accessAllowed ? 'block' : 'none';\n",
              "\n",
              "      async function convertToInteractive(key) {\n",
              "        const element = document.querySelector('#df-06be62b2-0a24-4255-aeab-87e1d6cf854a');\n",
              "        const dataTable =\n",
              "          await google.colab.kernel.invokeFunction('convertToInteractive',\n",
              "                                                    [key], {});\n",
              "        if (!dataTable) return;\n",
              "\n",
              "        const docLinkHtml = 'Like what you see? Visit the ' +\n",
              "          '<a target=\"_blank\" href=https://colab.research.google.com/notebooks/data_table.ipynb>data table notebook</a>'\n",
              "          + ' to learn more about interactive tables.';\n",
              "        element.innerHTML = '';\n",
              "        dataTable['output_type'] = 'display_data';\n",
              "        await google.colab.output.renderOutput(dataTable, element);\n",
              "        const docLink = document.createElement('div');\n",
              "        docLink.innerHTML = docLinkHtml;\n",
              "        element.appendChild(docLink);\n",
              "      }\n",
              "    </script>\n",
              "  </div>\n",
              "\n",
              "\n",
              "<div id=\"df-2f0bee74-2bc9-4497-9676-e2210f88ae39\">\n",
              "  <button class=\"colab-df-quickchart\" onclick=\"quickchart('df-2f0bee74-2bc9-4497-9676-e2210f88ae39')\"\n",
              "            title=\"Suggest charts\"\n",
              "            style=\"display:none;\">\n",
              "\n",
              "<svg xmlns=\"http://www.w3.org/2000/svg\" height=\"24px\"viewBox=\"0 0 24 24\"\n",
              "     width=\"24px\">\n",
              "    <g>\n",
              "        <path d=\"M19 3H5c-1.1 0-2 .9-2 2v14c0 1.1.9 2 2 2h14c1.1 0 2-.9 2-2V5c0-1.1-.9-2-2-2zM9 17H7v-7h2v7zm4 0h-2V7h2v10zm4 0h-2v-4h2v4z\"/>\n",
              "    </g>\n",
              "</svg>\n",
              "  </button>\n",
              "\n",
              "<style>\n",
              "  .colab-df-quickchart {\n",
              "      --bg-color: #E8F0FE;\n",
              "      --fill-color: #1967D2;\n",
              "      --hover-bg-color: #E2EBFA;\n",
              "      --hover-fill-color: #174EA6;\n",
              "      --disabled-fill-color: #AAA;\n",
              "      --disabled-bg-color: #DDD;\n",
              "  }\n",
              "\n",
              "  [theme=dark] .colab-df-quickchart {\n",
              "      --bg-color: #3B4455;\n",
              "      --fill-color: #D2E3FC;\n",
              "      --hover-bg-color: #434B5C;\n",
              "      --hover-fill-color: #FFFFFF;\n",
              "      --disabled-bg-color: #3B4455;\n",
              "      --disabled-fill-color: #666;\n",
              "  }\n",
              "\n",
              "  .colab-df-quickchart {\n",
              "    background-color: var(--bg-color);\n",
              "    border: none;\n",
              "    border-radius: 50%;\n",
              "    cursor: pointer;\n",
              "    display: none;\n",
              "    fill: var(--fill-color);\n",
              "    height: 32px;\n",
              "    padding: 0;\n",
              "    width: 32px;\n",
              "  }\n",
              "\n",
              "  .colab-df-quickchart:hover {\n",
              "    background-color: var(--hover-bg-color);\n",
              "    box-shadow: 0 1px 2px rgba(60, 64, 67, 0.3), 0 1px 3px 1px rgba(60, 64, 67, 0.15);\n",
              "    fill: var(--button-hover-fill-color);\n",
              "  }\n",
              "\n",
              "  .colab-df-quickchart-complete:disabled,\n",
              "  .colab-df-quickchart-complete:disabled:hover {\n",
              "    background-color: var(--disabled-bg-color);\n",
              "    fill: var(--disabled-fill-color);\n",
              "    box-shadow: none;\n",
              "  }\n",
              "\n",
              "  .colab-df-spinner {\n",
              "    border: 2px solid var(--fill-color);\n",
              "    border-color: transparent;\n",
              "    border-bottom-color: var(--fill-color);\n",
              "    animation:\n",
              "      spin 1s steps(1) infinite;\n",
              "  }\n",
              "\n",
              "  @keyframes spin {\n",
              "    0% {\n",
              "      border-color: transparent;\n",
              "      border-bottom-color: var(--fill-color);\n",
              "      border-left-color: var(--fill-color);\n",
              "    }\n",
              "    20% {\n",
              "      border-color: transparent;\n",
              "      border-left-color: var(--fill-color);\n",
              "      border-top-color: var(--fill-color);\n",
              "    }\n",
              "    30% {\n",
              "      border-color: transparent;\n",
              "      border-left-color: var(--fill-color);\n",
              "      border-top-color: var(--fill-color);\n",
              "      border-right-color: var(--fill-color);\n",
              "    }\n",
              "    40% {\n",
              "      border-color: transparent;\n",
              "      border-right-color: var(--fill-color);\n",
              "      border-top-color: var(--fill-color);\n",
              "    }\n",
              "    60% {\n",
              "      border-color: transparent;\n",
              "      border-right-color: var(--fill-color);\n",
              "    }\n",
              "    80% {\n",
              "      border-color: transparent;\n",
              "      border-right-color: var(--fill-color);\n",
              "      border-bottom-color: var(--fill-color);\n",
              "    }\n",
              "    90% {\n",
              "      border-color: transparent;\n",
              "      border-bottom-color: var(--fill-color);\n",
              "    }\n",
              "  }\n",
              "</style>\n",
              "\n",
              "  <script>\n",
              "    async function quickchart(key) {\n",
              "      const quickchartButtonEl =\n",
              "        document.querySelector('#' + key + ' button');\n",
              "      quickchartButtonEl.disabled = true;  // To prevent multiple clicks.\n",
              "      quickchartButtonEl.classList.add('colab-df-spinner');\n",
              "      try {\n",
              "        const charts = await google.colab.kernel.invokeFunction(\n",
              "            'suggestCharts', [key], {});\n",
              "      } catch (error) {\n",
              "        console.error('Error during call to suggestCharts:', error);\n",
              "      }\n",
              "      quickchartButtonEl.classList.remove('colab-df-spinner');\n",
              "      quickchartButtonEl.classList.add('colab-df-quickchart-complete');\n",
              "    }\n",
              "    (() => {\n",
              "      let quickchartButtonEl =\n",
              "        document.querySelector('#df-2f0bee74-2bc9-4497-9676-e2210f88ae39 button');\n",
              "      quickchartButtonEl.style.display =\n",
              "        google.colab.kernel.accessAllowed ? 'block' : 'none';\n",
              "    })();\n",
              "  </script>\n",
              "</div>\n",
              "\n",
              "  <div id=\"id_a78dd4a7-34ff-4056-9652-3070b6daf2e9\">\n",
              "    <style>\n",
              "      .colab-df-generate {\n",
              "        background-color: #E8F0FE;\n",
              "        border: none;\n",
              "        border-radius: 50%;\n",
              "        cursor: pointer;\n",
              "        display: none;\n",
              "        fill: #1967D2;\n",
              "        height: 32px;\n",
              "        padding: 0 0 0 0;\n",
              "        width: 32px;\n",
              "      }\n",
              "\n",
              "      .colab-df-generate:hover {\n",
              "        background-color: #E2EBFA;\n",
              "        box-shadow: 0px 1px 2px rgba(60, 64, 67, 0.3), 0px 1px 3px 1px rgba(60, 64, 67, 0.15);\n",
              "        fill: #174EA6;\n",
              "      }\n",
              "\n",
              "      [theme=dark] .colab-df-generate {\n",
              "        background-color: #3B4455;\n",
              "        fill: #D2E3FC;\n",
              "      }\n",
              "\n",
              "      [theme=dark] .colab-df-generate:hover {\n",
              "        background-color: #434B5C;\n",
              "        box-shadow: 0px 1px 3px 1px rgba(0, 0, 0, 0.15);\n",
              "        filter: drop-shadow(0px 1px 2px rgba(0, 0, 0, 0.3));\n",
              "        fill: #FFFFFF;\n",
              "      }\n",
              "    </style>\n",
              "    <button class=\"colab-df-generate\" onclick=\"generateWithVariable('bnb_test')\"\n",
              "            title=\"Generate code using this dataframe.\"\n",
              "            style=\"display:none;\">\n",
              "\n",
              "  <svg xmlns=\"http://www.w3.org/2000/svg\" height=\"24px\"viewBox=\"0 0 24 24\"\n",
              "       width=\"24px\">\n",
              "    <path d=\"M7,19H8.4L18.45,9,17,7.55,7,17.6ZM5,21V16.75L18.45,3.32a2,2,0,0,1,2.83,0l1.4,1.43a1.91,1.91,0,0,1,.58,1.4,1.91,1.91,0,0,1-.58,1.4L9.25,21ZM18.45,9,17,7.55Zm-12,3A5.31,5.31,0,0,0,4.9,8.1,5.31,5.31,0,0,0,1,6.5,5.31,5.31,0,0,0,4.9,4.9,5.31,5.31,0,0,0,6.5,1,5.31,5.31,0,0,0,8.1,4.9,5.31,5.31,0,0,0,12,6.5,5.46,5.46,0,0,0,6.5,12Z\"/>\n",
              "  </svg>\n",
              "    </button>\n",
              "    <script>\n",
              "      (() => {\n",
              "      const buttonEl =\n",
              "        document.querySelector('#id_a78dd4a7-34ff-4056-9652-3070b6daf2e9 button.colab-df-generate');\n",
              "      buttonEl.style.display =\n",
              "        google.colab.kernel.accessAllowed ? 'block' : 'none';\n",
              "\n",
              "      buttonEl.onclick = () => {\n",
              "        google.colab.notebook.generateWithVariable('bnb_test');\n",
              "      }\n",
              "      })();\n",
              "    </script>\n",
              "  </div>\n",
              "\n",
              "    </div>\n",
              "  </div>\n"
            ],
            "text/plain": [
              "          Date        Open        High         Low       Close   Adj Close  \\\n",
              "249 2024-02-24  375.323822  383.073700  371.999146  381.742798  381.742798   \n",
              "250 2024-02-25  381.742615  390.450104  378.128571  388.551727  388.551727   \n",
              "251 2024-02-26  388.535004  404.440094  382.256866  401.643890  401.643890   \n",
              "252 2024-02-27  401.643890  403.740051  390.917877  394.995636  394.995636   \n",
              "253 2024-02-28  394.951721  427.046814  394.661072  415.771606  415.771606   \n",
              "..         ...         ...         ...         ...         ...         ...   \n",
              "315 2024-04-30  592.831787  603.322815  556.170898  578.488037  578.488037   \n",
              "316 2024-05-01  578.487488  579.332947  538.046448  561.408203  561.408203   \n",
              "317 2024-05-02  561.408203  565.457397  543.522339  560.526733  560.526733   \n",
              "318 2024-05-03  560.526733  590.244812  559.446716  587.010437  587.010437   \n",
              "319 2024-05-04  587.018433  593.193420  583.299377  585.846558  585.846558   \n",
              "\n",
              "         Volume  \n",
              "249  1088410661  \n",
              "250  1324081579  \n",
              "251  2011146388  \n",
              "252  1750697179  \n",
              "253  2323818531  \n",
              "..          ...  \n",
              "315  1727881192  \n",
              "316  1502825527  \n",
              "317   877449354  \n",
              "318   854728192  \n",
              "319   582273374  \n",
              "\n",
              "[71 rows x 7 columns]"
            ]
          },
          "execution_count": 24,
          "metadata": {},
          "output_type": "execute_result"
        }
      ],
      "source": [
        "bnb_old = bnb_test\n",
        "bnb_old"
      ]
    },
    {
      "cell_type": "code",
      "execution_count": 63,
      "metadata": {
        "colab": {
          "base_uri": "https://localhost:8080/"
        },
        "id": "WAohoPCgiJ1j",
        "outputId": "93bf27b1-d966-44d4-958b-30491d8d7f82"
      },
      "outputs": [
        {
          "data": {
            "text/plain": [
              "(71, 47)"
            ]
          },
          "execution_count": 63,
          "metadata": {},
          "output_type": "execute_result"
        }
      ],
      "source": [
        "len(bnb_test), len(bnb_rest)"
      ]
    },
    {
      "cell_type": "code",
      "execution_count": 33,
      "metadata": {
        "id": "VatoCWcZsDt5"
      },
      "outputs": [],
      "source": [
        "#last_index = df.iloc[-1].name  # Access the row label (index)\n",
        "#last_index"
      ]
    },
    {
      "cell_type": "code",
      "execution_count": 26,
      "metadata": {
        "id": "DvBWZjIzgl90"
      },
      "outputs": [],
      "source": [
        "import pandas as pd\n",
        "import torch\n",
        "from chronos import ChronosPipeline\n",
        "import matplotlib.pyplot as plt\n",
        "import numpy as np\n",
        "\n",
        "\n",
        "\n",
        "def predict_and_plot_crypto_data(\n",
        "    model_name=\"amazon/chronos-t5-small\",\n",
        "    prediction_length=12,\n",
        "    num_samples=20):\n",
        "\n",
        "    # Load data for the specified coin\n",
        "    #csv_file = crypto_data_dict[coin_name]\n",
        "\n",
        "    df = bnb_test\n",
        "    coin_name = 'bnb'\n",
        "\n",
        "\n",
        "\n",
        "    # Initialize Chronos pipeline\n",
        "    pipeline = ChronosPipeline.from_pretrained(\n",
        "        model_name,\n",
        "        device_map=\"cpu\",  # use \"cpu\" for CPU inference and \"mps\" for Apple Silicon\n",
        "        torch_dtype=torch.bfloat16,\n",
        "    )\n",
        "\n",
        "\n",
        "    # Convert closing prices to PyTorch tensor\n",
        "    context = torch.tensor(df[\"Close\"].values)\n",
        "\n",
        "    # Perform prediction\n",
        "    forecast = pipeline.predict(\n",
        "        context=context,\n",
        "        prediction_length=prediction_length,\n",
        "        num_samples=num_samples,\n",
        "    )\n",
        "\n",
        "    # Generate forecast index for plotting\n",
        "    forecast_index = range(df.index[-1], df.index[-1] + prediction_length)\n",
        "    low, median, high = np.quantile(forecast[0].numpy(), [0.1, 0.5, 0.9], axis=0)\n",
        "\n",
        "\n",
        "\n",
        "    # Extract median predictions\n",
        "    median_predictions = np.median(forecast[0].numpy(), axis=0)\n",
        "\n",
        "    # Add predicted values to DataFrame\n",
        "    #df['Predicted_Close'] = np.nan  # Create a new column for predicted values\n",
        "    #df.loc[df.index[-1]:df.index[-1]+prediction_length-1, 'Predicted_Close'] = median_predictions\n",
        "    #df = bnb_forcast\n",
        "\n",
        "    # Append predicted values as a new row to DataFrame\n",
        "    #predicted_df = pd.DataFrame({'Predicted_Close': median_predictions})\n",
        "    #df = df.append(predicted_df, ignore_index=True)\n",
        "\n",
        "\n",
        "\n",
        "    # Create DataFrame for predicted values\n",
        "    predicted_values = pd.DataFrame({'Predicted_Close': median_predictions})\n",
        "\n",
        "    # Option 1: Append predicted values to existing DataFrame (if needed)\n",
        "    # df = df.append(predicted_values, ignore_index=True)  # Uncomment if needed\n",
        "\n",
        "    # Option 2: Update existing DataFrame (if preferred)\n",
        "    # df['Predicted_Close'] = median_predictions  # Uncomment if preferred\n",
        "\n",
        "    # Return the predicted values DataFrame\n",
        "\n",
        "\n",
        "\n",
        "    # Plot and visualize predictions\n",
        "    plt.figure(figsize=(10, 6))  # Adjust figure size as needed\n",
        "    plt.plot(df[\"Close\"], label=\"History\")\n",
        "    plt.plot(forecast_index, median, label=\"Median Prediction\")\n",
        "    plt.fill_between(forecast_index, low, high, alpha=0.2, label=\"Prediction Range\")\n",
        "    plt.title(f\"Predicted {coin_name} Prices\")\n",
        "    plt.xlabel(\"Time\")\n",
        "    plt.ylabel(\"Price\")\n",
        "    plt.legend()\n",
        "    plt.grid(True)  # Add gridlines\n",
        "    plt.show()\n",
        "\n",
        "    #return forecast_index, median  # Optionally return forecast data for further use\n",
        "    return predicted_values"
      ]
    },
    {
      "cell_type": "code",
      "execution_count": 39,
      "metadata": {
        "colab": {
          "base_uri": "https://localhost:8080/",
          "height": 619
        },
        "id": "atGpucP0ijHn",
        "outputId": "cff2f33c-d69d-4852-9422-63f9faf21428"
      },
      "outputs": [
        {
          "name": "stderr",
          "output_type": "stream",
          "text": [
            "/usr/local/lib/python3.10/dist-packages/huggingface_hub/file_download.py:1132: FutureWarning: `resume_download` is deprecated and will be removed in version 1.0.0. Downloads always resume when possible. If you want to force a new download, use `force_download=True`.\n",
            "  warnings.warn(\n"
          ]
        },
        {
          "data": {
            "image/png": "[encoded data removed]",
            "text/plain": [
              "<Figure size 1000x600 with 1 Axes>"
            ]
          },
          "metadata": {},
          "output_type": "display_data"
        }
      ],
      "source": [
        "predicted_df = predict_and_plot_crypto_data(prediction_length=47)"
      ]
    },
    {
      "cell_type": "markdown",
      "metadata": {
        "id": "OUUX6vSsuYA-"
      },
      "source": [
        "So here, we have tested to predict the date range of 320 - 366\n",
        "based on our historical data we know the values of the coin on the specified dates\n",
        "\n",
        "#### For comparison"
      ]
    },
    {
      "cell_type": "code",
      "execution_count": 68,
      "metadata": {
        "colab": {
          "base_uri": "https://localhost:8080/"
        },
        "id": "4tZYfgZlhAXY",
        "outputId": "8c9318db-2574-46ce-f2c7-a61f458488d5"
      },
      "outputs": [
        {
          "data": {
            "text/plain": [
              "0     589.984723\n",
              "1     585.998344\n",
              "2     574.039173\n",
              "3     578.025585\n",
              "4     570.052794\n",
              "5     568.059604\n",
              "6     564.073193\n",
              "7     550.120865\n",
              "8     520.223004\n",
              "9     508.263850\n",
              "10    508.263850\n",
              "11    486.338763\n",
              "12    472.386403\n",
              "13    466.406834\n",
              "14    454.447680\n",
              "15    448.468095\n",
              "16    460.427265\n",
              "17    466.406834\n",
              "18    458.434076\n",
              "19    438.502147\n",
              "20    442.488526\n",
              "21    440.495336\n",
              "22    426.543009\n",
              "23    416.577044\n",
              "24    422.556613\n",
              "25    422.556629\n",
              "26    430.529388\n",
              "27    428.536198\n",
              "28    440.495353\n",
              "29    442.488542\n",
              "30    430.529372\n",
              "31    432.522578\n",
              "32    440.495336\n",
              "33    460.427265\n",
              "34    470.393214\n",
              "35    462.420439\n",
              "36    484.345558\n",
              "37    512.250229\n",
              "38    502.284281\n",
              "39    514.243419\n",
              "40    524.209383\n",
              "41    548.127675\n",
              "42    566.066382\n",
              "43    589.984723\n",
              "44    566.066382\n",
              "45    584.005154\n",
              "46    552.114055\n",
              "Name: Predicted_Close, dtype: float64"
            ]
          },
          "execution_count": 68,
          "metadata": {},
          "output_type": "execute_result"
        }
      ],
      "source": [
        "predicted_df['Predicted_Close']"
      ]
    },
    {
      "cell_type": "code",
      "execution_count": null,
      "metadata": {},
      "outputs": [],
      "source": []
    },
    {
      "cell_type": "code",
      "execution_count": null,
      "metadata": {},
      "outputs": [],
      "source": []
    },
    {
      "cell_type": "code",
      "execution_count": 71,
      "metadata": {
        "colab": {
          "base_uri": "https://localhost:8080/"
        },
        "collapsed": true,
        "id": "m9nQp-e5e6e5",
        "outputId": "c87a129b-c5fc-4654-c0b1-af6c8bf49524"
      },
      "outputs": [
        {
          "name": "stdout",
          "output_type": "stream",
          "text": [
            "          Date        Open        High         Low       Close   Adj Close  \\\n",
            "320 2024-05-05  585.846558  594.995300  580.246277  592.140381  592.140381   \n",
            "321 2024-05-06  592.139893  601.886719  583.373413  588.475952  588.475952   \n",
            "322 2024-05-07  588.475952  599.935486  576.724548  577.486206  577.486206   \n",
            "323 2024-05-08  577.486206  589.572571  575.148010  588.197449  588.197449   \n",
            "324 2024-05-09  588.197449  602.589722  586.730347  596.031982  596.031982   \n",
            "325 2024-05-10  596.027649  596.583374  582.045776  585.622192  585.622192   \n",
            "326 2024-05-11  585.622192  594.206543  581.896667  592.027893  592.027893   \n",
            "327 2024-05-12  592.029175  599.184143  587.804321  594.424561  594.424561   \n",
            "328 2024-05-13  594.424561  597.768005  585.520752  591.606934  591.606934   \n",
            "329 2024-05-14  591.606934  592.836975  563.420227  566.707031  566.707031   \n",
            "330 2024-05-15  566.707031  587.421509  561.127258  582.074341  582.074341   \n",
            "331 2024-05-16  582.100159  586.436340  565.762329  569.190247  569.190247   \n",
            "332 2024-05-17  569.190247  584.666016  568.836731  581.178345  581.178345   \n",
            "333 2024-05-18  581.178345  581.987183  575.018555  580.481140  580.481140   \n",
            "334 2024-05-19  580.481567  581.876709  572.369629  574.631653  574.631653   \n",
            "335 2024-05-20  574.631653  601.563843  569.523560  600.616333  600.616333   \n",
            "336 2024-05-21  600.601074  629.861084  593.932739  618.420471  618.420471   \n",
            "337 2024-05-22  618.420471  625.566284  610.546021  614.671875  614.671875   \n",
            "338 2024-05-23  614.671875  616.524475  581.954102  598.670837  598.670837   \n",
            "339 2024-05-24  598.670837  604.314880  588.893982  600.225891  600.225891   \n",
            "340 2024-05-25  600.226624  606.367310  599.607239  602.194458  602.194458   \n",
            "341 2024-05-26  602.194458  604.830078  598.695862  599.825928  599.825928   \n",
            "342 2024-05-27  599.825928  613.388184  599.700745  603.526428  603.526428   \n",
            "343 2024-05-28  603.526428  604.985107  593.716187  601.213257  601.213257   \n",
            "344 2024-05-29  601.213257  602.931519  592.966614  594.972046  594.972046   \n",
            "345 2024-05-30  594.972534  601.665039  586.557678  595.026794  595.026794   \n",
            "346 2024-05-31  595.026794  598.423645  589.774841  593.522339  593.522339   \n",
            "347 2024-06-01  593.522339  607.582886  592.680603  601.304199  601.304199   \n",
            "348 2024-06-02  601.304138  604.978088  596.164795  603.026611  603.026611   \n",
            "349 2024-06-03  603.050964  637.247131  601.183167  626.432983  626.432983   \n",
            "350 2024-06-04  626.432983  687.403809  625.264954  686.201416  686.201416   \n",
            "351 2024-06-05  686.201416  712.588379  685.777100  698.889404  698.889404   \n",
            "352 2024-06-06  698.889404  720.672607  692.994751  710.464050  710.464050   \n",
            "353 2024-06-07  710.460388  710.838501  665.180176  683.360962  683.360962   \n",
            "354 2024-06-08  683.368591  694.312805  678.645813  682.665161  682.665161   \n",
            "355 2024-06-09  682.663879  684.759888  670.813538  673.315308  673.315308   \n",
            "356 2024-06-10  673.335449  674.313477  615.772949  624.386841  624.386841   \n",
            "357 2024-06-11  624.396790  628.263367  597.041870  602.558105  602.558105   \n",
            "358 2024-06-12  602.602600  634.675842  592.293274  619.194824  619.194824   \n",
            "359 2024-06-13  619.225159  619.298584  596.308777  599.515076  599.515076   \n",
            "360 2024-06-14  599.478699  611.628723  590.496338  603.180542  603.180542   \n",
            "361 2024-06-15  603.114197  609.050476  601.585938  607.802917  607.802917   \n",
            "362 2024-06-16  607.808472  611.197510  601.476929  610.054016  610.054016   \n",
            "363 2024-06-17  610.073669  611.944031  592.426147  604.467346  604.467346   \n",
            "364 2024-06-18  604.332886  604.652832  575.761719  588.702087  588.702087   \n",
            "365 2024-06-19  588.584717  605.731689  587.014160  598.771729  598.771729   \n",
            "366 2024-06-20  598.771729  606.963440  593.955811  596.702332  596.702332   \n",
            "\n",
            "         Volume  Predicted_Close  \n",
            "320   531182053       589.984723  \n",
            "321  1522319999       585.998344  \n",
            "322  1535678414       574.039173  \n",
            "323  1603241013       578.025585  \n",
            "324  1897318659       570.052794  \n",
            "325  1521708160       568.059604  \n",
            "326  1333662111       564.073193  \n",
            "327  1276671115       550.120865  \n",
            "328  1636169234       520.223004  \n",
            "329  1944063031       508.263850  \n",
            "330  1895100260       508.263850  \n",
            "331  1911862000       486.338763  \n",
            "332  1557134929       472.386403  \n",
            "333  1358737176       466.406834  \n",
            "334  1298887094       454.447680  \n",
            "335  2145457267       448.468095  \n",
            "336  3564986916       460.427265  \n",
            "337  2138536549       466.406834  \n",
            "338  2631566566       458.434076  \n",
            "339  1778282198       438.502147  \n",
            "340  1392399167       442.488526  \n",
            "341  1372657185       440.495336  \n",
            "342  1691663828       426.543009  \n",
            "343  1852329404       416.577044  \n",
            "344  1642696946       422.556613  \n",
            "345  1737524745       422.556629  \n",
            "346  1590349553       430.529388  \n",
            "347  1520074486       428.536198  \n",
            "348  1667233984       440.495353  \n",
            "349  2952110605       442.488542  \n",
            "350  3416994948       430.529372  \n",
            "351  3501231414       432.522578  \n",
            "352  2997888288       440.495336  \n",
            "353  2987033806       460.427265  \n",
            "354  1966216051       470.393214  \n",
            "355  1856183346       462.420439  \n",
            "356  3184376694       484.345558  \n",
            "357  2604834485       512.250229  \n",
            "358  2221546160       502.284281  \n",
            "359  1879189691       514.243419  \n",
            "360  1848914113       524.209383  \n",
            "361  1471028668       548.127675  \n",
            "362  1428836675       566.066382  \n",
            "363  1797626078       589.984723  \n",
            "364  2265505402       566.066382  \n",
            "365  1788904109       584.005154  \n",
            "366  1724393856       552.114055  \n"
          ]
        }
      ],
      "source": [
        "import pandas as pd\n",
        "\n",
        "# Check for length mismatch\n",
        "if len(bnb_rest) != len(predicted_df):\n",
        "  # Option 1: Extend the shorter DataFrame (adjust as needed)\n",
        "  if len(predicted_df) < len(bnb_rest):\n",
        "    predicted_df = predicted_df.pad(len(bnb_rest))  # Pad with last value\n",
        "  else:\n",
        "    predicted_df = predicted_df.iloc[:len(bnb_rest)]  # Truncate if longer\n",
        "\n",
        "# Check for index mismatch\n",
        "if not bnb_rest.index.equals(predicted_df.index):\n",
        "  predicted_df = predicted_df.set_index(bnb_rest.index)  # Set matching index\n",
        "\n",
        "# Now you can safely assign the values\n",
        "bnb_rest['Predicted_Close'] = predicted_df['Predicted_Close']\n",
        "\n",
        "print(bnb_rest)  # This should show 'bnb_rest' with the added 'Predicted_Close' column\n"
      ]
    },
    {
      "cell_type": "code",
      "execution_count": 69,
      "metadata": {
        "id": "xRPTOOTvYpV9"
      },
      "outputs": [],
      "source": [
        "#bnb_test = bnb[249:320]\n",
        "\n",
        "#bnb_rest.drop(['Volume', 'Predicted_Close'], axis=1, inplace=True)\n",
        "\n",
        "bnb_rest['Predicted_Close'] = predicted_df['Predicted_Close']\n",
        "bnb_rest['Predicted_Close']"
      ]
    },
    {
      "cell_type": "code",
      "execution_count": 75,
      "metadata": {
        "colab": {
          "base_uri": "https://localhost:8080/",
          "height": 1000
        },
        "id": "SibjLsjlxJf8",
        "outputId": "1e7a52a5-299f-4c41-f648-0df7a71843e9"
      },
      "outputs": [
        {
          "data": {
            "application/vnd.google.colaboratory.intrinsic+json": {
              "summary": "{\n  \"name\": \"bnb_rest[['Close', 'Adj Close', 'Predicted_Close']]\",\n  \"rows\": 47,\n  \"fields\": [\n    {\n      \"column\": \"Close\",\n      \"properties\": {\n        \"dtype\": \"number\",\n        \"std\": 33.866605805558535,\n        \"min\": 566.707031,\n        \"max\": 710.46405,\n        \"num_unique_values\": 47,\n        \"samples\": [\n          601.304199,\n          599.515076,\n          593.522339\n        ],\n        \"semantic_type\": \"\",\n        \"description\": \"\"\n      }\n    },\n    {\n      \"column\": \"Adj Close\",\n      \"properties\": {\n        \"dtype\": \"number\",\n        \"std\": 33.866605805558535,\n        \"min\": 566.707031,\n        \"max\": 710.46405,\n        \"num_unique_values\": 47,\n        \"samples\": [\n          601.304199,\n          599.515076,\n          593.522339\n        ],\n        \"semantic_type\": \"\",\n        \"description\": \"\"\n      }\n    },\n    {\n      \"column\": \"Predicted_Close\",\n      \"properties\": {\n        \"dtype\": \"number\",\n        \"std\": 57.48377215990282,\n        \"min\": 416.5770442983215,\n        \"max\": 589.9847230703235,\n        \"num_unique_values\": 41,\n        \"samples\": [\n          430.52938813110256,\n          454.4476802695887,\n          520.2230039064182\n        ],\n        \"semantic_type\": \"\",\n        \"description\": \"\"\n      }\n    }\n  ]\n}",
              "type": "dataframe"
            },
            "text/html": [
              "\n",
              "  <div id=\"df-85661589-3d29-414e-9c72-3d279a481c69\" class=\"colab-df-container\">\n",
              "    <div>\n",
              "<style scoped>\n",
              "    .dataframe tbody tr th:only-of-type {\n",
              "        vertical-align: middle;\n",
              "    }\n",
              "\n",
              "    .dataframe tbody tr th {\n",
              "        vertical-align: top;\n",
              "    }\n",
              "\n",
              "    .dataframe thead th {\n",
              "        text-align: right;\n",
              "    }\n",
              "</style>\n",
              "<table border=\"1\" class=\"dataframe\">\n",
              "  <thead>\n",
              "    <tr style=\"text-align: right;\">\n",
              "      <th></th>\n",
              "      <th>Close</th>\n",
              "      <th>Adj Close</th>\n",
              "      <th>Predicted_Close</th>\n",
              "    </tr>\n",
              "  </thead>\n",
              "  <tbody>\n",
              "    <tr>\n",
              "      <th>320</th>\n",
              "      <td>592.140381</td>\n",
              "      <td>592.140381</td>\n",
              "      <td>589.984723</td>\n",
              "    </tr>\n",
              "    <tr>\n",
              "      <th>321</th>\n",
              "      <td>588.475952</td>\n",
              "      <td>588.475952</td>\n",
              "      <td>585.998344</td>\n",
              "    </tr>\n",
              "    <tr>\n",
              "      <th>322</th>\n",
              "      <td>577.486206</td>\n",
              "      <td>577.486206</td>\n",
              "      <td>574.039173</td>\n",
              "    </tr>\n",
              "    <tr>\n",
              "      <th>323</th>\n",
              "      <td>588.197449</td>\n",
              "      <td>588.197449</td>\n",
              "      <td>578.025585</td>\n",
              "    </tr>\n",
              "    <tr>\n",
              "      <th>324</th>\n",
              "      <td>596.031982</td>\n",
              "      <td>596.031982</td>\n",
              "      <td>570.052794</td>\n",
              "    </tr>\n",
              "    <tr>\n",
              "      <th>325</th>\n",
              "      <td>585.622192</td>\n",
              "      <td>585.622192</td>\n",
              "      <td>568.059604</td>\n",
              "    </tr>\n",
              "    <tr>\n",
              "      <th>326</th>\n",
              "      <td>592.027893</td>\n",
              "      <td>592.027893</td>\n",
              "      <td>564.073193</td>\n",
              "    </tr>\n",
              "    <tr>\n",
              "      <th>327</th>\n",
              "      <td>594.424561</td>\n",
              "      <td>594.424561</td>\n",
              "      <td>550.120865</td>\n",
              "    </tr>\n",
              "    <tr>\n",
              "      <th>328</th>\n",
              "      <td>591.606934</td>\n",
              "      <td>591.606934</td>\n",
              "      <td>520.223004</td>\n",
              "    </tr>\n",
              "    <tr>\n",
              "      <th>329</th>\n",
              "      <td>566.707031</td>\n",
              "      <td>566.707031</td>\n",
              "      <td>508.263850</td>\n",
              "    </tr>\n",
              "    <tr>\n",
              "      <th>330</th>\n",
              "      <td>582.074341</td>\n",
              "      <td>582.074341</td>\n",
              "      <td>508.263850</td>\n",
              "    </tr>\n",
              "    <tr>\n",
              "      <th>331</th>\n",
              "      <td>569.190247</td>\n",
              "      <td>569.190247</td>\n",
              "      <td>486.338763</td>\n",
              "    </tr>\n",
              "    <tr>\n",
              "      <th>332</th>\n",
              "      <td>581.178345</td>\n",
              "      <td>581.178345</td>\n",
              "      <td>472.386403</td>\n",
              "    </tr>\n",
              "    <tr>\n",
              "      <th>333</th>\n",
              "      <td>580.481140</td>\n",
              "      <td>580.481140</td>\n",
              "      <td>466.406834</td>\n",
              "    </tr>\n",
              "    <tr>\n",
              "      <th>334</th>\n",
              "      <td>574.631653</td>\n",
              "      <td>574.631653</td>\n",
              "      <td>454.447680</td>\n",
              "    </tr>\n",
              "    <tr>\n",
              "      <th>335</th>\n",
              "      <td>600.616333</td>\n",
              "      <td>600.616333</td>\n",
              "      <td>448.468095</td>\n",
              "    </tr>\n",
              "    <tr>\n",
              "      <th>336</th>\n",
              "      <td>618.420471</td>\n",
              "      <td>618.420471</td>\n",
              "      <td>460.427265</td>\n",
              "    </tr>\n",
              "    <tr>\n",
              "      <th>337</th>\n",
              "      <td>614.671875</td>\n",
              "      <td>614.671875</td>\n",
              "      <td>466.406834</td>\n",
              "    </tr>\n",
              "    <tr>\n",
              "      <th>338</th>\n",
              "      <td>598.670837</td>\n",
              "      <td>598.670837</td>\n",
              "      <td>458.434076</td>\n",
              "    </tr>\n",
              "    <tr>\n",
              "      <th>339</th>\n",
              "      <td>600.225891</td>\n",
              "      <td>600.225891</td>\n",
              "      <td>438.502147</td>\n",
              "    </tr>\n",
              "    <tr>\n",
              "      <th>340</th>\n",
              "      <td>602.194458</td>\n",
              "      <td>602.194458</td>\n",
              "      <td>442.488526</td>\n",
              "    </tr>\n",
              "    <tr>\n",
              "      <th>341</th>\n",
              "      <td>599.825928</td>\n",
              "      <td>599.825928</td>\n",
              "      <td>440.495336</td>\n",
              "    </tr>\n",
              "    <tr>\n",
              "      <th>342</th>\n",
              "      <td>603.526428</td>\n",
              "      <td>603.526428</td>\n",
              "      <td>426.543009</td>\n",
              "    </tr>\n",
              "    <tr>\n",
              "      <th>343</th>\n",
              "      <td>601.213257</td>\n",
              "      <td>601.213257</td>\n",
              "      <td>416.577044</td>\n",
              "    </tr>\n",
              "    <tr>\n",
              "      <th>344</th>\n",
              "      <td>594.972046</td>\n",
              "      <td>594.972046</td>\n",
              "      <td>422.556613</td>\n",
              "    </tr>\n",
              "    <tr>\n",
              "      <th>345</th>\n",
              "      <td>595.026794</td>\n",
              "      <td>595.026794</td>\n",
              "      <td>422.556629</td>\n",
              "    </tr>\n",
              "    <tr>\n",
              "      <th>346</th>\n",
              "      <td>593.522339</td>\n",
              "      <td>593.522339</td>\n",
              "      <td>430.529388</td>\n",
              "    </tr>\n",
              "    <tr>\n",
              "      <th>347</th>\n",
              "      <td>601.304199</td>\n",
              "      <td>601.304199</td>\n",
              "      <td>428.536198</td>\n",
              "    </tr>\n",
              "    <tr>\n",
              "      <th>348</th>\n",
              "      <td>603.026611</td>\n",
              "      <td>603.026611</td>\n",
              "      <td>440.495353</td>\n",
              "    </tr>\n",
              "    <tr>\n",
              "      <th>349</th>\n",
              "      <td>626.432983</td>\n",
              "      <td>626.432983</td>\n",
              "      <td>442.488542</td>\n",
              "    </tr>\n",
              "    <tr>\n",
              "      <th>350</th>\n",
              "      <td>686.201416</td>\n",
              "      <td>686.201416</td>\n",
              "      <td>430.529372</td>\n",
              "    </tr>\n",
              "    <tr>\n",
              "      <th>351</th>\n",
              "      <td>698.889404</td>\n",
              "      <td>698.889404</td>\n",
              "      <td>432.522578</td>\n",
              "    </tr>\n",
              "    <tr>\n",
              "      <th>352</th>\n",
              "      <td>710.464050</td>\n",
              "      <td>710.464050</td>\n",
              "      <td>440.495336</td>\n",
              "    </tr>\n",
              "    <tr>\n",
              "      <th>353</th>\n",
              "      <td>683.360962</td>\n",
              "      <td>683.360962</td>\n",
              "      <td>460.427265</td>\n",
              "    </tr>\n",
              "    <tr>\n",
              "      <th>354</th>\n",
              "      <td>682.665161</td>\n",
              "      <td>682.665161</td>\n",
              "      <td>470.393214</td>\n",
              "    </tr>\n",
              "    <tr>\n",
              "      <th>355</th>\n",
              "      <td>673.315308</td>\n",
              "      <td>673.315308</td>\n",
              "      <td>462.420439</td>\n",
              "    </tr>\n",
              "    <tr>\n",
              "      <th>356</th>\n",
              "      <td>624.386841</td>\n",
              "      <td>624.386841</td>\n",
              "      <td>484.345558</td>\n",
              "    </tr>\n",
              "    <tr>\n",
              "      <th>357</th>\n",
              "      <td>602.558105</td>\n",
              "      <td>602.558105</td>\n",
              "      <td>512.250229</td>\n",
              "    </tr>\n",
              "    <tr>\n",
              "      <th>358</th>\n",
              "      <td>619.194824</td>\n",
              "      <td>619.194824</td>\n",
              "      <td>502.284281</td>\n",
              "    </tr>\n",
              "    <tr>\n",
              "      <th>359</th>\n",
              "      <td>599.515076</td>\n",
              "      <td>599.515076</td>\n",
              "      <td>514.243419</td>\n",
              "    </tr>\n",
              "    <tr>\n",
              "      <th>360</th>\n",
              "      <td>603.180542</td>\n",
              "      <td>603.180542</td>\n",
              "      <td>524.209383</td>\n",
              "    </tr>\n",
              "    <tr>\n",
              "      <th>361</th>\n",
              "      <td>607.802917</td>\n",
              "      <td>607.802917</td>\n",
              "      <td>548.127675</td>\n",
              "    </tr>\n",
              "    <tr>\n",
              "      <th>362</th>\n",
              "      <td>610.054016</td>\n",
              "      <td>610.054016</td>\n",
              "      <td>566.066382</td>\n",
              "    </tr>\n",
              "    <tr>\n",
              "      <th>363</th>\n",
              "      <td>604.467346</td>\n",
              "      <td>604.467346</td>\n",
              "      <td>589.984723</td>\n",
              "    </tr>\n",
              "    <tr>\n",
              "      <th>364</th>\n",
              "      <td>588.702087</td>\n",
              "      <td>588.702087</td>\n",
              "      <td>566.066382</td>\n",
              "    </tr>\n",
              "    <tr>\n",
              "      <th>365</th>\n",
              "      <td>598.771729</td>\n",
              "      <td>598.771729</td>\n",
              "      <td>584.005154</td>\n",
              "    </tr>\n",
              "    <tr>\n",
              "      <th>366</th>\n",
              "      <td>596.702332</td>\n",
              "      <td>596.702332</td>\n",
              "      <td>552.114055</td>\n",
              "    </tr>\n",
              "  </tbody>\n",
              "</table>\n",
              "</div>\n",
              "    <div class=\"colab-df-buttons\">\n",
              "\n",
              "  <div class=\"colab-df-container\">\n",
              "    <button class=\"colab-df-convert\" onclick=\"convertToInteractive('df-85661589-3d29-414e-9c72-3d279a481c69')\"\n",
              "            title=\"Convert this dataframe to an interactive table.\"\n",
              "            style=\"display:none;\">\n",
              "\n",
              "  <svg xmlns=\"http://www.w3.org/2000/svg\" height=\"24px\" viewBox=\"0 -960 960 960\">\n",
              "    <path d=\"M120-120v-720h720v720H120Zm60-500h600v-160H180v160Zm220 220h160v-160H400v160Zm0 220h160v-160H400v160ZM180-400h160v-160H180v160Zm440 0h160v-160H620v160ZM180-180h160v-160H180v160Zm440 0h160v-160H620v160Z\"/>\n",
              "  </svg>\n",
              "    </button>\n",
              "\n",
              "  <style>\n",
              "    .colab-df-container {\n",
              "      display:flex;\n",
              "      gap: 12px;\n",
              "    }\n",
              "\n",
              "    .colab-df-convert {\n",
              "      background-color: #E8F0FE;\n",
              "      border: none;\n",
              "      border-radius: 50%;\n",
              "      cursor: pointer;\n",
              "      display: none;\n",
              "      fill: #1967D2;\n",
              "      height: 32px;\n",
              "      padding: 0 0 0 0;\n",
              "      width: 32px;\n",
              "    }\n",
              "\n",
              "    .colab-df-convert:hover {\n",
              "      background-color: #E2EBFA;\n",
              "      box-shadow: 0px 1px 2px rgba(60, 64, 67, 0.3), 0px 1px 3px 1px rgba(60, 64, 67, 0.15);\n",
              "      fill: #174EA6;\n",
              "    }\n",
              "\n",
              "    .colab-df-buttons div {\n",
              "      margin-bottom: 4px;\n",
              "    }\n",
              "\n",
              "    [theme=dark] .colab-df-convert {\n",
              "      background-color: #3B4455;\n",
              "      fill: #D2E3FC;\n",
              "    }\n",
              "\n",
              "    [theme=dark] .colab-df-convert:hover {\n",
              "      background-color: #434B5C;\n",
              "      box-shadow: 0px 1px 3px 1px rgba(0, 0, 0, 0.15);\n",
              "      filter: drop-shadow(0px 1px 2px rgba(0, 0, 0, 0.3));\n",
              "      fill: #FFFFFF;\n",
              "    }\n",
              "  </style>\n",
              "\n",
              "    <script>\n",
              "      const buttonEl =\n",
              "        document.querySelector('#df-85661589-3d29-414e-9c72-3d279a481c69 button.colab-df-convert');\n",
              "      buttonEl.style.display =\n",
              "        google.colab.kernel.accessAllowed ? 'block' : 'none';\n",
              "\n",
              "      async function convertToInteractive(key) {\n",
              "        const element = document.querySelector('#df-85661589-3d29-414e-9c72-3d279a481c69');\n",
              "        const dataTable =\n",
              "          await google.colab.kernel.invokeFunction('convertToInteractive',\n",
              "                                                    [key], {});\n",
              "        if (!dataTable) return;\n",
              "\n",
              "        const docLinkHtml = 'Like what you see? Visit the ' +\n",
              "          '<a target=\"_blank\" href=https://colab.research.google.com/notebooks/data_table.ipynb>data table notebook</a>'\n",
              "          + ' to learn more about interactive tables.';\n",
              "        element.innerHTML = '';\n",
              "        dataTable['output_type'] = 'display_data';\n",
              "        await google.colab.output.renderOutput(dataTable, element);\n",
              "        const docLink = document.createElement('div');\n",
              "        docLink.innerHTML = docLinkHtml;\n",
              "        element.appendChild(docLink);\n",
              "      }\n",
              "    </script>\n",
              "  </div>\n",
              "\n",
              "\n",
              "<div id=\"df-dcbcd6b2-bdf7-4da8-b7e2-b8f46f95a311\">\n",
              "  <button class=\"colab-df-quickchart\" onclick=\"quickchart('df-dcbcd6b2-bdf7-4da8-b7e2-b8f46f95a311')\"\n",
              "            title=\"Suggest charts\"\n",
              "            style=\"display:none;\">\n",
              "\n",
              "<svg xmlns=\"http://www.w3.org/2000/svg\" height=\"24px\"viewBox=\"0 0 24 24\"\n",
              "     width=\"24px\">\n",
              "    <g>\n",
              "        <path d=\"M19 3H5c-1.1 0-2 .9-2 2v14c0 1.1.9 2 2 2h14c1.1 0 2-.9 2-2V5c0-1.1-.9-2-2-2zM9 17H7v-7h2v7zm4 0h-2V7h2v10zm4 0h-2v-4h2v4z\"/>\n",
              "    </g>\n",
              "</svg>\n",
              "  </button>\n",
              "\n",
              "<style>\n",
              "  .colab-df-quickchart {\n",
              "      --bg-color: #E8F0FE;\n",
              "      --fill-color: #1967D2;\n",
              "      --hover-bg-color: #E2EBFA;\n",
              "      --hover-fill-color: #174EA6;\n",
              "      --disabled-fill-color: #AAA;\n",
              "      --disabled-bg-color: #DDD;\n",
              "  }\n",
              "\n",
              "  [theme=dark] .colab-df-quickchart {\n",
              "      --bg-color: #3B4455;\n",
              "      --fill-color: #D2E3FC;\n",
              "      --hover-bg-color: #434B5C;\n",
              "      --hover-fill-color: #FFFFFF;\n",
              "      --disabled-bg-color: #3B4455;\n",
              "      --disabled-fill-color: #666;\n",
              "  }\n",
              "\n",
              "  .colab-df-quickchart {\n",
              "    background-color: var(--bg-color);\n",
              "    border: none;\n",
              "    border-radius: 50%;\n",
              "    cursor: pointer;\n",
              "    display: none;\n",
              "    fill: var(--fill-color);\n",
              "    height: 32px;\n",
              "    padding: 0;\n",
              "    width: 32px;\n",
              "  }\n",
              "\n",
              "  .colab-df-quickchart:hover {\n",
              "    background-color: var(--hover-bg-color);\n",
              "    box-shadow: 0 1px 2px rgba(60, 64, 67, 0.3), 0 1px 3px 1px rgba(60, 64, 67, 0.15);\n",
              "    fill: var(--button-hover-fill-color);\n",
              "  }\n",
              "\n",
              "  .colab-df-quickchart-complete:disabled,\n",
              "  .colab-df-quickchart-complete:disabled:hover {\n",
              "    background-color: var(--disabled-bg-color);\n",
              "    fill: var(--disabled-fill-color);\n",
              "    box-shadow: none;\n",
              "  }\n",
              "\n",
              "  .colab-df-spinner {\n",
              "    border: 2px solid var(--fill-color);\n",
              "    border-color: transparent;\n",
              "    border-bottom-color: var(--fill-color);\n",
              "    animation:\n",
              "      spin 1s steps(1) infinite;\n",
              "  }\n",
              "\n",
              "  @keyframes spin {\n",
              "    0% {\n",
              "      border-color: transparent;\n",
              "      border-bottom-color: var(--fill-color);\n",
              "      border-left-color: var(--fill-color);\n",
              "    }\n",
              "    20% {\n",
              "      border-color: transparent;\n",
              "      border-left-color: var(--fill-color);\n",
              "      border-top-color: var(--fill-color);\n",
              "    }\n",
              "    30% {\n",
              "      border-color: transparent;\n",
              "      border-left-color: var(--fill-color);\n",
              "      border-top-color: var(--fill-color);\n",
              "      border-right-color: var(--fill-color);\n",
              "    }\n",
              "    40% {\n",
              "      border-color: transparent;\n",
              "      border-right-color: var(--fill-color);\n",
              "      border-top-color: var(--fill-color);\n",
              "    }\n",
              "    60% {\n",
              "      border-color: transparent;\n",
              "      border-right-color: var(--fill-color);\n",
              "    }\n",
              "    80% {\n",
              "      border-color: transparent;\n",
              "      border-right-color: var(--fill-color);\n",
              "      border-bottom-color: var(--fill-color);\n",
              "    }\n",
              "    90% {\n",
              "      border-color: transparent;\n",
              "      border-bottom-color: var(--fill-color);\n",
              "    }\n",
              "  }\n",
              "</style>\n",
              "\n",
              "  <script>\n",
              "    async function quickchart(key) {\n",
              "      const quickchartButtonEl =\n",
              "        document.querySelector('#' + key + ' button');\n",
              "      quickchartButtonEl.disabled = true;  // To prevent multiple clicks.\n",
              "      quickchartButtonEl.classList.add('colab-df-spinner');\n",
              "      try {\n",
              "        const charts = await google.colab.kernel.invokeFunction(\n",
              "            'suggestCharts', [key], {});\n",
              "      } catch (error) {\n",
              "        console.error('Error during call to suggestCharts:', error);\n",
              "      }\n",
              "      quickchartButtonEl.classList.remove('colab-df-spinner');\n",
              "      quickchartButtonEl.classList.add('colab-df-quickchart-complete');\n",
              "    }\n",
              "    (() => {\n",
              "      let quickchartButtonEl =\n",
              "        document.querySelector('#df-dcbcd6b2-bdf7-4da8-b7e2-b8f46f95a311 button');\n",
              "      quickchartButtonEl.style.display =\n",
              "        google.colab.kernel.accessAllowed ? 'block' : 'none';\n",
              "    })();\n",
              "  </script>\n",
              "</div>\n",
              "\n",
              "    </div>\n",
              "  </div>\n"
            ],
            "text/plain": [
              "          Close   Adj Close  Predicted_Close\n",
              "320  592.140381  592.140381       589.984723\n",
              "321  588.475952  588.475952       585.998344\n",
              "322  577.486206  577.486206       574.039173\n",
              "323  588.197449  588.197449       578.025585\n",
              "324  596.031982  596.031982       570.052794\n",
              "325  585.622192  585.622192       568.059604\n",
              "326  592.027893  592.027893       564.073193\n",
              "327  594.424561  594.424561       550.120865\n",
              "328  591.606934  591.606934       520.223004\n",
              "329  566.707031  566.707031       508.263850\n",
              "330  582.074341  582.074341       508.263850\n",
              "331  569.190247  569.190247       486.338763\n",
              "332  581.178345  581.178345       472.386403\n",
              "333  580.481140  580.481140       466.406834\n",
              "334  574.631653  574.631653       454.447680\n",
              "335  600.616333  600.616333       448.468095\n",
              "336  618.420471  618.420471       460.427265\n",
              "337  614.671875  614.671875       466.406834\n",
              "338  598.670837  598.670837       458.434076\n",
              "339  600.225891  600.225891       438.502147\n",
              "340  602.194458  602.194458       442.488526\n",
              "341  599.825928  599.825928       440.495336\n",
              "342  603.526428  603.526428       426.543009\n",
              "343  601.213257  601.213257       416.577044\n",
              "344  594.972046  594.972046       422.556613\n",
              "345  595.026794  595.026794       422.556629\n",
              "346  593.522339  593.522339       430.529388\n",
              "347  601.304199  601.304199       428.536198\n",
              "348  603.026611  603.026611       440.495353\n",
              "349  626.432983  626.432983       442.488542\n",
              "350  686.201416  686.201416       430.529372\n",
              "351  698.889404  698.889404       432.522578\n",
              "352  710.464050  710.464050       440.495336\n",
              "353  683.360962  683.360962       460.427265\n",
              "354  682.665161  682.665161       470.393214\n",
              "355  673.315308  673.315308       462.420439\n",
              "356  624.386841  624.386841       484.345558\n",
              "357  602.558105  602.558105       512.250229\n",
              "358  619.194824  619.194824       502.284281\n",
              "359  599.515076  599.515076       514.243419\n",
              "360  603.180542  603.180542       524.209383\n",
              "361  607.802917  607.802917       548.127675\n",
              "362  610.054016  610.054016       566.066382\n",
              "363  604.467346  604.467346       589.984723\n",
              "364  588.702087  588.702087       566.066382\n",
              "365  598.771729  598.771729       584.005154\n",
              "366  596.702332  596.702332       552.114055"
            ]
          },
          "execution_count": 75,
          "metadata": {},
          "output_type": "execute_result"
        }
      ],
      "source": [
        "#bnb_rest.drop(['Volume'], axis=1, inplace=True)\n",
        "bnb_rest[['Close', 'Adj Close', 'Predicted_Close']]"
      ]
    },
    {
      "cell_type": "markdown",
      "metadata": {
        "id": "Hc6HwU7ggkzD"
      },
      "source": [
        "As we can see here, the results of the predicted values are different from the actual values of the historical data we have.\n",
        "\n",
        "We can clearly see the difference from the graphs.\n",
        "\n",
        "The first graph is the overall 366 date graph from date range('2023-06-20', '2024-06-20')\n",
        "\n",
        "And the below graph is teh specific date 320 - 366\n",
        "\n",
        "![image.png](data:image/png;base64,iVBORw0KGgoAAAANSUhEUgAAA1sAAAIjCAIAAAB6WJZKAAAgAElEQVR4AeydB3wU1fr3JwIJoSSAoBeBO1SpIordq6CggF5BvX8LXiD3gqivDVFwAMFIL1eK0osEaQJKn4RAgNBCDRDSe4X0simbstndeTM54WEyu9md3Z1JdsKzHz73PnPmzCnf8+zm55lznkNx+EECSAAJIAEkgASQABK4vwlQ93f3sfdIAAkgASSABJAAEkACHCpCdAIkgASQABJAAkgACdzvBFAR3u8egP1HAkgACSABJIAEkAAqQvQBJIAEkAASQAJIAAnc7wRQEd7vHoD9RwJIAAkgASSABJAAKkL0ASSABJAAEkACSAAJ3O8EUBHe7x6A/UcCSAAJIAEkgASQACpC9AEkgASQABJAAkgACdzvBFAR3u8egP1HAkgACSABJIAEkAAqQvQBJIAEGgkBmqa9vLxIZwIDAymKCgwMrJ++Cauunxplr6URdEF2JlggErivCKAivK+GGzuLBBqMgI+PD3X34+bm1qtXry+++CIzM1PGBgk1jXRF6Ovr6+3t7WAzhFWbFnW337X+/9NPPyWNrJVa+4LjOMLt2rVromKHDBnSv39/USJcenl5QUmtW7ceOHDgzz//XF5eDhlMDctdMM2PKUgACTQyAqgIG9mAYneQgJMSIMpm3rx5O3bs2Lx5s5eX1wMPPNCtWzetVitXi4WaxmAwlJWVGQwGq4V/8cUXFOXoL6GwatMaKYp67bXXdtT+XLlyJTMzU5jWuXPnPn36CFMcUYRubm6kqNWrVw8dOpSiqA8++MC0bZBSXl6u0+ngEg0kgATuNwKO/g7eb7ywv0gACdhHwHSu69tvv6Uoavfu3aYFlpSUmCZaTbEsy+p6vH4U4RdffFFXAyC9f//+Q4YMgUtimHIj6VbnCFu2bAlFGQyGp556iqKoO3fuQCIxjEZjaWmpKBEvkQASuA8JoCK8Dwcdu4wEGoCAqbJhWZaiqIULF3Ic5+Xl1bJly/j4+FGjRrVq1WrMmDEcxxkMhpUrV/br18/Nze2hhx765JNP8vPzoelGo3H+/PmdOnVyd3cfOnRoeHi4UBGavjW+fPnyqFGj2rRp06JFi8cee2zVqlWkXni7SgxSviNVQwvBoCiqYRUhx3HTpk2rmqoMCgqqmnekafrNN9/09/cfPHiwm5vbypUrSSKswuQ4rqCg4JtvvqFp2tXVtVOnTuPHj8/JySE9Ki8v//HHH3v06OHq6tq5c+fp06cL30efOHHixRdf9PT0bNmy5aOPPjpz5kzggAYSQALOTAAVoTOPDrYNCTQeAqaK8JdffqEoasOGDUSZVb3l7NGjh5eX14YNG7Zv385x3Mcff9y0adPJkydv2LCBYZiWLVs+/fTT8GZz9uzZFEW98cYba9asmThx4iOPPNK+fXvQNCJFeOLECVdXV5qmvb29169f//XXXw8fPpzjuIsXL7722msURcG7WkLckapNx4yiqEmTJuXU/lRUVIhyWpgjPHnyZO2nc1544QXL6wiFc4Qcx73zzjsURUVHRxPx17Nnz7Zt286YMWPDhg1k/41QTxcXFw8YMKBJkyaTJ09ev379/Pnzn3766Zs3bxKZ/vrrr7do0eKbb77ZuHHjl19+2bRpU6LgOY4LDw93dXV96qmnfvnllw0bNkybNu3ll18WdRMvkQAScE4CqAidc1ywVUigsREgipAom7S0tD179jz44IPu7u63b9+GuboZM2ZAt8+fP09R1K5duyDF398fUrKzs11dXd98802j0UgyzJo1i6Ios4pQr9d369aNpumCggIoDR40fWvsYNVQBRiiaUhy+ccff0AGYlhQhGZLsKoIiYiMj49ftGiRi4vLwIEDSUU0TVMU5e/vL2yAUBH++OOPFEUdOHBAmIEQ27FjxwMPPHD+/Hm4tWHDBph9XLlyZdWEKMwmQh40kAAScH4CqAidf4ywhUigMRAgilCobGiaBlFC9sampKRAV7/++mtPT8/s7Gzh3FirVq0+/vhjjuN2794t0jTZ2dl1KcJr165RFEXejUL5YJgqQgerhpLBoChqzJgxAbU/pvusLSjCtWvX1n46YODAgZYVoRA1RVEvvPBCQkICaRJN0926dYPmQSLo6f79+z/++OOiDORy9OjR/fv3Fw5KbGwsRVELFiyomn0ko7xlyxYpe3rMlo+JSAAJNBQBVIQNRR7rRQL3FwGiFYiyCQwMjIyMFIoGLy+vpk2bClNGjRol0jTkcvTo0RzHLV68mKIokDgEZdu2bUHTCN8a79mzh6KogIAAs8RNFaGDVZvW0iDrCJs3b05E5Llz59LS0oStomn61VdfFaaI1hE2b9783//+tygDuezbt6/Zcfn66685jistLX3xxRcpimrfvv0HH3ywd+9e4ZiaLRATkQAScBICqAidZCCwGUigkRMgitA0rh7pNtlZIkQwYsSIhx56SDQxFhAQEBISorQidLBqYS+I3SCKULSOUNgqsrNEmCJdEfbu3fuxxx4zHReyQpEsNDx58uTUqVOJdnz11Vf1er2oLrxEAkjACQmgInTCQcEmIYFGSMBWRfj55583adKkrsAoMr41/vLLL0XxCB2s2nTwVKcILbw1fuONNzp16gSrME07K0xZuHChhdlZYU60kQASaHACqAgbfAiwAUjgviBgqyI8c+YMRVGi2CWVlZVkd0h2dnazZs0k7iwxGAwWdpYwDENRlHDTiYNVmw6n6hShhZ0l27Ztoyhq48aNwm6WlpaSEJJ5eXnCdF9fX4qiWJYVJqKNBJCAcxJAReic44KtQgKNjYCtipDjuE8//ZSiqFGjRq1cuXLNmjVTpkx55JFH/vzzT4Jm5syZEH1m0qRJlqPP+Pv7N2vWrGqP7U8//bRx48apU6e+/vrrpJx9+/ZVLUkcP378zp07Yf+vI1WbjpzZM0tOnDghymlhZ4np23abIlSLKrL61ri4uLhfv34k+syGDRsWLVr03HPPkff1BoPhjTfecHFx+fDDD1evXr1q1arPPvusXbt2pIVTpkx54oknZs+evXnz5oULF3bq1Klz584ajUbUALxEAkjACQmgInTCQcEmIYFGSMAORchx3KZNmwYPHuzu7t66devHHnvs+++/T09PJ3QMBsPcuXM7duwoMUL1hQsXXnvttdatW7ds2XLgwIGrV68m5ej1+q+++qpDhw4uLi7C18d2V206eGa3YpgeT+I8ipDjuLy8vC+//LJTp04kDLWXl1dubi7pmk6nW7p0af/+/d3c3Nq2bTt48OC5c+cWFhZyHHfq1KkxY8Y88sgjrq6ujzzyyNixY2NjY02BYAoSQAJOSAAVoRMOCjYJCSABJIAEkAASQAL1SgAVYb3ixsqQABJAAkgACSABJOCEBFAROuGgYJOQABJAAkgACSABJFCvBFAR1iturAwJIAEkgASQABJAAk5IABWhEw4KNgkJIAEkgASQABJAAvVKABVhveLGypAAEkACSAAJIAEk4IQEUBE64aBgk5AAEkACSAAJIAEkUK8EGrMiNBgMaWlpGo2mED9IAAkgASSABJAAEriPCWg0mrS0NIPBUJfMbMyKMC0tzWxgWExEAkgACSABJIAEkMB9SCAtLe1+VIQajYaiqLS0tHr4T4Lc3Nzdu3fn5ubWQ11OXgWigAFCFIgCCBADXQKAIApEAQTAQK9QFAWZJrNwqmRjniMsLCykKIqcrVSXIpYrXafTHTp0SKfTyVWgestBFDB2iAJRAAFioEsAEESBKIAAGOgViqKwKopQEQJ/hwz0Y8CHKBAFEAADvYKgQA7oEkAADPQKRAEEwFDCK1AR4hwhOFg9GUr4cT01Xe5qEAUQRRQEBXJAlwACYKBXIAogAIYSXoGKEBUhOFg9GUr4cT01Xe5qEAUQRRQEBXJAlwACYKBXIAogAIYSXoGK0LwiNBqNOp2uTL5PUVERy7JFRUXyFanWktSCQq/Xw3dPIUOJr7RCTVW6WERBCCMH8DREgSiAABjoFYqiQEVoRhFWVFQkJydHyvqJiIgIDg6OiIiQtVRVFqYWFFFRUcXFxfD1U8LAXzegiigICuSALgEEwECvQBRAAAwlvAIVoVgRGgyG6OjouLg4jUZTWloq10ScVqvNysrSarVyFajeclSBorS0NCUlJSoqStGZQiW+0vB7oS4DUZDxQg7gt4gCUQABMNArFEWBilCsCMvKyiIjI7VaLXCXxTAYDAUFBRZCgctSiyoKUQuK0tLSyMjIsrIy5ajirxuwRRQEBXJAlwACYKBXIAogAIYSXoGK0LwilF0HqEUGgbcpZ6gFBflvA9k9QQhWia+0sHwV2YiCDBZyAKdFFIgCCICBXqEoClSEqAjBwerJQEUIoPHXDVEAAWKgSwAQRIEogAAY6BWKokBFiIoQHKyeDFSEABp/3RAFECAGugQAQRSIAgiAgV6hKApUhGpVhD4+Pp6enuAcKjJQEcJg4a8bogACxECXACCIAlEAATDQKxRFgYrQqRWhl5fXmDFjwAM4jgsMDKQoqqCgoLS0NCsrS3hLZDutZERFCCOFv26IAggQA10CgCAKRAEEwECvUBQFKkK1KkJwi7oM+xShXq9XekM0KkIYMvx1QxRAgBjoEgAEUSAKIAAGeoWiKFARWlGERqNRW1Hp+L/isor0rNzisgphUUajEUbXrGFhjlAo+EJCQoYOHdqqVavWrVs/+eST165dI1OJ1N2Pt7c3x3H5+fnjx49v06aNu7v7yJEjY2NjSaWkqMOHD/ft27dJkyZnz55t2rRpRkYGNGnKlCn/+Mc/4NJBAxUhAMRfN0QBBIiBLgFAEAWiAAJgoFcoigIVoRVFqK2opBlWoX/aikoYXbOGREXYv3//cePGRUVFxcbG7tu3LyQkpKKiYtWqVR4eHhnVH3L2xujRo/v27Xvu3LmQkJARI0b07NlTp9NxHOfj49OsWbMXXnghKCgoOjpaq9U++uijy5YtI03S6XTt27ffunWr2RbakYiKEKDhrxuiAALEQJcAIIgCUQABMNArFEWBitDZFWGTJk1aCj7Nmzcn6wiFc4StW7fetm0bOAoxhBk4jouNjaUoKigoiNzNzc11d3fft28fUYQURYWEhEAJS5cu7du3L7ncv39/q1atSkpK4K6DBipCAIi/bogCCBADXQKAIApEAQTAQK9QFAUqQiuKsMHfGg8fPjxO8Nm5c6epIvT29m7atOmwYcMWL14cHx9PPEakCA8fPty0aVPhmWyDBg2aO3cuUYSurq7CV9hZWVnNmjW7dOkSx3FvvfXWxIkTwQsdN1ARAkP8dUMUQIAY6BIARHYUmYVlsZlFUL6KDNlRqKjvoqYiCgCiBApUhFYUIdB30LBPBkl8a8xxXExMzIoVK1577TVXV9cDBw4QnScMT2NZEQpzkp6+++67n3zySWZmZtOmTS9cuOBg94WP24dCWEL92HhmSf1wJrUo8etWn+2Xqy7kACRlR/Hqz4G9ZvnlFJdDFWoxZEehlo6bthNRABMlUKAibCSKELzkww8/fOuttziO27VrV6tWrSDd7FvjP//801Q7kkf8/Pw8PT3nzZvXu3dvKEQWAxUhYFTiKw2Fq8tAFGS8kAP4rbwojEZj95m+NMNejM+FKtRiyItCLb02205EAViUQIGKUPWKsLS09IsvvggMDExOTr5w4UKPHj2+//57juOCgoIoijp58mROTo5Wq+U4bsyYMf369Tt//nxISMjIkSOFO0tM5wgNBkOXLl1cXV2XLFkCLiiLgYoQMCrxlYbC1WUgCjJeyAH8Vl4UsEdw37VUqEIthrwo1NJrs+1EFIBFCRSoCFWvCCsqKj788EOi3h555JEvv/yyrKyMOM1nn3324IMPUhQljD7j6enp7u4+YsQIUfQZ8DMw5syZ06RJk/T0dEiRxUBFCBiV+EpD4eoyEAUZL+QAfisviszCMhIyYsWJGKhCLYa8KNTSa7PtRBSARQkUqAidWhHC2DeIMXHiRPICWt7aURECTyW+0lC4ugxEQcYLOYDfyosiLquIKMJv994LqgB1ObkhLwon76zl5iEK4KMEClSEqAjBwe4ZGo3m/PnzzZs3P3HixL1UmSxUhABSia80FK4uA1GQ8UIO4LfyoriRkk8U4fsbLkIVajHkRaGWXpttJ6IALEqgQEWIihAc7J4xZMgQd3f3b7755l6SfBYqQmCpxFcaCleXgSjIeCEH8Ft5UZyNySaK8IXFp6AKtRjyolBLr822E1EAFiVQoCJERQgOVk8GKkIArcRXGgpXl4EoyHghB/BbeVGwt9KJIuw+07dSb4BaVGHIi0IVXa6rkYgCyCiBwlkU4eLFi6sCL0+ZMoX0tqys7PPPP2/Xrl3Lli3ffffdzMxMoJCSkvLGG2+4u7t36NBh2rRplZX3DoILDAx84oknXF1de/To4ePjA4/UZZjtvEJR6NQig+piJWO6WlAo5AlCkkp8pYXlq8hGFGSwkAM4rbwo/riSQhQhzbBp+XzsBRV95EWhoo6bNrVxo6iotOG/VZRAYVYUCUeBEl4oZF+9erVr164DBw4ERfjZZ5916dLl1KlTwcHBzz333AsvvECq1uv1AwYMGD58+M2bN/38/Nq3bz9z5kxyKzExsUWLFt9++21kZOTq1aubNGni7+9vucFmO6+QDlCLDLJMTJa7akGhkCcIGSrxlRaWryIbUZDBQg7gtPKi2HQ2ARThpYTcGyn5hWX8qe6q+MiLQhVdrquRjRtFfkmFacdvF5RqSs34qhIozIoiYZMUV4TFxcW9evUKCAgYMmQIUYQajaZZs2YkeDLHcVFRURRFkRPV/Pz8HnjgAZgyXL9+vYeHR0UFD/H777/v378/NP2DDz4YMWIEXJo1zHZeIR2gFhlkFpS8iWpBoZAnCGEq8ZUWlq8iG1GQwUIO4LTyolh+IgYU4bgtl2mGZf66BXU5uSEvCifvrOXmNW4UZmev47KKQ9M0ZTq9iIwSKMyKImG9iivCCRMmkB0MoAhPnTpFju6Fdvz9739fsWIFx3Fz5sx5/PHHIT0xMZGiqBs3bnAc99JLL8EUI8dxW7du9fDwgJxglJeXF979pKWlURSVm5urE3yKiooiIiK0Wq1B1o9ery8oKNDr9bKWqsrC1IJCq9VGREQUFRUJvENmU6vVHjp0SKvVylyuCotDFGTQkAM4r7wofjwUCoqQGKNXn4e6nNyQF4WTd9Zy8xoxCm1ZefSdAtPuh6XlhSTnFmvLRLeUQJGbm0tR4s0VIJ84jlNWEf7xxx8DBgwgEZVBEe7atcvV1VXYiKeffpqcwzF58uTXX38dbmm1Woqi/Pz8qg5t69Wr16JFi+CWr68vRVGlpaWQQgxvb2+q9mf37t2HBB+WZYODg7Oysgrwc38TyMrKCg4OZllW4B1oIgEkoEoC7/18hGbYR2ceBV345I9HVdkTbDQSUIzA7t27G0wRpqamPvTQQ7du1Uzd148ixDnCBp9XxDlC+E89Jf4jDwpXl4EoyHghB/BbeVF8vO0qzbDvrL0AirDvnGNQl5Mb8qJw8s5abl5jQlFeXiHsbG6RNiQ5t6x2YklpeUhy7n0xR3jw4EGKoprc/VAU5eLi0qRJk5MnTyr31lg4ZWj2lblCq8cafPFcYGAgUPXx8TE9yFhIRlHbKgovL68xY8aQNsB/J0hvkh2PmC1cIU8Q1qXEQhBh+SqyEQUZLOQATisvio82X6IZ9oeDtd4dayvuhaqAep3QkBeFE3ZQepMaE4ryylpLA3OKy0PTNCKfLCmvDE3T3BfrCIuKisIEn6eeemrcuHFhYWFkZ8lff/1FvCQ6Olq0syQrK4vc2rhxo4eHR3l5OdlZMmDAAHCssWPHNoKdJV5eXhRFffrpp9AvjuM+//xziqK8vLyEiVZtoSIsLS0FhlYftJqBNJKiqGbNmvXo0WPu3LnCkECmj9ukCPPy8oqKikwLgRRhv0ii1UfgWcsGKkLLfOS925h+6B0hgxyAnrwo3lp9nmbYIyF3XlxyavxvVx79wY9m2NQ8dYShkRcFEFaj0ZhQlFbo9QYjjEK6pjQ0TVOgrbXdWKPV3S+KEEAQQzi189lnn/39738/ffp0cHDw89UfkodEn3n99ddDQkL8/f07dOggij4zffr0qKiotWvXNo7oM15eXl26dPH09IQFkWVlZW3atPn73//uiCIUkXfw0svLa+TIkRkZGcnJyevWrXNxcREu6CSFk/3gxLZJEVptm6kitPqIxAyoCCWCkiVbY/qhdwQIcgB68qIY+r9AmmGvJOYZjUaDwfjC4lM0w95MLYDqnNmQF4Uz99Rq2xoTiuLySp0gWHpqnjY0TZNZWCaEkF3ETxzeF3OEwm5zHCdUhCRCddu2bVu0aPHOO+9kZGRA5uTk5FGjRrm7u7dv3/67774TTkcFBgYOGjTI1dW1e/fuskWoNhq5ihLH/xnKigqy7xjKimoVZbz33wfQQaFB3p8OGDBg586dJH3Xrl0DBw4cM2YMKEKDwbBo0aKuXbs2b9584MCBELWH4zhfX99evXo1b9586NChPj4+Zt8ax8fHjx49+qGHHmrZsuVTTz0VEBAADaBpeuHChf/9739btWrVpUuXjRs3wi2hIXzJy3Hca6+99txzz3EcR9IXLFjQsWPHrl27chyXmpr63nvveXp6tmnT5q233kpKSiLl6PX6qVOnenp6tmvXbvr06RMmTDD71ri8vPz777/v3LkzCUK+ZcuWpKQk4TYhwkToSPn5+ePHj2/Tpo27u/vIkSNjY2NJjeS9ub+/f58+fVq2bDlixIj09HRhpziOQ0UoAqLoZWP6oXcEFHIAevKiGDz/BM2wkemFpHwyZRgQce/sA6jXCQ15UThhB6U3qTGh0JTqhDFl4rP5KDOiees7BfzE4f2oCKX7hFw5Ja0jrCjhvD2U+ldVuMUPEVUrVqwYNmwYyThs2LCVK1cKFeGCBQv69Onj7++fkJDg4+Pj5uZ25swZIr/c3Ny+/fbb6OjonTt3Pvzww2YVYUhIyIYNG8LCwmJjY2fPnt28efOUlBRSF03T7dq1W7t2bVxc3OLFix944IHo6GjT9ooU4ejRo5988kmiCFu1ajV+/Pjw6o9Op+vbt+/EiRNDQkIuX748duzY3r17k7nDpUuXtm3bdv/+/ZGRkZMmTWrdurVZRfj+++936dLlwIEDCQkJJ0+e3LNnj16v379/P0VRMTExGRkZGo1G9J8Wo0eP7tu377lz50JCQkaMGNGzZ0+djg/16ePj06xZs+HDh1+7du369et9+/b96KOPRF1DRSgCouhlY/qhdwQUcgB68qLoVf2aGOK9/deH32iy52rNbx1U6pyGvCics48SW9WYUOSXVAhXDUZlFIamaeKyaq2SSs4tQUUo0TcczaYWRZidne3m5pZc/WnevHlOTg4owvLy8hYtWly8eBFYTJo0aezYsRzHzZw5s1+/fpDOMIxZRQgZiNG/f//Vq1cTm6bpcePGEdtoND700EPr168X5Ye5QI7jjEZjQECAm5vbtGnTSPrDDz8M74t37NjRu3fv6lc2hoKCgrKyMnd39+PHj3Mc17Fjx2XLlpGSKysrO3fubKoIY2JiKIoSTmGS/KZvjWGOMDY2lqKooKAgkjM3N9fd3X3fvn1EEVIUFR8fT26tXbv24YcfJjb8LypCQFEPRmP6oXcEF3IAejKiKK/Uky3GcPbDtH0hNMOuOR0H1TmzISMKZ+6mlLY1JhQ5xeXF5ff2NoXd5ucCw+/w8xrwIeGpcY4QgChoSFKETvDWmOO4d99996effvL29v7Xv/7FcRwowvDwcIqiWgo+zZo1e+aZZziOe/vtt//73/8CvkOHDplVhMXFxd99912fPn08PT1btmz5wAMPTJ8+nTxF0zQINY7jBg4cOHfuXCgQDC8vryZNmrRs2dLV1bVp06YTJkwoKeHnPr28vIYPHw7Zpk2bRrJBY11cXNatW6fRaCiKOnv2LOR8++23TRXh3r17mzRpQmb4IGfVjKAFRXj48OGmTZvq9ff2cw0aNIh0wcfHp0WLFlDOgQMHXFxc4JIYqAhFQBS9bEw/9I6AQg5AT0YUucXlRBHCQv7FflE0w849EgHVObMhIwpn7qaUtqkUhdHcCrGswjL4TxSd3kDmAkPTNKUV9/5mRabzE4eoCKX4hqN5JClCRyuped7qdgqz9cALWZZlu1Z/fH19hYrw8uXLFEWdOXMmTvBJTU2Vrgg//fTT7t27HzhwIDQ0NC4u7vHHH4ejX2iaXrlyJTSs6rQYb29vuASDKL+4uLiUlBThsk5oPMn52WefPfPMM3FxcTExMdevX4+JiYmLi9NUf6QowiNHjsirCIXxd0ggJOgRMVARioAoeqnSH3rZmSAHQCojiqScEpph+805BoVvPscfc/z1H/x5V87/kRGF83fWcgtViqJEMBcIHUzXlMLO4tIKPSjC2MwioiCNRiMkClcckhKUQGFWFEGDFT+zRFhT/dtmO6+QDnBQEer1+kceeaRTp05kxgvmCIuKitzc3LZv325Kb+bMmcKDnmfMmGF2jnDAgAHz5s0jjxcXF3t6etqhCGFKT9gMkSLctGlT27ZtCwsLTVGI3hp36dIFCoRXwElJSS4uLqZvjYOCgshRhFA1PGL2rTHZeSOKyIiKEOg1lKHEr1tD9cWRepED0JMRRWiahmbYZxeehMIP3EijGfajzZcgxZkNGVE4czeltE2lKPJLKkTRBzmOS8vX5hbzsfM4jtOU1kSZIRKQ7DiuqLw3cYiKUIp7OJRHRYqQ4zhyGjPpMChCjuN++OGHBx98cNu2bfHx8devX//111+3bdvGcVxKSoqrq+u0adOio6N37dr1t7/9zawifOeddwYNGnTz5s2QkJC33nqrdevWCilCrVbbq1evoUOHnjlzJiQk5NSpU1999VVaWhrHcUuWLGnXrt3BgwejoqImT55c186S/wC1q0AAACAASURBVPznP126dDl48GBiYmJgYODevXs5jrt9+7aLi8u2bduys7OLi4tFO0vGjBnTr1+/8+fPV21nGTlypHBnCc4ROvTlkfthlf7Qy42BQw6AVEYUQXE5NMMOX85vuSOfc7HZNMOOWHlvscrdO874/zKicMbu2dImlaLIKrr3ghi6m5xbkl1UowhJeGqYEQy7rdFodRCeGt8aAzQFDXUpQiEIoSI0Go2rVq3q3bt3s2bNOnToMGLECFiTd/To0Z49e7q5ub300ktbt241qwiTkpJeeeUVd3f3Ll26rFmzBibYqrZfSH9rDFN6wkaK5gg5jsvIyJgwYUL79u2r5jW7d+8+efLkwkI+GERlZeWUKVM8PDzatGnz7bff1hV9pqysbOrUqR07dnR1de3Zs+fWrVtJdfPmzfvb3/7m4uJSV/QZT09Pd3f3ESNGiKLPQGtxjhBQNJSh0h962XEhB0AqF4q0fO2xsHRyhB0UHnGnkGbYwfPvBduCW05oyIXCCbtma5NUiuJOQWlW7UCDHMclZBdD9MEMTRnIQWKE3dak5PIRCsk/nCO01VVszu/8itDmLqnhAdO3xs7ZaoXWDwg7q9JfN2EX5LIRBSGJHMCjZEGx83IyzbCvrzhLM+z4365A4VmFZTTDdpvBGgSHRsBdZzNkQeFsnbKvPSpFkZKrFQUa5DguLqsoXVNKONy+G3cQJKDIQEVon8PY8BQqQhtgyZcVFSGwVOmvG7RfRgNREJjIAZzKcRQVlYZnF54ku4xphv181/V7hesNJD2vpNahYZDBqQzHUThVdxxpjEpRxGcXx2bWCjTIcVx0RhEEyBROB4q0IM4ROuIwNjyLitAGWPJlRUUILFX66wbtl9FAFAQmcgCnchzFX8H89hH4N2P/LSic47hBc4/TDBtj8ndamMdJbMdROElHHG+GSlFEZRSG3daIYtBE3ClMya05WTuh+sASs1oQFaHjbiOpBFSEkjDJnQkVIRBV6a8btF9GA1EQmMgBnMpBFEajkbws7jXLj4jChb6RUDjHccOWn6EZNig+R5jonLaDKJyzU8JWZRWWJeZYOcGL5FcpChJ9WvTmN+y2Julur2MziyzIQdxZIvQWpWxUhEqRtVguKkLAo9JfN2i/jAaiIDCRAziVgyh8Q/ndJP3mHFt/Jp4owl9O1hxrTqp4f8NFmmGPhNyBGp3WcBCF0/YLGjZs+Zm+c46Z7r2ADGCoEUXl3ejTGi1/hir5GAx8rMH4bD4+Bsdx5Ag7C6JQpCY5TpG4BGZFEWkh+V9KeNHIbLOdV2g/gVpkUD0MsVpQKOQJQsJq/HUTtl9GG1EQmMgBnMoRFCXllc8t4lcQLj8Rk1VU1nUG/+5464VEKJzjuM93Xq9Sij61E4UZnMd2BIXz9KKulsCJMr6h6XXlgXQ1oijT1USfhp3FvJ6rlolwijGZRERFCAPdAAYqwgaAznGoCAG7Gn/doPHyGoiC8EQO4FeOoFjkF0kz7D+WniIzK/+3PohmWL/agmP2wTBeMh6Phhqd1nAEhdN2Chp2KSGXTOIu8qv1Wh8yCA01oigqq4k+DasGOY4jMjE6g99uIjybpC5RiHOEQjdQxEZFqAhWa4WiIgRCavx1g8bLayAKwhM5gF/ZjaK4vLLnLN8qRXgyMpOUlpqn9bmQWKk3QOEcxy0/Hk0z7OyDYcJE57TtRuGc3RG1asclPkJQ1S6fsZusHyGjRhT5JRVE58GMIMdx2orK0DRNZDofkVd4qDEqQpF71N8lKsL6Yy2oCRUhwFDjrxs0Xl4DURCeyAH8ym4UVxLzaIZ9btG9M+ugTKGx5XwizbBf7lbB0cZ2oxD212lt78PhRBEO+NHfanhIguLPaymrAmJFW3edtoNZRTXRp8PvaKCRZOIw7DafAq+V65KDuLMEuClooCJUEG7dRaMiBDaN+4ceuinFQBSEEnIAb7EbxdYLvNSbtO0aFGXW2H+dj00zbstls3edKtFuFE7Vi7oa8+/Nl4kirBoO2GlRV2adTrf/wKFHf+D3j4ekFtSVzanS7wiiT8NEtUZb8yqZ47jicn6+0PI/fGus+JhKV4SWh0rK3ZDU/KCotJDUfMisePfMVSA8WU54YJ25vGbS7HjEtBRUhMCkcf/QQzelGIiCUEIO4C12o/h2bwjNsCsDYqAos8bpqCyaYf/563mzd50q0W4UTtWLuhpDooj3m3OMZtgDN/iT7i18dDrd6p2HiILcfinZQk7nuZWcWwJ/97UVlaRheXdfJesNRk1pjTqEbKYGKkLFB9T5FaGXlxdV/WnWrFmPHj3mzp1bWVnjT/bRESrCvLy8oiJxFHVhsYGBgXAUco0TW3tE+HhdNlGECQkJpGsURbVt2/bll18+d+5cXY80SDruNa5P7I37b550ksgBWNmNYsRK/sy6gIiaRYRQoMi4npJfle3FJadE6U54aTcKJ+yLqEmFZToi777bx+t478PhogyiS51ON33jYfLI9D9DRHed8zIuqxgUXoG25oyc7KJykqjTG0AdQjZTAxWh4oOrCkU4cuTIjIyM5OTkdevWubi4LFq0SMSlosKGU5iEilBUjumlqSI0zWNHilARnjx5MiMjIyws7MMPP/Tw8MjMtPIjbkd1dj+CitBudHY82Ij/5tlEAzkALvtQlOn03Wfy20oyNGVQlFkjMaeEZtgBP/qbvetUifahcKou1NWYG9W6/JmFAQdv3KYZ9p21F+rKSdJ1Ot0Hy48QRThi5VnLmZ3krjDWIMRczCysWVxYptPDQkNTIQgpqAgVH01VKMIxY8YAiNdee+25557jOI4IuwULFnTs2LFr164cx6Wmpr733nuenp5t27YdPXp0UlISeUqv10+dOtXT07Ndu3bTp0+fMGECFCh8BVxeXv7999937tzZ1dW1R48eW7ZsSUpKgjk8iqK8vLw4jhM+kp+fP378+DZt2ri7u48cOTI2tib6q4+Pj6enp7+/f58+fVq2bDlixIj09FpRpoSK8ObNm6SdoaGhFEUdPnyYXG7fvn3w4MGtWrV6+OGHx44dm5WVRdKJSD158uTgwYPd3d2ff/756Oh7wSPmz5/foUOHVq1aTZo0iWGYxx9/nDzFcdzmzZv79Onj5ubWu3fvtWvXQroFAxWhBTiy32rEf/NsYoUcAJd9KG6mFtAMO3j+CavbDvJLKoiw0NXegwwNcB7DPhTO034LLdl7LZVm2I82X4rLKqIZtu+cY5YHTqfTPT/3KBm4bjPY0gq9hcKd4VaZTi+MNZiaV3NsHSwu1FZUZmhq1CHoP1MDFaHio6k6RTh69Ognn3ySKMJWrVqNHz8+vPqj0+n69u07ceLE0NDQyMjIjz76qHfv3mTucOnSpW3btt2/f39kZOSkSZNat25tVhG+//77Xbp0OXDgQEJCwsmTJ/fs2aPX6/fv309RVExMTEZGhkbDb4kSKsLRo0f37dv33LlzISEhI0aM6Nmzp07HB2T38fFp1qzZ8OHDr127dv369b59+3700UfCsTRVhKWlpdOmTaMo6tixYyTnb7/95ufnl5CQcOnSpeeff37UqFEknSjCZ5999syZMxERES+99NILL7xAbu3cubN58+Zbt26NiYmZO3euh4cHKMKdO3d27Nhx//79iYmJ+/fvb9eu3bZt24RNMmujIjSLRaHERvw3zyZiyAFw2Ydi52U+lMn4365AOXUZeoORRK7OKS6vK4+TpNuHwkkab7kZi3z5yJHeh8PLK/XdqgOJZxVZmtwtLCnrxvCKsG/1usPg5DzL5TfsXZ3eIJwgFB5SkpqnJbKvuLwyLb/GNhWCkIKKUPGhVJEiNBqNAQEBbm5u06ZNI4rw4YcfhvfFO3bs6N27N/ynVUVFRdX82fHjxzmO69ix47JlywjKysrKzp07myrCmJgYiqICAgJExE3fGoMijI2NpSgqKCiIPJKbm+vu7r5v3z6iCCmKio+PJ7fWrl378MMPC0sWKkJ3d/eWLVu6uLhQFDV48GCiKYWZOY67du0aRVHFxfxpPzBHSPL4+vpSFFVWxv+CPPvss1988QU8++KLL4Ii7NGjx+7du+HW/Pnzn3/+ebisy0BFWBcZJdIb8d88m3AhB8BlH4oZ+0Nphl16LArKsWAM/Ok4zbDCKHEWMjfgLftQNGCDpVc90ecqzbBkj8iLS07RDHs1yZLIuxTH7wd6av4J8qDoHBrp9dZPTuGeEqLtSABCjuPglqZUBzboP1MDFaHiQ6YKRdikSZOWLVu6uro2bdp0woQJJSX8ceBeXl7Dhw8HQNOmTSPZWt79uLi4rFu3TqPRUBR19uy9xRZvv/22qSLcu3dvkyZNTNWYBUV4+PDhpk2b6vX3ZuwHDRo0d+5coghbtGgBbTtw4ICLiwtccnfPLCE7S44cORIbG3vgwIGePXuGhd0LFRscHPzPf/6zS5curVq1atGiBUVRERERoAizs7NJgTdu3KAoKiUlheO4Nm3a/P7771DR1KlTiSIsKSmhKIpIT4LHzc3toYcegpx1GagI6yKjRHoj/ptnEy7kALjsQzF6zYUqxcDeqrVSBcoUGUOWnaYZ9ppFCSJ6pEEu7UPRIE21tdJXfg6kGfZCXA7HcR9tvkQz7J/BtbYba0p1wuOAN56Joxn2v1uvrAqIpRl26p6adUe21ls/+WMzi0y1HYm5mJBds92kQFsRf9c2zQwpqAgVHzJVKMLhw4fHxcWlpKQIdxmLNoh89tlnzzzzTFztj6b6I0URHjlyRF5F6OnpCYN38OBBiqp1OrZwjhDWEe7bt69nz57l5fzrm5KSkgcffPCjjz46d+5cVFTU8ePHKYoiOUUi9ebNm1VrHMmiyboUYWZmJkVRO3fuFOJJTKx1wim0VmigIhTSUNpuxH/zbEKHHACXfSheWsqLvODkfCjHgkHk4wlru5ItlFA/t+xDUT9tc6QWvcHYaxYfWTAtn19dN/MAP7/7s+BcwfJK/QuLT72w+BSsF/xyVzDNsCuOR5HgQa/+HOhIA5R+NjK9ECQdGETbxWXViMXc4nKzwhHyEwMVodKDxalCEcKUnhCHSBFu2rSpbdu2hYX8eTiij+itcZcuXaBAeAWclJTk4uJi+tY4KCiIoqjc3FwoEx4x+9b4zz//JHOEdihCo9HYp0+fFStWcBwXHBxMUVRqaiqpd8eOHVIU4bPPPvvll19CU//xj3/AW+NHHnlk3rx5cEuigYpQIihZsjXWv3m2wkEOQMw+FIPnB9AMC+/moDSzhtfWKzTD7rtW81NjNo8zJNqHwhlabrkNaflammF7zfLTG4xVa5w2no2nGfYrwSkyIdX7hGiGPRZWM+n74uKTNMOejsyoOpmQf/YHP1guZbmuBrkr3FMCCi+nuPx2QSncyi4qNyscIT8qwnoau0ajCLVaba9evYYOHXru3LnExMTAwMCvvvoqLY2fe1+yZEm7du0OHjwYFRU1efLkunaW/Oc//+nSpcvBgwfJ43v37uU47vbt2y4uLtu2bcvOzibL+EARchw3ZsyYfv36nT9/PiQkZOTIkcKdJXYoQo7j1q1b99BDD2m12uzsbFdX1+nTpyckJBw+fPjRRx+Vogh37tzp7u6+bdu22NjY+fPne3h4DBo0iHjS5s2b3d3df/nll5iYmNDQ0K1bty5fvtyqk6EitIpIxgyN9W+erYiQAxCzD0X/H/1phk3K4VfXWP1M+eMGzbCbziZYzdmwGexD0bBtllL7hbgcmmFfuTvPdywsg2bY0avvxQyHI4/JYYMZmjKaYbsyR/OLS7UVlWTHcXG5QzF6pbTTvjwGg1Gk6sxeZhaWgTo0mwEVoX38bX5KuiK0uWiTB8irUoOh1lHrJrnECaK5QLhtmp6RkTFhwoT27du7ubl179598uTJZMqwsrJyypQpHh4ebdq0+fbbb+uKPlNWVjZ16tSOHTu6urr27Nlz69atpK558+b97W9/c3FxqSv6jKenp7u7+4gRI0TRZ6CpEt8a8yd/a7Vt27ZdunQpx3G7d+/u2rWrm5vb888/f+TIESmKkOO4efPmtW/fvlWrVhMnTvz6669JpB7Skl27dg0aNMjV1ZVEwz5w4AC0sC4DFWFdZJRIb6x/82xlhRyAmB0ojEYjCUaYWWhpvypUQU7UXeYvaRsKPFX/hh0o6r+RFmrUG4yxmUWmk3m7LqfwiwJ9rpJnozIKq44tGfgTvyeSfL7/8xaRff3mHCvT6Y/eusMHFZ93lKx67z2bf+MM8VzuPuQs/19RabCg8OCWlI3GeK5xfQyq8yvC+qBQ73XYJ45tbebw4cPHjRtn61PC/KgIhTSUttX+N08uPsgBSNqBorxSTwREYRkfCcvqZ2VADM2wMw+EWs3ZsBnsQNGwDRbVvvwEz9n0hDoSeuanIzXnlMC0HxzsMWrVOTKgNMP6h2cQBT9u5RGiCF9YzO9NvumspxuXVuhB9lkwEnPunXFnIRuuIxQ5lfyXqAjlZyqhRIUUoVarXb58eXh4eFRU1I8//mg2no6E1t3LgorwHgvlLbX/zZOLEHIAknag0GhrjkSTGHR6W1ASzbD/b2cwVOqchh0onKojk3+/RjPsN9X7govLK0vuvuf9ZDufvi2o5jwFjuOeXsAvAw2pFnllOn2P6uNnPt95nWbYz3def/NXXiD+uOUwUYTk8lSUE510JcReVGb9tOLQNE2Muf3IptIQFaGQrSI2KkJFsForVCFFWFpaOmzYsHbt2rVo0eKJJ57Yv3+/tYZYuY+K0AogWW+r/W+eXDCQA5C0AwVZZ9Zjpi8UYtk4dJM/OW3spkuWszX4XTtQNHibhQ14d10QzbCv/hxYptO/uOTUkGWniWQnJ1Cfjq45korjuPfWX6QZ9nDIHY7jyAF3T847EXZbQ2YKSUTxbXsPEUU4/jd+Y5AoWo2w3oa1C7QVpsLONEXKIkJ8a1wfQ4mKsD4om9ShkCI0qcfRBFSEjhK05Xm1/82zpa+W8iIHoGMHioTsYv6oYm+pRxWficmmGXbkqnNQqXMadqBwqo6QuI9dZ7C+oelE24Xd1vDxJWYfoxk2UbAN6Lt9ITTD/nqSPxN1+0V+BtdrK3/8zPyjEeTB5xedPHSoRhGSjUEbz9achuBUXeY4Lqe43FT/2Z2Cc4SKjy8qQsURm6sAFSFQUfsPPXTEcQNREIbIAXzJDhThd/jJpKcXiI9fgjJFBglu8vyik6J0Z7u0A4VTdWFA9QZwmmHfWn2eCLsdl5KzCvmNw91n+lZU3ttwufoUH3d6yh83qgLTTqtWhyQ8YUWlYXT1s1/tug6KcO4RXiYu9nOWjUEl5ZUkjA6Bn1lo/bRi6QIRFaHiLm1BEZaWlspbvVpkkLy9NluaWlCUlpZGRkaSI/LMdsTxRLX/0DtOAEpAFAQFcnDEJYKT86qC1b287DQUYtlIyeVj2vWZXXOcuuXMDXhX1V4B232IFiT/O21fyJVEfrBeWlprsM7H8vFoes7yPROT/eS8EzTDHg/PIOQzNGWLfCPjMjSgCNec5s8vmf5nSAMOjbDqdE2pMBTO7YJS6YLPak5UhELUithmFaFer4+MjBSGZZalbrXIIFk6a7kQtaDQaDSRkZFkwYrlHtl9V9U/9Hb32uyDiIJgQQ7gHnagOBfLvwUesfLeuZ1QmllDU1qzE8X0z63Z/A2VaAeKhmqqab3pmlKhFiT28OVn9l5LpRl23JbLwkeMRuPH1dtQSLbXVpwRDY0QBQleM2lbTfAaYTkNYkdnFGUV3Qt7lJKrtarzpGcQceA4TohCrv6aFUXCwmudPya80Qjsujqfnp5ORGFpaWmZTB+tVpuVlaXVamUqT8XFqAKFVquNi4tLTk42jaElo+cr8ZWWsXn1WRSiILSRA3idHSiOh/Mhjt9eewEKsWzYGr/QcmnK3bUDhXKNsbVk2BdCRB4JGdN1Bjtp21V+4/Che8fZk5IzC8sGePNhxh+fezwllz/dTvgRoiARrd+RPNzCcmS3y3R8rJnk3Huh0eHkYumyz0JOVISyD5m4wLoUodFoJKIwUr5PREREcHBwRESEfEWqtSS1oIiOjq6oqBA7jazXwl83WQtWX2GIgowZcgDftQOFHXuHn6h+NRmdUQT1OqFhBwrn6UVgdBbNsEQI0gy7yDcSbJphw25rTJvqH54xatW5Swn3DlCFPEIU5L3zEMmLBKAQJYys6lWDwuMT4eRiCzpP+i1UhEqMWq0y61KEJJNer5dxIq6oqIhl2aKiIhnLVGlRakFh6wEztXxL2oXw103aE402F6IgQ4scwMXtQPHHFf4MDJteI77yc2DVi2az4gNa0uCGHSgavM3QgL+C08jbYRJr5lJC7ue7+PiCsI8YckoxhCjisvit5Y9J3loupXy788RlFRN5B7EwozIKpQs+qzlREdo9NFIftKwIpZYiLZ/Qj6U90WhzIQoYWkSBKIAAMdAlAIgdKLZeSKQZ9otd16EQq8boNReqDkYLiHDSKMeNwCs2no0n24fjsoqrzh3hOG7zuQSiCK8m5VkdIFEGoVfkl1SQckCEiTLX26XRaISwgprSmvNyIMWq2pOSARWh4qOJilBxxOYqEH6lzd2/j9IQBQw2oiAokIMjLrE2kN98Om2fDZtPx266RDPsoZu3oV4nNFTtFYv8ImmGnXc0AsDGZRX3nOULxxlDuhRDiMJgMHabwc81Zkk7xlpK+fblER5Yl6HhN5cYDEYpOk96HlSE9g2NDU+hIrQBlnxZhV9p+UpVZUmIAoYNURAUyMERl/j5eLTZzQpQpqlBdrbuvJxsest5UlTtFSTo9NrAOCHPvJIKYRhC4S3LtggFiVATlVFo+Sml7+aX3DueJD67mOO4ikqDdLUnJScqQqUHkUNFqDhicxWIvtLmstwvaYgCRhpREBTIwRGXICdbLPKLhEKsGt/suUkzrNOee9EIvOI/W/mz5vZeTbU6FlIyiL4gw5afoRk2KC6H47jMwjIl1oOKlKu2otL0JfWd2qEHdXqDcNZQiuCzmgcVoRT3cCgPKkKH8Nn7sOgrbW8xjeE5RAGjiCgICuTgiEvMOhBKM+yqAP4MNImfHw7yjyw/ESMxf4NkU7VXkHNK5FqpKULx3gb+HOSjt+4YjUayc8WOtYmWxzS7iD+KhOSpqDREphfmFpeLHhEFmsktLi8q01kVeTZlQEUoYi7/JSpC+ZlKKFH0lZbwRKPNgihgaBEFQYEcHHGJqbZP+JmucoMG1I/hcyHRNzTdcl2q9goSa+ZGSr7lPkq8K0Lx2Y5gmmF/v5hEgpOT6DYSi5KY7XZBaYG2JgwZ2VCcJDiImRQSfkcjlHcJ2cUaLSpCiYCdJhsqwgYZCtFXukHa4CSVIgoYCERBUCAHR1yC6IPtF5OgEKvGryf5g3SZv25ZzalEhszqs337/+hvuXD1eoXRaHz0Bz+aYVPzxLGmLXe5rrsiFDOrZ4VXnIiZ6MPHu6YZduSqc3U9a196Uk4JCZQN035htzUGgxFKM10yGHZbI++hxqFpGpwjBOBKGagIlSJrsVzRV9pi3kZ+E1HAACMKggI5OOISXtVL1v4MToNCrBq/nbc5YI3VMqVniM4oIjqmvFJv4Sn1ekVJeSXpoLai0kIHpd8SoSB7icZtudy1etMxqUt4lJz0kuvKGZNZFH5HYzQaE3NKYCKwsKwmxAzHcZpSM9OB8gYjREVY1+jImY6KUE6akssSfaUlP9cIMyIKGFREQVAgB0dcgqwqY29ZeQkLVXAct/cqf7qufZFQhOXYZ99IyScixnRpmrBA9XpFSq6WZtg+s48Ju+OILUJBBD1h6LX1ypu/nqMZ9sANG/6TwGpjSFjB7KJykIOhaZrbBaXwIDmtRHhXCRvnCAG4UgYqQqXIWixX9JW2mLeR30QUMMCIgqBADo64BNnEcCrKhnDT7K10mmHf23AR6q1PIyguh6gZ4Xm4pg1Qr1dcr5a8Ly45Zdop+1JEKIKTayT1qz8H3korWHIsimbYqXtu2le46VOV+pogMqJw0xF3CvV3XxzDaSVKCEEoExWh6ejInIKKUGag0ooTfaWlPdQ4cyEKGFdEQVAgB0dcYnh1LJKL8WbOw4ViRQY5dfeNX2RefCaqpa7LExGZRBGaPd4XnlKvV5AOjl59HvrioGGK4nZBaX5Jzc6PoHheYQ+eH2A03lvn50iNFoLIpGv4aUJhJEJQb0oYqAgdGUdJz6IilIRJ7kymX2m5a1BNeYgChgpREBTIwRGXINtab6YWQCFWjatJeTTDDll22mpOJTIcunmbKELLKla9XkFeyv9n6xW56FlGUabTE555dzWig/Va2DIcdltTUl4ZmS7n4cUWpCQqQgeH0vrjqAitM1Igh+WvtAIVOm+RiALGBlEQFMjBEZcgJ1hEZxRBIVaNiDuFZFbJak4lMvxxJYUomBMWD1ZWr1dsv5hEM+xnO4LlomcVRd85x2iGtfwWXnpjRMsHRYpN9CpZdFfeS1SE0kfNzpyoCO0E59hjVr/SjhWvpqcRBYwWoiAokIMjLtFnNq8GbAp0IvvWB7L5dOqem+dis6EvdRlbqnc60wy7/7qlzRDq9Qqy8+PL3TfqImBrulUUzy06STPsrTQb5okttEF0GIm8Is+m0lARWhgmeW6hIpSHo42lWP1K21ieirMjChg8REFQIAe7XcJoNJL5tuwi8ZESUKapkVtcTp4qKtP9Z+uVXZdTTPPYmrL/ehrNsGM3XbL64OpTfDREEmPZQmb1esWmswk0w34j31YPqyheX3GWZtjzsfy5do5/kgQRZ2wScLJnRkXo+GhaKQEVoRVAyty2+pVWplpnLBVRwKggCoICOdjtErCGrLjchtB38BRZ0jf0f4HQALsNIoNGrDxrtYSl1XtjaYZdczrOQmb1esXawDiaYaftC7HQO5tuWUXxf+uDaIa1egyMxEpjM4tk13b2FYiKUOKQ2Z8ND9I1xwAAIABJREFUFaH97Bx40upX2oGyVfYoooABQxQEBXKwwyVuF5R+sPEirMmDsCBQlAXDaDT2mOlLTkOmGXaAt5XjQywUBbeIznt6QQCk1GV4Hw4nc4SL/aLqysNxnHq94pfqI2Fm7JftSBirKMjhJbuvyDDXy3Gc6Hg6+8ScLE+hIrTwBZHnFipCeTjaWIrVr7SN5ak4O6KAwUMUBAVysMMlfq/evvCPpadohu31gx+UINEY+NNxEsSOiDPLx4dIKXPG/lt8S2b5WY2BMv3PEFLprAOhFkpWr1csPxFDM+zsg2EWemfTLasoyNnWG87E11VsuqZU4n8zQDBCWSSd1UKiw0NST28NTS0wmxMVYV0DKls6KkLZUNpSkNWvtC2FqTsvooDxQxQEBXKwwyVWBvCyg/x7fO5xKEGiQWLWvLuOf9tIMyyJMyfxWbPZPtl+jRRVYu399Re7rpOcX/9hae+Fer2CTJf+dCTcLCg7Eq2iINOuy/zNz7mSYEN16W9NqS4tXwsH7lkIPWNWtDmYWLTxDc7bI+XMdrPloCK0w1tsewQVoW28ZMpt9SstUz0qKAZRwCAhCoICOdjhEj8eCiO6imbY5xadhBIkGq+tOFMdgOYEKcRysGgpZZLD9GiGTcvXWs7/X5+rpNKJPlct5FSvVyzyjaQZdgEbYaF3Nt2yimL58WgLs5LkHOR//mo+YnZOMX9UHUSuSc3TmhVnCiVWLu7KeXsU/D7ObPmoCG3yE3syoyK0h5rDz1j9Sjtcg2oKQBQwVIiCoEAOdrjEV7tvgCJ8xfatIWPWXIDHq6JVB0ZnQRvsM8jRKTTDWhWXH2y8SKp+b72lY/TU6xVzj0TQDLvkmPkZOzvwWkWx+Ry/u/mrOuLdEAn+zELzSzyJIgy7rdEbjEajMeJOPUWfDk3TRMQlc94enLeHfmHn0JQcU1GIitAOb7HtEVSEtvGSKbfVr7RM9aigGEQBg4QoCArkYIdLjNtyGSSdHefR/XvzvcerNpf8FWwpNCA0z4IxeH4Aac/ZGCshCUevPk9yjlxl6Rg99XrFnOrp2+XHoy3gsumWVRR7r6XSDOtVxykpTy/gh6b7TF+zSwmJIgxN0+SVVJSUV5rKMuVS4q4HEkXIeXskXPU3XU2IitAmP7EnMypCe6g5/IzVr7TDNaimAEQBQ4UoCArkYIdLvPHLOVCE/1oXBCVINGDZHylk49k6NyVAgbnF5QnZxWY3jhiNxu7Vm5dphj108zY8YtYYVn0QM82wLy45ZTYDSVSvV8w8EEr2cVvonU23rKI4FpZRFaH6nbUXTIvNKiwDPzEbtBIUYUJ2cYamTDn9Z1py6unfQBEWbR5d8b++eTsnCbOhIjQdUJlTUBHKDFRacVa/0tKKaQy5EAWMIqIgKJCDHS5BtoaQP/bjtlyGEiQaU/feBKFAM+wi30jLD1bqDc9XH4zx8rLTh0PuiDJrSnVQ2ragJNFd0SW03PKGGPV6BdlMbTnaooiJ5UurKILic6oiVA9bfsa0nNNRWTA04Xc0phlAEYamaaIy6u+VcWiaJuvgbM7bQ7ekB+hC409tIuISQRSiIjQdL5lTUBHKDFRacVa/0tKKaQy5EAWMIqIgKJCDHS5BDq8jf+wn/34NSpBokDeboBW+3WslnHJ2Uc0xJzTDvrzstKiW5NwSKGplQIzoruhy0Fw+8A15j2l2xpHkV69XWI0FIwJi9dIqivA7GpphnzIXDPLX6uCIBPhpc6tFhYoQpFj9GAXbPuK8PTIPzTHMbc95exh/ast5e/DBaNI0vDyNDCvTFovgWEUhyi/l0qoooqSUotI8VjsvY7+UGDwZm1efRSEKoI0oEAUQIAa6BACRiAIOHSF/6S2HcYHChcaSuweHkBLqWoIGj8RkFpGcNMP2nCVekXYjJR/ueh+2EnWl1w9+kLm0Qg9ViAyJKERPOcMl2fSz5XyiXI2xiiI1T0sz7KPmwlJ+uj0YaO+9mmrapAZUhKW/Ps95eyQF/ZV04c+0gPVZB2ZW7zv+N1GExRtGGhd15mJqRVayisK0g1ZTrIoiVIRWGUrKoMTgSarY+TIhChgTRIEogAAx0CUAiEQU6ZpS+DNPMyzzl83HY6w5zZ+0Bv/qCk0CDbuUkFu1JXnIstNkvaAofqHw1WRdO15JUXpDzUHMpOqsojKoQmRIRCF6yhku/99OXoT9ftHK23PpTbWKAt7am75mfXEJH8OcRDL/9WSsaaUNpghTCwzzH+a8PaLDbxAJGHf9NOw7jg4P4WcNvT25gloq1ioK0w5aTUFFSBUWFlrF5HgGJQbP8VY1SAmIArAjCkQBBIiBLgFAJKIgbwkHzw8Y8KM/zbB2BEP2uZBINNlj3nwJz1uLaOgXmk4z7P+tDyIK41pSXlGZLjg5j7T8r+A0EJeWFzUWldWsOHy0eqYwPlv8WtBWFJDfeYzJv/PBundeTparSVa9wmAwdp3B6/usojKd3gD1arQ1tMkiAbPHqDSUIoyMjiZviu/FnUnJq1zcjd93fOVY1n6GV4fb34W+EMMqClF+KZeoCFERSvETOfMo4cdytq8ey0IUABtREBTIwVaXOB/L7yR4bcWZN3/ldxwvtT303b7qeCU0w763no8O2OsHK6fP7bycTDPs5N+vvb+Bz3/o5m3mL/7YumNhGRzHkXh4RJ5anm7MrN762m0Gr0Fphg1JLYC+iwz1egWJ/2f2Fa2ojxIvpaAgyv6384m9fvCDA47J2/xnF54kZx5+sp1fb2o0Gif8duX/1gcR7dhQijDhih/n7VG+/HHhmsX8nf/lvD00W9/TLe7OeXtUhB0WIZKCQvSI1UtUhKgIrTqJzBmU8GOZm1hfxSEKII0oCArkYKtLHAm5QzPs+xsukhPh7NjW6ls950cOuiDTe0VlOmiGqUE2KDB/3fp2L38q8ZrTcUP/F0gz7Mzqs4mX+UfRDEsCDVqOKZOYw+9BGfCj/+srzlZtjz0fm2NaF0lRr1eQUJH7rzsa4hHISEFB5m5JTCKi/DiOI37yf+uDjoXxU7xvV4enIaK86r8oguJ5+PWmCGNvXkg+twv03+0Tqzlvj8Itb0NKaJom4cox/k1xddhq3ZIeZWXiRQVSUAA3iQYqQlSEEl1FtmxK+LFsjavfghAF8EYUBAVysNUlyJTPp9uDr6fkf7L9GhxBBuVYNc7EZBMhuOFMfL85x6riGyfllFh46qcj4eQcjuUn+POUp+65SV5TjqqOMj1jPx+B75s9fESb/j/6WyiHvO9+ekEAOVL5wI20o7fulFea2V+iXq8Yu+mSlLiMFiiJbklBMWoVP1vcrfrdMUzTrguMJ+MSnMxv/XlhMR8A8nL1klCaYecf5c/Zy81IiYhLEsoy3k4tEKdU7/91JLHif/05b4/YkIukkNw//h/n7ZH953eiMpOC/tIv6Mh5e2QdmGW6LFIKChE9q5eoCFERWnUSmTMo4ccyN7G+ikMUQBpREBTIwVaXWBnAy7IZ+0PhQVuN4OQ8ogj/Ck57aelpmmFhUaDZoqb8wR+at+lswt6r/PEYT86rORC52wxWW1H52Q5+L8UvdwOdVFTeW8omKu1qEl/vkGWnvbZeIQFTaIZdfsJMwBr1egV5Ee8bmi7qu92XUlB8uJGXoeTfk/NOkLpmVcfK/vl4NNmM3GsWvzaAjCDNsPzhh6cXGX9qm3nYWyjLUs78XrmILtg+ISwpQ5juiB0ZE0Nm/lJP/8aXk1pQsaxP9Ubj/abFxoReyzi6IDzhNipCu31G6oNW5bDUgiTkk+LHEoppDFkQBYwiokAUQIAY6BIARCIK78P8jJ0dywehoqiMQqIezsRkv72WP+PYP5xfEVjXZ/xvvID7MzgtKI5fwij8dzkhFxYXkjmqrELxyz4olsxNjlp1jrzvJuWYPc5OIgoo2XmMdyTwtKm1UlCIDqEhYX0mVI/anqspEK6oQFuxVBB4KPPCdn653rI+oSl5RJllHpkL8aK1q/8hjBdtKt2kpyQF/UWKzTo4OzRNExtyifP2MMx7KCwp00IhqAht8hN7MqMitIeaw89I+Uo7XIk6CkAUME6IgqBADra6BIl4t/lcAjxoq0Emjaq2D4ff0Uzaxu+N3XU5xUIh//yVP4z4VFSmMBg10XMbzsS/tuIMWRT4RPXcYXRGUV1FkQVt/1oXRF40g7I0DUOjXq94q/rg5lNRmXVBsDVdCopp+/j1nfCPbOJ+9Wd+reeFOH694MCf+MDgMZlFn++8Dtm2BkYaFtP8XN3FA7xQu3mO6La8XR9XLuLTTd/qWhBwFm5lHv6JlFzwOx9uMOPogupFhO9YeCQ0TYOK0FZXsTk/KkKbkcnxgJSvtBz1qKAMRAGDhCgICuRgq0uQvQt/Bdu/dyG/pILIgqzCMrJr2GywOmgYOXruRkp+RaWBrCAkrx1phv10e/BTCwKIuHylWoJcSsiFB0UGiVMzbsvlhb6RoEuq9pqY9kW9XjGyeknf2ZhsUd/tvpSCYv7RCCHPc7HZRqORhPghy0yHVx8nfT42h6w4JC704cZLpUemk+29oWma3D8+gxjRyed2m+4FtizgLNwt/O1fRBGW/vpCaJqmZO0rnLfH7RNrLDxyvyjCdevWPfbYY62rP88995yfnx9xlCFDhlCCz6effgoOlJKS8sYbb7i7u3fo0GHatGmVlZVwKzAw8IknnnB1de3Ro4ePjw+k12WgIqyLjKLpUr7SijbAeQpHFDAWiIKgQA62ugQJOuPILJTBYBy+/Myw5Wf0BiPZKfzjoTCO41JytbfSzESE6Vu9+4Roi2cX8oFjaIbdcIbfuPDswpM9ZvpWxaa5U1BK9oscC6tzCd32S3wUm0+3B8OiQxI2xfTYFfV6BZkxDaqemYORdcSQggJ4kqH540oKOXiw2wyWLOv8aDO/0HD/9TSykehUVCbR9NkJN0lcwOjwG2RLR8KVY6FpmvCE2+RwOYggbVm9Wb6rW/ooUYT6+X+LiE0gG4ojo6MsP3VfzBEeOXLE19c3NjY2JiZm1qxZzZo1Cw/nj/0ZMmTI5MmTM+5+IIi0Xq8fMGDA8OHDb9686efn1759+5kzZxL3SkxMbNGixbfffhsZGbl69eomTZr4+1va58VxHCpCR76Zdj8r5Sttd+HqehBRwHghCoICOdjqEjBjBw/aYej0BhKRjuxI/W4ff7TxsLszScICYRVaYXWEGiL7aIbNLionR5gQFVJaoZ+07arlF9Abz/Iicuqem1vvhsgmsQyfmHfCYDAKK1WvV7xSHZfnSmJN+G5hp+yzpaCAkONPV8/XLj8eTYIRQuxxshOc7BnvNoMtr9Qn5pQYjcac4vKSda/y4aAXdKqZFLy70bho0z85b49032WWdFtqgdWNyZExceQAEnJycQa7kPP2KP3lOUvFVm9tvi8Uocgn2rZtu2XLFqIIp0yZIrrLcZyfn98DDzyQmVmzKGH9+vUeHh4VFRUcx33//ff9+/eHRz744IMRI0bApVkDFaFZLEonSvlKK90GJykfUcBAIAqCAjnY6hJ9ZvPxYuwIOgMVCY0t5/nzS8jpc0TbiWIK3ingD83rOcvXaORF29fV+47/sZQPZQLL1x6fy58/Sy4txEdcUR28ZtaBUBIi+4l5J8or9f2rT14Ju60Rtkq9XkGOjLueki/sjiO2FBT7r9ccG0PWAEzde5MEI3xv/UVStTCKuHB8c4rLY25dgTm8dN8lINTu+K/kvD2KN4yAFJERlpRZtnKwdvWLUZFholvCy8SLBzlvj7IVT5YvH8h5e+iW9uKDy1RvMRFmM7XvL0Wo1+v/+OMPV1fXiAg+LNCQIUPat2//4IMP9u/ff8aMGVqtlgzknDlzHn/8cfCnxMREiqJu3LjBcdxLL70kFJFbt2718PCAnGCUl5cX3v2kpaVRFJWbm6tT/qPVag8dOqTVapWvytlrQBQwQogCUQABYqBLABApKIq0ZUS35RbK89O67UICzbAfb7uq09UcelYVICYwKgNadTOZP9T46QUBJGWxL79kbaLPFXIZdadg9cmYU5HpOp3up8NhNMMuZMPhWZEx7wifYd6RsMjb+QO8/Zf4Ruh0OrI59+jNNGFmKSiE+Z3Hfq76OJbrSTlyNUkKCv8wPmh53znH/rzKv5d/f0PQ6pN8iKIpu6+TZqTnF5OX+1X7S8ZuughtyygoCUnODY+MKFn7SsWy3mHRsSHJueRfZNiNmoPmYhIhUWjEXzxM3gXrFneLCT4tvCW00w/x20ryfx9XuHk0yc8HJrx2UpjHrF2sLYN2EkMKCtEjVi9zc3MpylJIPgq0lEJGaGhoy5YtmzRp4unp6evrS2rZuHGjv79/aGjozp07O3Xq9M4775D0yZMnv/7669ASrVZLURRZfdirV69FixbBLV9fX4qiSktLIYUY3t7eggWKvLl79+5D+EECSAAJIAG1Edi29xAfi5g5evCgPE2fsekwzbAjFx/Zf5AvmfwbuuAolL5kG5/hubk1KWt2HXpx3tGFPochAxif/HqEZthxK45Aisj4aAWf4dPVfIYDd9v/+iI+8YfNZgoUPa6Ky8dmH6UZdu2uem3sb3sOdZtx9M0lR5Zv5wfxyR+Pjq1G/cmv98bin0t4zjTDfmR2gA4ePHTwgKjRhYv7ct4e13xmiNLJZdT6CeR1ML9xeHG/Q3V4ZMbylzhvj7BNn8aveY8owvL5nUzrMltFPSTu3r27gRVhRUVFXFxccHDwjBkz2rdvT+YIhTLu1KlTFEXFx8dzHOe4IsQ5Qqv/laB0BiX+y0bpNitUPqIAsIiCoEAONrlEcCIfERBm7OBZu439wSk0w3648aKmhH87TP71nOVbUVFByiQZPtgQZLWKNaf4ealv9tyoK+eU3Xzok7WnY4QZPq5effh7UIIwUb1eMWguH+clIi1f2B1HbIkoMgpKtGXlydl8pMmes3w/qj46ZdelJKiazCPyW4ICYyGRzBGanaILSc7N+nMa5+2Rt32C2QxFG0bwCw2PzDPMe4if9rt6wjTbrfg0w7wOnLdH9M2gNP9VRBHm7fivaU7TlPtljlAo/oYNG/bJJ58IU6pWY5SUlFAURbaJOP7WWFg4riMU0qg3W8pCkHprTMNWhCiAP6IgKJCDTS5x4Aa/Yuy9DTXrw+BZu41jYRk0w767LqhAWxOShohCEuWY4ziya+HzndetVrH9YhLNsJ/tCK4r56fb+dNNtl9MEmYgCxNF4RXV6xUDvP1phk3ILhb20RHbJhSVegPZ7kOaIdzyXKk3kH0np6OyoD2WzzWOv3ac8/aoXPR3CGEdmqaJigy7c2xFeEKaYf7DnLdHTOiV/J0TeeG462PTtYAkNnXF//qFphYkXGaJIkw+t9s0p2nK/bWOkAzJK6+84uXlBcNDjAsXLlAUdevWLdhZkpVVM4QbN2708PAoLy8nO0sGDBgAz44dOxZ3lgANpzJs+ko7VctlbwyiAKSIgqBADja5xP/8ox08wg6qI8bpqKyqU+z++ev5zEJ+hWL3mb5EUmRoao4eIWcZ/3DQ+qF5JNzg+N+uiKqAS3L2iSj64Iz9t2iGFQVEVK9XkH0/qXk1OwGg73YbtqIgW9Fphu092y+vhN+ECp/g5Lw1p+OE27otK8LQlNzKRV04b4/4awGg2Ap+/zfn7UFiCvJiMTU/PvgkOYMkMiYmNCUXclbHOOTPL87d+1VomiYyJsb4UxvDvA7hCWnCPHXZ94UinDFjxtmzZ5OSkkJDQ2fMmOHi4nLixIn4+Ph58+YFBwcnJSUdPny4e/fuL7/8MhlFEn3m9ddfDwkJ8ff379Chgyj6zPTp06OiotauXYvRZ8Dvnc2w9SvtbO2XsT2IAmAiCoICOdjkEuQQYdGMGpRgh0EOpnttxZmUXC3ZnUCOLY7KKCSl/XAwlD99+Hi01cLhSJK6cv5rXRDNsH61z/wlIVGWHIsSPqVer+g1y49EZxR2xxHbVhT/t56H3HOWr3AusK4GWFGEaZqC7fxiwawDM0C3la0cDBtECn97l09PLYBE/cLO0REhNZlTC8gu5sSLh0hK0oU/SbxDKM2CcV8owokTJ9I07erq2qFDh2HDhp04wR9KnZqa+vLLL7dr187Nza1nz57Tp0+HeIQcxyUnJ48aNcrd3b19+/bfffedKEL1oEGDXF1du3fvjhGq63L6Bk+39Svd4A1WrgGIAtgiCoICOdjkEq+vOEsz7Onoey/+4HH7jGtJeVUFvrzsdFxWEc2wg+YeJxH1Lt89eoSce7b1QqLV8s/GZPObVFadqysnOTAjsHbjSYhs78N8XF74qNcryJkupufyQddsNWxF8dv5xMHzT1g+qBraYFURppz5nY8ds3JwTdzBlDwSuZqIQohWkxK4zfhTO5J459gKovNib17g5w7nP2z5/OK6ROF9oQhhJBrEwHWEDYLd1q90gzSyfipFFMAZURAUyEG6S+gNRjIFlZIr20vJ0DQNv5V40cmw27zxzMKAMWsu0Ax7PDyDNOzDjfxxF4du3oZ21mUEJ9eIy7oyDK2O3nw1qVb05tWnYmmGZf7iV0nBR6VeoTcYySrM/Nqva6Ffdhh2oCCRI6XUZVURRsQlG+Y+yIeP2fGfsOSsqMhQXuTNba+f/zfO2yPuxlnQc2HJ2VkHZvE5d04kiSQYdeFv/4I8NhmoCKWMoEN5UBE6hM/eh+34SttblbM/hyhghBAFQYEcpLtEcm5J1aEgvX7w09c+4QNKsMOIyeSnBp+YdyI4OZ9m2JeWnp7w2xWaYfddSyWlkVlJKQf1RqbzG10Hzw+oqxlwArIwgzBENqSr1CvKK/VEEZLzXaA7jhiKorCqCEPTNGknN5LjRgp+H5d4iY9BWLbqqfjgU6mBPiKFl3RhX/Xdp0l64Za3OW+PO8d+FmWTeImK0BG3kfQsKkJJmOTOpOhXWu7GKlseogC+iIKgQA7SXYLsAhmx8iw84riRlMOrzH5zjl2M5yNRD19+5qvdN2iGhaWKZFlhxJ2aZYUWaoSViGbzVOoN3Wbw0W1Eb1R3XebD33z8+zXhUyr1ipLyStFObWGn7LMVRSFFEYamaZKC9ldPDT6Yzi7mvD00W983q+oio6Org1q3CUvKCE3J0y/szEeluXnObGariagI7XMYG55CRWgDLPmyKvqVlq+Z9VESogDKiIKgQA5SXKJAWxEUn7PpLH++iJRAMFCmVSNdU3NIXWA0v+n4zV/PzT7Inyzyc/VWkkq9QfrCuJzicqKHhLtZoQGkoh4zfUV3STydf2++DDk5jlOpV2hKa859qag0CLvjiK0oComKMDS1QLekR/V5xM/yG032M+b13N1scddPx4ZcrD4uuaNo97H5B6sPMhbdQkXoiNtIehYVoSRMcmdS9Cstd2OVLQ9RAF9EQVAgBykuQebtHquOdUe0GjzloJF7V8aRncLvrL3w83E+wM2cQ2Ecx2UV8SFpus1gpbynLtPVvDMtKa80bdX1FP6t9AuL+QORhR8IiChMVKlXAEzpK/mEvTZrK4qCKMK4rGKRGjO9LNg2FrYYp53caJqBpBRtHsN5e9w+/sud6njURZv+WVdOq+moCM36g5yJqAjlpCm5LEW/0pJb4RQZEQUMA6IgKJCDFJcYvvwMmX6jGfbgDeubPKBMq0bx3Red+66lVh9ecmnzOX4m8us/bnAcF36H324yeD4fE8Pqx2g0mn0vTB70C00nobBF5Zwxt0NZpV4BMR1FfXTkUlEUOcXlkemFBdoKq/rsjv9KUITx107UlT/r4GwSrZqELcw8MreunFbTURE64jaSnkVFKAmT3JkU/UrL3Vhly0MUwBdREBTIwapLGI3GfnOOgSK8lVYAjzhu6PQGUjLZ4eG19creamnotZUPNE3kmvSViwN+5E/sSMopMW3Yb+cTzb7yvlod/mbo/wKFj6jUK24X8K/ge/3gJ+yLg7aiKHKKy9PytWU6vVV9RkLJEFEYERtfV/7k83v5l8urntEt7cV5e0iPPmhaICpCBz3H+uOoCK0zUiCHol9pBdqrYJGIAuAiCoICOVh1CVidxvx16//tDJbyAhfKtGoYjUayUnDFCf5U4sm/X/MP58+1G7PmAsdx5BgS0SI/C2U+szCAZtjwOxrTPAt9I2mGnXc0QnQLot4I01XqFWQzeL85x4R9cdBWFEVOcTnZFh1+R2OqyWqlpOTpF3TilwYu7FwTm9Dc4r+oqAiYSjTMfdC+SISkXlSEDnqO9cdREVpnpEAORb/SCrRXwSIRBcBFFAQFcrDqElEZfFSXQXOPQ055jd6z+WM25h6JoBn2y903LiXwm45fqZ6023AmnmbYb/bclFgjiW4tijhInhVtYYYC47OLaYZ9zNsfUtS7syQui+/LwJ/kHClFvyD5JRVkyWNCtvWlhEWbR3PeHto1L9VSiiJdmFpQtPENIgrzdk22lFP0oMklKkLhN0IRGxWhIlitFaroV9pa5c51H1HAeCAKggI5WHWJU1GZNMOOqvssECjBPoNsWJm2L4Rm2O/2hZCwgk/O49cOLmB5mbiAFU/s1VXRm7+eoxlWdCoJyfze+os0wx4JuSN69g550zqr1ptWlXpFdAYf3JGgE3XT7ktFUej0NXuiMzRlVtVbuu9Sfo3g7k+s5EwtCEvODkvOtpLNRAKK8qMitNtnpD6IilAqKVnzKfqVlrWliheGKAAxoiAokINVl9hxKZlm2EnbakXsg6ccN0jg6E+3B9MMO/NAKISJMRqNU/7gYxNuOBMvsZb3NvCyz7f2ycXk2ZeWnq6KbnOt9oElHMcVaCvIQsbKu+pEvXOEZt+AS0RXV7b6+YJotDqRIDO9DEvOvn1iTWRMnOktJVJQEdblErKloyKUDaUtBdXPV9qWFjVYXkQB6BEFQYEcLLhEgbZCbzAuPRYF4WAgs4zGi0tO0Qw7dtP/Z+9M4Kuqrv2fakvrUPppn3ze5/XA2fciAAAgAElEQVTfehChg+BUsaX6lOdQqNg6dbC2tbZFLdVW6sRJGGUKCoLKKDKjgAhCgJ2JkISQQAgJSUjIQAIZCWQk401yx/PPuSssDnc6dzj75ObedT/5+NY5Z4/fvXbfj33OXls+re6d/acNxv4wy1295j+tOy6IbHdOrZfV/XWjfN7JzsvnnWAum63//L3aS47n72HMmo4eE6YfpF6RX9PqMsIO9ssPQx8URrOVh6oLpExShH54i29ZSBH6xkuj1PpMaY0ay7cYQoF8CQWgIA7uXOJcY+etUbGvbjv5n8/zBJGtTvV2oQ4L9NJ46P1UQWS/Wp4uiGxRXInNZhs5PbbvHJHzrd0TP0jr+6bQmyPsoK5Xtp3sW/DblFHhUDUG6nMO3XwlZk17D+YapF6herIzdtB7QzcURXXtgQg4zfOSIvTeSfxMSYrQT3CBZdNtSgfWTD1yEwqkTCgABXFw5xL78+sEkf1wZtzTqzL6dpbE5GkZhhArlSTplx/KH/+NXyy/1V128IwkSffMPyiIrKiuHQ1leg/227vkjxFXppQ7pLkc19D1kccQW6eq+UrMmkHqFbAp5+H3r4qk44DC10vdUJQ3dGiu6gIpkBShr67ic3pShD4j0yKDblNai8byLYNQIF9CASiIgzuX2HqsEj6wg+gwLjfwYt5AjCdWyooTzi8GMQerhhnlTR4iTruscc6+04LIFieUODw9VCxvjnl8+RGH+3B5z3w5Zk3xhStHJw9Sr8gobxJENmGZlgdP64aisqkrEAGneV5ShC4ni5Y3SRFqSdPrsnSb0l63aMASEgpETygABXFw5xIfHSoDRQj/Pd/ajSm1NWA7CLwpXnfknCRJsCoJO1qGRzLlng/PVS9OkD95nLPvtEOyz4572hzzv+/JHzKerL6EuQapV8DZ0JM+ci18sXc+GbqhqL1k0FzVBVIgKUKf/MSfxKQI/aEWcB7dpnTALeVeAKFAxIQCUBAHdy4B620gB2/xRZZhgV4af14vbx+Bv62ZVZIkwQYRaICXR9hBXStTygWRvb0r36FqOCt55l75rGTn34Rl8teKR8ub8NEg9YqkInkp9Al7cG/sS4CGbijq29UD0ASi8HzNS4owQM9Rz06KUJ0RhxS6TWkObde4SEKBQAkFoCAO7lwCIr+AUBsXfQiTaW5M3nwCFeHOEzV9EWGgalCK3h9hJ0nSpgz7UXXbTjo08k17sEPn7wshGby2Tiqqx1yD1CviC+XjXp5ZfRQ7ErihG4rmzl5fRRvX9KQIA3celRJIEaoA4vNYtynNp/lalkookCahABTEwZ1LPL9BjuQCf0+vks+U4/R75TN5gzD8wf6V2TGFEEVFEJn3R9hJkgRnIv/VfiaysrXwYWKcqziFkiQ9u9YxePUg9YoDp+TNQL//+Jiy7wHauqFo61YPSchVAjoUToowQM9Rz06KUJ0RhxS6TWkObde4SEKBQAkFoCAO7lzi1yvkcDA/mhkviOxVp1U3zBW4AdFtQBHGF16QJGlpYilqxKk7cr2vgp260LdJ+XdXS6Jz9nPqRk6PVUYcVJb5t03yIiUsT8L9QeoVMXnnBZH9cV2msncB2rqhMBjNDppsYC9JEQboOerZSRGqM+KQQrcpzaHtGhdJKBAooQAUxMGdS0DgaPiY77Pj8ud9nH7i7lOo/1JKGiRJWnfkHN7x/gg7SZJSShuc9xR/kiaX9uf1x921HxYpNx+txASD1Ct25dQKIvvLhizsSOCGbiiCLUg1KcLAnUelBFKEKoD4PNZtSvNpvpalEgqkSSgABXFw5xKjZycIIjvX2NnSZbTZbJhMcwPeEYMEzLBv74ClPkFkt0Qy5ed9qlVnVbT0RbR+aIkckK+xo/cPazPnHSj67ZqjgsiUgs+hHPjKUBmCe5B6xY6savt5gyccOhjIpW4obDbbwC4KOtROijAQt/EqLylCrzBpnUi3Ka11w7Uvj1AgU0IBKIiDS5cwmq0g0VoNRkzAyVjAinBFEM4dNlms646c25VTW684R8Sb2pUH+75l302CJTufX4cFztwrf7a41B4cG24OUq+AeD0vb9XyBGo9UcCxJSUXg+LwElKEOEF4GaQIeZH1WK6eU9pjQwb+IaHAMSAUgII4uHSJhvYeWKKzWjmuDkLVSxKufDVYUNuG7fHDqGjq6jsHeczshILaNgisDTGuPW9Yjo4tFkSmfD09SL3C3VZrP0hiFj1RlNXLx5Y0dPQEw4l2pAjRB3gZpAh5kfVYrp5T2mNDBv4hocAxIBSAgji4dInSix2CyO6edxCf8jOUobBLL3YEUhEKWXhTPHVH7p7c2jvnJu7IqvZQ7LKDZwSRzdhbgGkGqVfA95c+7cXBLrsz9ERRYT+2pLPXHAzRqkkRunMJze6TItQMpS8F6TmlfWnXAKQlFAidUAAK4uDSJY6dbZY/yNP0hFysyMH4+PBZfLdb2XTlcGGHZN5cdvaasaiR02MvtMnnrKh+BAkNeGPnlbjWg9Qr1thJKjviDTTPafREUdMiH1tisdo6egY+Eg0pQs+OocFTUoQaQPS9CD2ntO+t0zUHoUDchAJQEAeXLhFXIIdx+Y2msY6xIgcD3nWCkgMN55DA+0uL1YaK0Pstt1vsJzj/87McrGiQesWKZPngQXH3KexI4IaeKC629ZyplxeJbTbbgL84JkUYuPOolECKUAUQn8d6Tmk+PdCsVEKBKAkFoCAOLl1i23HYtarlHgWsyMGAukDJtXQFupEFAigKIvM+Ys4X2TWCyJRxrQepV3yQJL/+nr7nyutvB9R+XOqJoqmzt6bFAI0c8BfHpAj98BbfspAi9I2XRqn1nNIaNZlXMYQCyRIKQEEcXLqEuwOCMbGGxm57FD1QhJ295gBLxjXCBq/3KTsf9TFIvQL26MzZdzpAhsrseqJoM5iaOnuh9jbDAL84JkWodAMuNilCLljVCtVzSqu1ZYCfEwocAEIBKIiDS5eYf0COCBMdW4xP+Rn78+Wz1+DPZLEGWBEW5X05ySX1gsieWJGOWQapV0THyZum5x8owo4EbuiJoqvX3HX5nwQWq63wfJtDjEC41Gf5kBRh4M6jUgIpQhVAfB7rOaX59ECzUgkFoiQUgII4uHSJ13fmCSJTBm3GZJobiacvgoy7JZKp7gJRrR2KenGLD++7j55tEkT26NLDWPgg9Yp+HR+npY7XE4XRbFVGOypv6HSpCI1mq7tHLtN7uAm7m10mIEWI04GXQYqQF1mP5eo5pT02ZOAfEgocA0IBKIiDS5eAo34/P+EpaAtmDNA4fKYRZNwPZ8YFWJQkSRszKp5aldHY0f/y0ZsC82paBZHd/24yJh6kXgFHDi5JKMWOBG4MIIr69h5nrXa6To5Y2dmrwSHIZxs7G1xVAZWSIgzceVRKIEWoAojP4wGc0nw65H+phALZEQpAQRxcusSTKzMEkSWcvohP+RkQ6UYQ2R3vJPKrxUPJEHzxJ4rgi5p4RX5N67+355bZN896qF3DRzP2Fggi+yDpjIZlaoLCv/Z0uZJ9Zxs7obTyBjmcdSB/jR29rQajuxJIEfo3aj7kIkXoAyztkg7glNauE9qURCiQI6EAFMTBpUuMX5wiiOxEZQs+5WecrL4Ea4T3LkjiV4uHkmtaDILIfjwrHtME7hXZlS23zYoXRPbmF1fCHGL5nAxx9ylBZCuSyzQsP3AUfjfGZnPxKSGeRljX2u1OzHl5v9dsMRjdrjWSIvR74LzNSIrQW1KaphvAKa1pPzQojFAgREIBKIiDS5e4451EQWTlDQGdIIIlezbgMGJBZP/73pX3tp6zaPu0saNXENlwxVeMAXpFXWs3yEHdonwDkDd25gsiW3P4rIZ8AkQRYEsq7aeYKBUebkb2sLynTO/OhrVbs8XqLgEpwgDHTj07KUJ1RhxSDOyU5tAh/4skFMiOUAAK4uDsEmaLFRbtmi+HAsE0PIzyBvnEPEFkD+tyRIpzF/CkExQBAXrFntxaQWQP2tdZBZEFHmTRuc0u70zdkSuIbN2Rcy6f+nczQBT+VYq5mjt7HRQbxifqNVscHvl0icGJTtfJr57hv1BC8YX2gto2dAZsDA8UqqIoAqsPPUO18xp2mcfgadg8PYsiFEibUBAKJAAGuQQCQRQX2roFkY2IijUHHAsGC/dgwEtbQWSPfXjEQzJ+j/CkE5RuiMK/Sj9JOyeI7LUduQ+9n9q39nmouN6/cnzN9cq2k33aelNGha8ZPaQPEIWHkr155Cz7lPGJ/D7XpKiu3WK1QQPge8TaSwYs7bz9fTQpQm8GKKA0pAgDwudv5oGd0v62mks+QoFYCQWgIA7OLnGkTN78q8+hxpIk1bf3wBrhU6sysDE6Gz+YESeIDL9RC9ArIC7g3P1Fb30hv8ZdnFCiT3de3potiOzTzCoNqwsQReAtKb14ZQdJUV27skDnd8peLhMqt6JXN8uHKbcajFBaycX2S13ydhNShErUXGxShFywqhU64FNarYH6PScUyJpQAAri4OwSG9IrBJG9vNWHkH5YiB9Gq8EIivD3Hx/zI7smWe6ed1AQGe4LDtAr4Hu+VanlO7LkwwCfXatTvyZvPiGIbEeWljGDAkQR+Ogod5Ccu7zRGIpt6HARnsaDKGzpMhqM5poWgzLs5cU2uRCTxdrYIb+hrmkxQGgbUoSBj51KCaQIVQDxeTzgU5pPt/wplVAgNUIBKIiDs0tE7ZGDmGgb1g5rcTYMRjMowuc3ZDk/1efOfYuSBZHl1bRCdd57RVu3adnBMw5K5YWNWX2bl3eeqCmrlz+R/NHMeOW7Tn49+ssGud5dObUaVuE9Cg0rVRbV3nPlOLvzrd3KRz5FJXT3UWxLl7H0oryDCvYdN3X29pjkLxRJESpRc7FJEXLBqlbogE9ptQbq95xQIGtCASiIg7NL/G7NMUFke3PP4yOuBm5k8emgEW2b9ItlhwWRHT3bBMV67xWwmePf23OV7Xl8+RFBZMkl9Var7fY5CYLITtX2a01lMs3tP607LogsJk/LgfMehebdgQKtiuPscKOx8yMPS4MFtW0Okl3Z1M5eM3wtAMFuuo0Wq9VGilCJiJdNipAXWY/lDviU9tg6XR8SCsRNKAAFcXB2CXiFWnhePhxCn9+IqFhBZK9uO6lPdc61PGGPyJ1U1L8FxEuvyK5sgdXNx5dftSdmXPQhQWT59hXH338sy+t9+XXOlWp+B+o6cErLurxEoXlflAWW1fd/StjeY1LelySpqrkLtCB8DuhOFxqMZoeMeGk0W1sNRrisbOqCF8qn62iNEAlxM0gRckPrqeBgmNKe2qfjM0KBsAkFoCAODi5xsbULgvN1Gy34iLfxY3sw59d35vGuyF35z32SqdRt3niFxWqb9JG8FiiI7PY5CViyzWYbNV3epwKvOCdvlnd7bNf02z6sy8F4ZvVRQWTxhVqeNOMNCodmaH6Jaq/X7OiTEJWw+EI7vOp1qQirmw2em4Tv9DG0zZn6Dnpr7BmaBk9JEWoA0fcigmFK+95qLjkIBWIlFICCODi4RPqZev2DRd81Vw6IHfllATZGZ8NhT4Y3XnHCvkA4erb8UlgQGa4ztXWb4A5Iiv98nieI7JM0LWMEuoPjsNLpLplP971B4VOBfiSG04cLz7cpd4RAORb7O+WLbT2SJGH4GKUuLDzfZjRbfa20oqmLFKGv0HxOT4rQZ2RaZAiGKa1FPzQog1AgREIBKIiDg0tszpBj6f11o66bPH66MEkQ2Zx9p7ExOhv/3i7Hdt6Q3h/JzxuvWG/fkf3iluyxC+TG45eCZxs7BZGNmd2/aghnDS87qOVZw+7gwJplammDuwR+3PcGhR/F+pSlzSBvLjnj5oToquZ+9eYyGI27DSWeG1DTYiBF6BmRBk9JEWoA0fcigmFK+95qLjkIBWIlFICCODi4xMy98kbjhbHFeF8H44H35GOUo/WtVNkvhxOBvfEKWPz7MKnsN/Z3tfj1XlaF/HHh+MUpUP6iuBJBZPMOFCmr42RPWJYmiCyjvH9/jCa1eINCk4o8FAJvhKuau1ymQemGwWjwAJKKJtdZXJajvFnf3oPF4n0eKFRFEZ1ZgvwDMngMXkANGrjMhALZEwpCgQTAIJdAIIDiuU/knRA7s2vwvg7GI0vlrb5LE0t1qMtlFXP3Fwkiey++P5S0N17xqL3Nh4rrX7e/F16ZUg4lxxZcEET2zOqjcLkiuUwQmbj7lMt6tb35sP2IlMxzzRoW6w0KDatzWRTsAr7QdlXoGeeUXb3mgtq2863dPSZL6cWOmhaD9fLBJM6JPd9ptsegcUjDAwUpwoj29qvCjjtA1+qSx+Bp1TadyyEUCJxQEAokAAa5BAIBFD+1vwM9WX0J7+tgwOtOFFU61OhQxZKEUuVra1WvMBjNt0TKnw82tPcsO3hGqfm2HqtUxvfelCGH+35Fl23UcJJyTlWLQ+8CuVRFEUjh3uc9U9+BZwy6y2W12oov9B9Ph4fUuUvs+X5bt4nWCD0j0uCpqhzWoI7LRQSJH19uzkD+X0KB9AkFoUACYJBLIBCTybRjdwzsinAO84HJeBhPr8rQbfuFy/avSi0XRPb2rnx4quoVOVXyq+GxC5IkSdqdUyuI7LlPMiHvUrtAjNrTv0vmi+waQWQv6PJdJsTZhqg3Lrvpx01VFH6U6UeW6mb5KBHVjB6izKjmVSboNlpIESqBcLFJEXLBqlZokExptWbq8ZxQIGVCASiIg9IlPvxUVoQ/XSgLHT1/z66VX1VvOVapZ6XKupQree09Jg9e0WOyVDR1bT4qLwT+bdMJSZJg0/H97yZbrTabzTbdfuLL0stbSeIL5ZfIv7n8EllZqeY2bNDRNpCkBxSat99DgfVyeBmftwx7KNDzI5PFSorQMyINnpIi1ACi70UEyZT2veHa5yAUyJRQAArioHSJyE/2CSL707rjeFMfA49906c651p22lfy/rox6/CZxuGRbHlSaUxMjMnkGA9ZkqR/2Xclg/aCDx8b2nv65OwtkewvG7LumX/wSXuwa1S3R8oaBZFN/CDNuVLN7/zEfjoznMmmVeFBMkE6nGJTa9VBd+WQInRHRrP7pAg1Q+lLQUEypX1pMq+0hALJEgpAQRyULvG3D/crP6fDR7yNpKL6v2zIamiXo8oNyO/AqTpBZL//+NiHSfJGkKdWprtThOMXy9ui4S/xtBwL2maz/WCGHJJa+RdbcAE6klt9SRDZ/e8m69CvO96RwzqWN3RqWFeQTBDnSIQa9tFlUc5fIvJAoSqKaK+xy9Hx+SaPwfO5EcGRgVDgOBAKQoEEwCCXQCAmk+mxRbIi/DSzCm+GiZFS0iCI7FfL09/Zf1oQ2Q9nxu3Z62KNUCn+hkcyCIwsSRLsO1YqwuOXN/yW1Xf0nTV819xEHUjeZj/6xV2UFv8aQBMEufFAQYqQ9hqjg+lk8PBjnZqudTWEAokSCkBBHJQucffsA32vOLUNX4LlB7ORea5ZENnD76dCKBlBZB9vd6EIL3UZQfbFFlxgp/pXASVJgiNPnlqVcc/8g5DgbGP/Ql1da7cgspHTY11232SxTt2RO3e/NtEKR9mXKuH0PJfV+XGTJghC44GCFCEpQnQwnQwefqxT07WuhlAgUUIBKIgDukRbV/dwUVaE/h3zgOUMRqOgtk0Q2bjoQ3/bdAIk3cx1+5y/Iyy+0C6I7CfzDjr08fi55imf5lQ1d70XL8ejFkTWZuj/BrG9p/9QO+czeSVJ2ppZ1Z++28U3iw61qF6OiIoVRFav6ct3miCInQcKUoSkCNHBdDJ4+LFOTde6GkKBRAkFoCAO6BJ5VfI6mT7vN7HSIDHKG+Sj5+54JxHi4MjxYj7c76wI4eXypI+OuGt2TYth1Iy4exck4XdvFqsNNJ+zzu7qNd8zXz4BT3kInruSPd/Pq2lNKZVffGsu6GmCIHkeKEgRkiJEB9PJ4OHHOjVd62oIBRIlFICCOKBL7MqutsdJycA74WNcaOt/t/uQ/diPvrPgHl3oQhFuOy4jmrxZDjrj7ld8of3c5VfGkObH9s/7qpsNDlk+SJJDW8NfTN55h6feX3b2mkfPTsCi2rRYbsTaaYJwRUGKkBQhOphOBk1pBE0oCAUSAINcAoG8Gyuf5Cbu7o/SjPfDwWgz9L/bHTOnX1r9aPoBo9Ho0PelifLRJjP29kefdnjq7nKs/RiY03VtygT5Na0jp8svecdFHxJE9mFSmfKpTzaEzkFF2OVFJGfvy6cJgqx4oCBFSIoQHUwng4cf69R0rashFEiUUAAK4oAu8cpnOYLI1qT6L02wqEFnGM1WVFRonGu4SsNJkvTWF/mCyHw9be+hJamCyLIqrhwu12owwvkiL2/NXpkiH5fy+ud5fkP7/cdyfG/8c/nBot+F0wRBdDxQkCIkRYgOppPBw491arrW1RAKJEooAAVxQJd49uOjgsh2Z1fjnbAyYMUOdNXD9nfHX+Y4ovjz+uMyopxan8j8anm6ILLkknrMNf+AvBz74OKU9h4TOyUfavLUKj9f1te0GFALguEcSA/r9cOgCYLQeKAgRUiKEB1MJ4OHH+vUdK2rIRRIlFAACuKALvGIXQallshRl8PwB+GdIRjhvP2Fgsj+b3GKw8EVjyw93PeJYUZ5k098/rA2UxDZvvw6zPWXDVl9Fe3IkhXn6Tp5m7PfG3rgY8QHFXGzsRZNDJogiJEHClKEpAjRwXQyePixTk3XuhpCgUQJBaAgDugSd82VT7worLnychMfhYMB3/MJIvvZwkPN7YbbZ8qBeJYklCr7Dhs4MNag8pEHe/LmbEFk245fWXF87MMjfWuEKaUNfW+iu3rNsLaHAWs8FOX8CI6Ehi0vUI5zmkDu0ARBejxQkCIkRYgOppPBw491arrW1RAKJEooAAVxAA5mS/+HdBcvaXkGGvpb8BvwphjOIDaZTHM3yEc83xoVi+H9Oi5HFvR168Z/Ps8TRPZJ2jmEAHtNCs/3f6d4r33rSX5NKybw3pj4QVpfbO0jZY24TOh9Xm9S0gRBSjxQkCIkRYgOppPBw491arrW1RAKJEooAAVxAA4N7T2CyIaLB3p6HTfYos+EtgFf+8HpxuAVsCPkSFkjdBzOo7t9ToKvHGbsLRBEtvTgGchosdocQkn/bo28NcS/ADQ/XShHNCyobfunfWNQ37HUvjbPc3qaIMiHBwpShKQI0cF0Mnj4sU5N17oaQoFECQWgIA7AAb5mGz3zgHNYZvSZ0DZwx+7LW7PBK/60Tv7+74vsGkmSbDZb2plGQWQTlqX5ymFRnHyQybwD/UfVNXX2yuI7kpksVijq7V3yFuYPkvolo0/l/8B+cl1NiwH2LJMi9ImeT4l5/G8FKUJShD45oQaJefixBs0aiCIIBVInFICCOACHw3a5M25u+CrCv26Ud3sIIpu26xR4xRs7cwWRLT9UVtHUdefcRIgX85cNWTiJvDRWJJdBsZDe+Si8ValyAJr/+B6ApsdkgTZ39JjaDKZ7FyS9tCXby1Z5mYwmCILigYIUISlCdDCdDB5+rFPTta6GUCBRQgEoiANw+PJkrSCyX0S7OKgDfSa0jVe2nQR1FR1bDF6xOL5YENn0PQWfXj592B7B+5SvHDZlVAgie2XbScgIa40TP7iy1hhXIAeg+fWKdF9LhqNWbo2KhUPzzBYrnp7na1Hu0tMEQTI8UJAiJEWIDqaTwcOPdWq61tUQCiRKKAAFcQAOa9PO9n2O9syS8FWEEH1aENmq1HLwii1Hzwki+/umE9FxsjSEw+h22l8i4zzyxvgiu0YQGS4ugvj+07rjmLeiqUsQ2Q9mxJkvv0fGR54NWG68Z/5Bz8kCeUoTBOnxQEGKkBQhOphOBg8/1qnpWldDKJAooQAUxAE4LIyVRc8LH4avIpyz7zSsEW47Xg1ekVhYJ4hs0kdHYNPG+vSKps5enEHeG/GF8hLgb1YfhSwfH5bFt/IdsdVqg7g2Z+o7vC9WkqSjZ5v6Nho//H6qT7l8SkwTBHHxQEGKkBQhOphOBg8/1qnpWldDKJAooQAUxAE4vG6PkPKvVfvCdmfJu/Hy/g9BZLEFF8Ar8qubBZHdM//g48vl8IEHi64cOoLzyBvjSJm8JQVfE8OBJQtji5V5f7tGPjBmT27/aSg2m81qtSkTONgX23qMZiu8bn7mstZ0SKPJJU0QxMgDBSlCUoToYDoZPPxYp6ZrXQ2hQKKEAlAQB+DwvP0UjahPwlcRwv6Pvo8pj5Y3gVdcbJVf5goigwW80ou+LeDhXMutviSI7P53k+HOazvkDSvK8IR9e5lnx8inpMy/vB/5LxuyHn4/1d0JxWX1HcMj5Q8Tt2dVCyKbvPkE1qW5QRMEkfJAQYqQFCE6mE4GDz/WqelaV0MokCihABTEATjAKRrRm8JXEa5Pl/d/CCI7XdcGXmE0GkdNj4Obgsh8DUyNcw0CGeI5dX+0B7XB5UBItvOE/K3hc59kSpLUajBCpWVuXiLvy5dfZ9+3KBk2Kb+xMx/r0tygCYJIeaAgRUiKEB1MJ4OHH+vUdK2rIRRIlFAACuIAHODYjBWfxYTtW+Md9vU2QWTnW7vRK/73vWQQZ4Hs3oAdwSOnxwLqXyyTD0dOL7vqcOTC8/Lpxne8k2iz2bIqWqDSzHPNOGGVxlb73ucRUbHwAhpXFpVptLIRhVYFDt5yeKAYYEW4evXq22+//Zv237hx4+Li4mB4enp6Xnnlle985zs33HDDM888U19/5YOJ6urqSZMmXXfddcOGDXvrrbfMZjOOaGpq6t133z1kyJBbb71106ZNeN+dodp5dxn9uM9j8PxoRjBkIRQ4CoSCUCABMMLNJSxWW+H5NsvV36hZL5+isXln+CrCmLzzoMO6es3oFfB5nyCyp1ZlOHiO95ftl4+/g7fAcH60wztoo9k6cnps3yvg2ksGEHyCyNipCy5rwTpHy1QAACAASURBVBfc8K5/RXKZy2Sa3EQUmpQ2qAvhgUJVFEVwRbZ///7Y2NiysrIzZ85Mnz79a1/72unTpyVJmjJlyve///3k5OScnJxx48bdd9990AyLxTJmzJhHH300Ly8vLi7upptuioqKgkcVFRXXX3/9G2+8UVxcvGLFimuvvTYhQeV4H9XOa9h3HoOnYfP0LIpQIG1CQSiQABjh5hIQWm9VarmSw6Wu/teUu/eEryJMKqoXRDZyuhzbD73iX9vlb/4Ekb22I1dJzCfbYrVBIY0dvabL50c3O21bhhf3Cacvztwrf1MoiGzLsUqXFcHSIOx6EUS2NbPKZTJNbiIKTUob1IXwQKEqivgqQofx+Pa3v71+/fq2travfe1ru3btgqclJSURERGZmfIHDXFxcddccw0uGa5Zs2bo0KFGo3zw5bRp00aPHo0FPvvssxMnTsRLl4Zq513m8u8mj8HzryUDnotQ4BAQCkKBBMAIN5cAifPEyqtWvOBDtzveSYiJCV9FeLRcjuRyz/wkSZLQKxawIhBnSxJKHTzHp8v735XfPh8+03ixTT4/ekRUrPNW4je/kM+yW5JQ+ruP5WOOBZEtu3wUskNdGDoRkh04VeeQQMNLRKFhmYO0KB4oVEWRTorQYrHs2LFjyJAhRUVFycnJERERra2tOE4333zzsmXLJEmaNWvWnXfeifcrKioiIiJyc+V/LT3wwANTp07FRxs3bhw6dCheotHb29t++VdbWxsREdHc3Gzi/zMYDDExMQaDgX9VwV4DocARIhSEAgmAEW4u8diHaaBILnXKX8vB70ipvDz20JKUcP7fzJrmjpHTY59fn2kymdAr1h6Wz5cTRLYts/IyLX/+7+ufy2uNC9np3Eo5os1PFyQ5l7L9eCUEqbnznUSoNOrLfOdkJpNp8qb+A/cgWWrJRZfJNLmJKDQpbVAXwgNFc3NzRISnzRXcFWFBQcENN9xw7bXXfutb34qNlb913bZt25AhQ1DDSZJ07733Tps2TZKkl156acKECfjIYDBERETA14ejRo2Kjo7GR7GxsREREd3d3XgHjDlz5kRc/du+fXsM/YgAESACREBfAnv3xoyKOgAyYtGmfVj57PX75EDHCw7gnfA0tn4Rs3vPVV2fs0EmIy/dbbmC66oU3l1MXyeX8+D8Aws3ycb981yg3rYr5haxf3Sg0ife2++y+IcXXJVs5TaXqejmICCwffv2AVaERqOxvLw8JycnMjLypptuKioq4qoIaY1wwP9VxONfNgPeKf8aQCiQG6EAFGHFobqpA6QGrFehM6xOKRNE9s+tJ8J5jRBpKNcIj5+Vg0v3neZS2diuTOCrXdXYDkuzy5NK5RPt1h93WcJza/vfF0Olv11z1GWyXyyVdyvjX4Btc1kF3gyrCYK9dmnwQDHwa4TKNbxHHnnk5Zdf5vrWWFmd6itzZeIAbR6v/ANs0kBlJxRInlAQCiQARli5RHqZ/Kkc/Ck3z4q7T8nLYPHF4fwdodIx0Csa2uXP/n40M95hd7YysZf2A++l9L19hgCH7nYHw74fQWR3zzvo4Xi6ny08hOMoiKyz90oAEC8b430yROF9llBNyQOFqiji/tZYOVoPPfTQCy+8ADtLdu/eDY9KS0sddpY0NDTAo7Vr1w4dOrS3Vz7bcdq0aWPGjMHSnnvuOdpZgjSCyuDhx0HVQe8bQyiQFaEAFGHFYcux/i/VYL3qRGVLQ3uPJEm/WyMvTe3OriZF6OwVe3JrU0r7/z8gTh8/jLd3yRtHBJGNiz5kMLrWcA0dPcMj5TSvfHZSENmdcxNdVvTDmVfiZsPmaJfJNLkZVhPEMzEeKAZYEUZGRqalpVVWVhYUFERGRn7lK185ePAgRJ+5+eabU1JScnJyfm7/ARqIPjNhwoT8/PyEhIRhw4Y5RJ95++23S0pKVq1aRdFnPDvTAD7l4ccD2J1AqiYUSI9QAIqw4jBn32n5fXFs8X2L+gMvj56d0Gow3jM/SRDZycomUoT8vOLLk7WgCPfne9oa/Of1x/u04N7c/uCIJosV5ywYPSaLcoEQNkc7pNHwMqwmiGduPFAMsCL8+9//LgjCkCFDhg0b9sgjj4AclCQJIlR/+9vfvv76659++umLFy8imqqqqscee+y666676aab3nzzTYcI1XfdddeQIUNGjBhBEaqRWLAZPPw42ProZXsIBYIiFIAirDiA2tiRVb0hveLueQchJDKKj5aOblKE/LziUpfx/neT/7E1x2az4TR0Npo7e9PLmixW2y32xcKGDnkRV/mDF9m3RPaftvzo0sPKp5rbYTVBPNPjgWKAFaHnDvN+qtp5DRvAY/A0bJ6eRREKpE0oCAUSACOsXAKWBk9UtkDfIawdyMR77fFQSBHy9grPclDpnPfMlz8lLL7QrrwpSdKZenl70J1zEycskwMJ/XbNUYcE2l6G1QTxjI4HClVRpOt3hJ77r/lT1c5rWCOPwdOweXoWRSiQNqEgFEgAjPBxiW6jBb5Rw9MyPjteJYgMbj679lj4oHDwAefLYEDhfPxx2pnGFcllcOrx+MUpf90oRyWcvDnbuf0a3gkGFBp2J5CieKBQFUWkCAMZsit5eQzeldIHlUUocLgIBaFAAmCEj0sU1ckBUO54JxGXqeAOfJQW+WVB+KBw8AHny2BA8Ye1mYLIYvLOQ/OaOnt/PCteENm8A/IxKk+szJi+p0AQ2Vtf5Du3X8M7wYBCw+4EUhQPFKQIPYXnDmS0HPLyGDyHKgbLJaHAkSIUhAIJgBE+LrE/v04QmTLojNli/dFMWWQIIlt35Fz4oHDwAefLYEDx6jZ5u/GG9ApoHghBWQuuSBdE9vyGLBjQ7VnVzu3X8E4woNCwO4EUxQMFKUJShIH4pD95efixP+0IgjyEAgeBUACK8OGw9OAZQWTTdp1CH5Ak6feXj9BNLqkPHxRKAi7tYEAxO6ZQENnihBJJki629Yya0R9x5taoWEFk/94unyXb0WNy2X4NbwYDCg27E0hRPFCQIiRFGIhP+pOXhx/7044gyEMocBAIBaAIHw7//CwH1gLRByRJio4rhjXCyqau8EGhJODSDgYUHx2SD5IRd8sKHmIZQnRrGK+Zewtdtlzzm8GAQvNO+VcgDxSkCEkR+ueN/ufi4cf+t2ZAcxIKxE8oAEX4cHjEfvTZ4TON6AOSJMUXXhRENnJ6rNliDR8USgIu7WBAAft+XtySffxcM77ZB0MQ2fuJpS5brvnNYECheaf8K5AHClKEpAj980b/c/HwY/9bM6A5CQXiJxSAIkw4GM1WeNtY19qNPiBJUnuP6dGlh9+0704IExTK7ruzgwFFfOEFQWQTlqWBlI/88lSbwYSKcN2Rc+4ar+39YEChbY/8Lo0HClKEpAj9dkg/M/LwYz+bMtDZCAWOAKEAFGHCAYLYjZ6dgBuN0RPQCBMU2F8PRjCgOFHZgvrvnvkH2wzyJ4Nwuowgsi+yazy0X8NHwYBCw+4EUhQPFKQISREG4pP+5OXhx/60IwjyEAocBEIBKMKEAzslLzg9uTIDHcDZCBMUzh13vhMMKAxG8yNLD981N/HZtcdyqvqDiuNOoINF9c7N5nEnGFDw6JcfZfJAQYqQFKEfrhhQFh5+HFCDBi4zoUD2hAJQhAmHD5LkjcZv7/IUuy5MUOAU8GAEDwqHNd0oewxCQWRZFf0a0UMvNHkUPCg06U4ghfBAQYqQFGEgPulPXh5+7E87giAPocBBIBSAIkw4vPKZHNzukzRPH5+FCQqcAh6MoEWxPr0CXiWfqe/w0H4NHwUtCg376GVRPFCQIiRF6KX7aZaMhx9r1jh9CyIUyJtQAIow4QBHoqWUNqADOBthgsK54853ghZFamkDKML69h7nZvO4E7QoeHTWc5k8UGisCI1GY2lpqdls9tyTIHmq2nkN28lj8DRsnp5FEQqkTSgIBRIAIxxcwmSxjpwuhzU+f/VG4zBE4dBld5dB6xW1lwygCHtMFneN1/Z+0KLQtpvelMYDhaoo8vZcY4PB8Pe///1a++/cOfldwL/+9a9FixZ507GBSqPaeQ0bxmPwNGyenkURCqRNKAgFEgAjHFyiulmWET+YEefwUVoYonDosrvLoPUKm80WHVv8QdIZdy3X/H7QotC8p6oF8kChKoq8VYSvvfbaPffck56efsMNN4AijImJueuuu1R7NYAJVDuvYdt4DJ6GzdOzKEKBtAkFoUACYISDSxw7K4c4fmhJqkPfHS7DAYVDl91dEgokQyi4olAVRd4qwptvvjkzM1OSpBtvvBEUYXl5+Te/+U1sfRAaqp3XsM3kxwiTUBAKJIAGeQWgCAcOX56sFUT2x3Xy/7/w8AsHFB66r3xEKJAGoeCKQlUUeasIr7vuOhCCqAjz8/OHDh2KrQ9CQ7XzGraZ/BhhEgpCgQTQIK8AFOHAYUWyfELuW/aDSdABnI1wQOHca5d3CAViIRRcUaiKIm8V4QMPPLB8+XJYI6yoqIDvCCdOnIitD0JDtfMatpn8GGESCkKBBNAgrwAU4cAh8ssCQWTLDqp8fBYOKND/PRuEAvkQCq4oVEWRt4owPT39xhtvnDJlyje+8Y2pU6f+4he/uOGGG3JycrD1QWiodl7DNpMfI0xCQSiQABrkFYAiHDi8sDFLENnOEyrnnoUDCvR/zwahQD6EgisKVVHkrSKUJOns2bMvvvjivffe++Mf//hPf/pTQUEBNj04DdXOa9hs8mOESSgIBRJAg7wCUIQDBwhGeKSsEUffpREOKFx23PkmoUAmhIIrClVR5IMixIYOFkO18xp2hPwYYRIKQoEE0CCvABThwGH07ARBZGcbO3H0XRrhgMJlx51vEgpkQii4olAVRd4qwtjY2ISEBGyrJEkJCQlxcXHKO8Fmq3ZewwaTHyNMQkEokAAa5BWAIiQ51LQYfrP6aHzhRUmS2ntMENO426gS0zgkUaDD+2QQCsRFKLiiUBVF3irC22+/PTY2FtsqSVJ8fPwdd9yhvBNstmrnNWww+THCJBSEAgmgQV4BKEKSw+KEEkFkd8872NlrLrnYLojsrrmJOPTujJBE4a6znu8TCuRDKLiiUBVF3irCb3zjG5WVldhWSZIqKyuvv/565Z1gs1U7r2GDyY8RJqEgFEgADfIKQBGSHH7/8TFYF1x+qCy5pF4Q2aSPjuDQuzNCEoW7znq+TyiQD6HgikJVFHmrCP/7v/87OTkZ2ypJUlJS0rBhw5R3gs1W7byGDSY/RpiEglAgATTIKwBF6HEwWaw/nBkHinDMnISVKeV9Jxq/uCUbh96dEXoo3PVU9T6hQESEgisKVVHkrSJ8+eWXb7/99rNnz0Jzy8vL77jjjsmTJ2Prg9BQ7byGbSY/RpiEglAgATTIKwBF6HHIq2kVRHbn3MQJy9IEkd02K14Q2eyYQhx6d0booXDXU9X7hAIREQquKFRFkbeKsK2tbdy4cV/96leH239f/epXH3roodbWVmx9EBqqndewzeTHCJNQEAokgAZ5BaAIPQ7rjpwTRPb3TSeOlDXCSqEgso8P968doAM4G6GHwrmPXt4hFAiKUHBFoSqKvFWEkiTZbLbExMTFixevWLEiLS0N2x20hmrnNWw5+THCJBSEAgmgQV4BKEKPw5RPcwSRrUotlyRp6o5cEIX78+tw6N0ZoYfCXU9V7xMKREQouKJQFUU+KEJs6GAxVDuvYUfIjxEmoSAUSAAN8gpAEWIcbDbb2AVJgsiyKlokSWrq7L1zbqIgsqK6dhx6d0aIoXDXTW/uEwqkRCi4olAVRSqK8KOPPurp6ZEk6SM3P2x9EBqqndewzeTHCJNQEAokgAZ5BaAIMQ41LQZBZCOnx/aY+qMPltV3xBdewHH3YIQYCg89VX1EKBARoeCKQlUUqSjC4cOHNzc3S5IEnw86/PeWW27B1gehodp5DdtMfowwCQWhQAJokFcAihDjkHmuWRDZQ0tScaC9N0IMhfcdd05JKJAJoeCKQlUUqShCbNxgNFQ7r2GnyI8RJqEgFEgADfIKQBFiHGILLggi+83qozjQ3hshhsL7jjunJBTIhFBwRaEqirxShCaTacSIEcXFxdjWQWGodl7DXpAfI0xCQSiQABrkFYAixDh8mlkliOwlL6IPoiegEWIosF9+GIQCoREKrihURZFXilCSpO9+97ukCHGonA3yY2RCKAgFEkCDvAJQhBiH5YfKBJGJu0/hQHtvhBgK7zvunJJQIBNCwRWFZopw4cKFL7zwgtlsxuYGv6HaeQ27QH6MMAkFoUACaJBXAIoQ4/DO/tOCyN6NL8GB9t4IMRTed9w5JaFAJoSCKwpVUeTtGuFTTz31zW9+83/+538mTJjwtOKHrQ9CQ7XzGraZ/BhhEgpCgQTQIK8AFCHGAQIQfpJ2DgfaeyPEUHjfceeUhAKZEAquKFRFkbeK8K9uftj6IDRUO69hm8mPESahIBRIAA3yCkARYhye35AliGxXTi0OtPdGiKHwvuPOKQkFMiEUXFGoiiJ1RWi1Wt9999377rtv7Nix06ZN6+7uxhYHuaHaeQ3bT36MMAkFoUACaJBXAIoQ4/D48iOCyJJL6nGgvTdCDIX3HXdOSSiQCaHgikJVFKkrwnnz5l1zzTUTJkx48sknv/GNb/ztb3/DFge5odp5DdtPfowwCQWhQAJokFcAihDjcN+iZEFkeTX+HHAfYijQ1f0wCAVCIxRcUaiKInVFOHLkyI8//hhamZSUNGTIEKvVio0OZkO18xo2nvwYYRIKQoEE0CCvABQhxuFHM+MFkVU3G3CgvTdCDIX3HXdOSSiQCaHgikJVFKkrwiFDhtTU1GArv/71r9fW+vPVCJagm6HaeQ1bQn6MMAkFoUACaJBXAIpQ4tBttAgiE0TW0WPCgfbeCCUU3vfaZUpCgVgIBVcUqqJIXRFec801jY2N2Mobb7yxoqICL4PZUO28ho0nP0aYhIJQIAE0yCsARShxqGvthkONbTYbDrT3Riih8L7XLlMSCsRCKLiiUBVF6orwK1/5yqRJkzDgzFe/+lVlABpsfRAaqp3XsM3kxwiTUBAKJIAGeQWgCCUOhefbBJHduyAJR9knI5RQ+NRx58SEApkQCq4oVEWRuiJ0E3am/za2PggN1c5r2GbyY4RJKAgFEkCDvAJQhBKHtDONgsgmfpCGo+yTEUoofOq4c2JCgUwIBVcUqqJIXRFi+wadodp5DXtEfowwCQWhQAJokFcAilDiEJN3XhDZH9Zm4ij7ZIQSCp867pyYUCATQsEVhaooIkWI/AMyyI8RH6EgFEgADfIKQBFKHDZmVAgie2XbSRxln4xQQuFTx50TEwpkQii4oiBFGNHe3o6I+Rnkx8iWUBAKJIAGeQWgCCUOSxNLBZHN3FuIo+yTEUoofOq4c2JCgUwIBVcUpAhJEaKD6WTQlEbQhIJQIAEwQsklZuwtEES29OAZhz56eRlKKLzssrtkhALJEAquKEgRkiJEB9PJoCmNoAkFoUACYISGS5gs1rrW7n9+ltMXj3BThp/ByEIDhcP4+ndJKJAboeCKghQhKUJ0MJ0MmtIImlAQCiQARmi4xNu78odHMjiwJCbvvEMfvbwMDRRedtZzMkKBfAgFVxSkCEkRooPpZNCURtCEglAgATBCwyXgqBL475GyK+cXOHTW82VooPDcRy+fEgoERSi4oiBFSIoQHUwng6Y0giYUhAIJgBEaLjF2QRKKwsLzbQ599PIyNFB42VnPyQgF8iEUXFGQIiRFiA6mk0FTGkETCkKBBMAIDZe4bVY8KMIRUbHNnb0OffTyMjRQeNlZz8kIBfIhFFxRkCIkRYgOppNBUxpBEwpCgQTACAGXMJqtIAeTiupTSxscOuj9ZQig8L6znlMSCuRDKLiiIEVIihAdTCeDpjSCJhSEAgmAEQIu0djRK4hseCSzWG0OvfPpMgRQ+NRfD4kJBcIhFFxRkCIkRYgOppNBUxpBEwpCgQTA8OASqaUNL2zMauzw8yWsQ0X8LssbOgSR3Tk3McAqPKAIsORBl51Q4JARCq4oSBGSIkQH08mgKY2gCQWhQAJgeHCJX354RBDZ+nQ/w/s5VMTv8kRliyCy8YtTAqzCA4oASx502QkFDhmh4IqCFCEpQnQwnQya0giaUBAKJACGO5eob++Bj/PmHyhyyBJslweL6gWRPbEyI8CGuUMRYLGDMTuhwFEjFFxRkCIkRYgOppNBUxpBEwpCgQTAcOcSO0/UgCJ8ZdtJhyzBdvlFttzUv2zICrBh7lAEWOxgzE4ocNQIBVcUpAhJEaKD6WTQlEbQhIJQIAEw3LnElE/lE+EEkT29KtC1N4caNb9cd+ScILLXduQGWLI7FAEWOxizEwocNULBFQUpQlKE6GA6GTSlETShIBRIAAyXLmGyWMfMTgBFOC76kEMWSZJKLrZvzayyBra317lY/+4sSSgVRDY7ptC/7JjLJQp8GlYGocDhJhRcUZAiJEWIDqaTQVMaQRMKQoEEwHDpEsfPNQsi+8GMOEFkt0Qys8XqkOuZ1UcFkaUEEPzPocBALmfsLRBEtuzgmUAKkSTJJYoAyxyk2QkFDhyh4IqCFCEpQnQwnQya0giaUBAKJACGS5dYc/isILIpn+bcGhUriKyutfujQ2U7s2sgi81mGzNHXkFcfqjMobQBuXxl20lBZBszAt0T7RLFgPRowCslFDgEhIIrClKEpAjRwXQyaEojaEJBKJAAGC5dAt7Dztl3+r5FyYLIth2vhiVDm00OAd3SZQyqTSd/WndcENme3FqHrvl66RKFr4WERnpCgeNIKLiiIEVIihAdTCeDpjSCJhSEAgmA4dIl3tl/WhDZu/Elv10jvx3+83pZcgkia+kySpJ0svoSXD78fqpDaQNy+fhyOW5iSon/59d5QDEgPRrwSl16xYC3akAaQCgQOw8UpAhJEaKD6WTw8GOdmq51NYQCiRIKQOGSw7RdpwSRrUgu+/f2XEFk8O5YEFnxhXZJkvbk1oIivCWS9ZgsiHSgjPvflRcyT1ZfCrABLlEEWOYgzU4ocOAIBVcUpAhJEaKD6WTQlEbQhIJQIAEwXLrEv+xCcH16RXRsMYg/+C9sJVl28AzeLDzf5lCg/pewLbqiqSvAql2iCLDMQZqdUODAEQquKEgRkiJEB9PJoCmNoAkFoUACYLh0ib9vOiGIbEdW9aaMChR/gsg+P1EtSdLUHfLCIfztygn06z2H9vh6abJYoSWX7G+0fc2uTO8ShTJB+NiEAseaUHBFQYqQFCE6mE4GTWkETSgIBRIAw6VL/GFtpiCymLzzCacvovgTRPaRfXPxkyszBJGNiz4kiGzAz7hr6uyFFloCDo7oEoUDrjC5JBQ40ISCKwpShKQI0cF0MmhKI2hCQSiQABguXeKJFemCyJKK6gtq25SKcPqeAkmS7pqbCBGhYdOJQ4E6X5Y3dAoiu31OQuD1ukQReLGDsQRCgaNGKLiiIEVIihAdTCeDpjSCJhSEAgmA4dIlHl16WBDZ0fImXIG7Z36SILLJm7PbDCbQiBnlTYLIxi5IcihQ58ucqhZBZA+8lxJ4vS5RBF7sYCyBUOCoEQquKEgRkiJEB9PJoCmNoAkFoUACYLh0CQhDmFfTarPZRk2XTy4Rd8u7j3+1PP1UbSsIwa5eM0jD5s5ehzL1vDxUXN+30fjXK9IDr9QlisCLHYwlEAocNULBFcUAK8Lo6OixY8feeOONw4YNe/LJJ0tLS7G348ePj1D8/vGPf+Cj6urqSZMmXXfddcOGDXvrrbfMZjM+Sk1Nvfvuu4cMGXLrrbdu2rQJ77s0VDvvMpd/N8mPkRuhIBRIAA3yCkDhkgO8Fz5T3yFJ0pRPc3628BCsCN67IGlffp0gst+uOSpJ0oOLU2ApEanqb+zOkUPhPL8hK/CqXaIIvNjBWAKhwFEjFFxRqIqiCKyehzFx4sRNmzadPn06Pz9/0qRJN998c1dXf8yC8ePHv/TSSxcv/9rb5chbkiRZLJYxY8Y8+uijeXl5cXFxN910U1RUFDyqqKi4/vrr33jjjeLi4hUrVlx77bUJCZ4+Z1HtPBSryX/JjxEjoSAUSAAN8gpA4ZLDKPuJxrWXDJIk2Ww2i9XW0NEDZxx/kCSHnnnzi3xJkl7aki2IbH16oMfH4aD4Yaw7cq4vdPa/t+f6kdchi0sUDmnC5JJQ4EATCq4oVEURX0WIfZMkqbGxMSIiIi0tDW6OHz9+6tSpygRgx8XFXXPNNfX19XC5Zs2aoUOHGo1y7P5p06aNHj0aszz77LMTJ07ES2dDtfPOWfy+Q36M6AgFoUACaJBXAApnDmZX8VwsVtsI+xnHv7ZvOllz+KwkSUvtgQnf3iWrwwH5FdS2/fJD+cCSWTGFgTfAGUXgZQ7SEggFDhyh4IpCVRTppwjLy8sjIiIKC/v/p2T8+PE33XTTf/3Xf40ePToyMtJgkP99LEnSrFmz7rzzToRSUVERERGRmyv/k/SBBx5QisiNGzcOHToUU4LR29vbfvlXW1sbERHR3Nxs4v8zGAwxMTEGg4F/VcFeA6HAESIUhAIJgOHsEi0dBvhAsNPQo0z804Xy5hL4y6uS/0dsX26N/ePCI8pkutkJhXW3RMrtuW1W/JHS+sDrdUYReJmDtARCgQNHKLiiaG5ujojwtLlCJ0VotVoff/zx+++/HwXc2rVrExISCgoKPvvss//3//7f008/DY9eeumlCRMmYDKDwRAREREXFydJ0qhRo6Kjo/FRbGxsREREd3c33ukz5syZo/g6UTa3b98eQz8iQASIQFAS2LwzRn5BLB7Yu/eq9j0w7wDIwdtmHNhjf7R2h5xyZJR8uXFnDNy8Kg+3i3U7Yn40XW7Pr97dv+ULbtVQwUSACPAksH379qBQhFOmTBEEobbWdcD95OTkiIiIs2flNyMBKkJaI8R/Juh6owAAIABJREFUYQyUQf/IQ/KEglAgATCcXeLMBXk38ejZCQ4pJ2/KAkX46mc58Kin1/gD+xeH78XJh929s6/QIQuny95e42Mfpgkie2pleld3r1a1OKPQquRBVw6hwCEjFFxRBMUa4auvvvq9732vosLtB9FdXV0RERGwTSTAt8bK9ULVV+bKxAHa9PUDAiQUhAIJoEFeASicORSel6NS/3ShY6DBmXsLQRF+kV2DGH+1XI5lPdz+9nZEVOy5xk58xM8ob+joO2TvhzPjLrb1aFiLMwoNCx9cRREKHC9CwRWFqiji+9bYZrO9+uqr3/3ud8vKyrCfzkZGRkZERMSpU6ckSYKdJQ0NDZBs7dq1Q4cO7e2VQ3BNmzZtzJgxmP25556jnSVII3gMmtI4FoSCUCABMJxdIqtCjvn8f0tSHVKuSC4DRajUYW99kQ834b///CzHIRePy/hC+Ww9TWIQKpvnjEL5NKxsQoHDTSi4ohhgRfjPf/7zW9/61uHDhy8HmbkIn/2dPXt23rx5OTk5lZWV+/btGzFixIMPPgggIPrMhAkT8vPzExIShg0b5hB95u233y4pKVm1ahVFn0HXCSqDpjQOB6EgFEgADGeXSCltEEQ26aMjDil32SP/Pbr0sPI+BH8RRPafz/NgpTCn6pIyAQ97ZUo51Kht4c4otC1/EJVGKHCwCAVXFAOsCB02eUREREBY6ZqamgcffPA73/nO17/+9ZEjR7799tsYj1CSpKqqqscee+y666676aab3nzzTYcI1XfdddeQIUNGjBhBEarRdYLKoCmNw0EoCAUSAMPZJWILLmAMamVig9Es7j51tLxJefPY2WZBZGNmJ7T3mGC98OH3U3tMFmUaze3XP88TRLYypVzbkp1RaFv+ICqNUOBgEQquKAZYEWLfBsRQ7byGrSI/RpiEglAgATTIKwCFM4cvsuWYMn/x7hQQm8227si5Y2ebJUm61GUcu0COUDPvQBFy5mFATMT4wgvaFu6MQtvyB1FphAIHi1BwRaEqivh+R4h9GxBDtfMator8GGESCkKBBNAgrwAUzhy2HKsURDblU3++CEwpkd84D49k51uvCsKF2AM3bDbbbbPiBZGVN8iH7Gn4c0ahYeGDqyhCgeNFKLiiUBVFpAiRf0AG+THiIxSEAgmgQV4BKJw5rE49K4jsjZ1+nkTy0JJUQWSwaoi0NTQutHULIhsRFWs0WzUsVpIkZxTalj+ISiMUOFiEgisKUoSewnMj+sAN8mNkSCgIBRJAg7wCUDhzWJpYGsi5cM+sPtoXvCauQONXujhw6WVNgsgeet9xKzQm8NtwRuF3UYM9I6HAESQUXFGQIiRFiA6mk0FTGkETCkKBBMBwdol5B4oEkUXHFTuk9PJy8uYTgsi2Ha/2Mr2vyTZlVAgie3FLtq8ZVdM7o1DNEqoJCAWOLKHgioIUISlCdDCdDJrSCJpQEAokAIazS0R+eUoQ2UeHPEVsdShEefmmPUKh5huBJUnqNVuK6trF3XLz3o0vUVaqie2MQpNiB2MhhAJHjVBwRUGKkBQhOphOBk1pBE0oCAUSAMPZJV7bkSuIbN2Rcw4pvbxcwOQlxgVM++3G0faz8iAU9q4c1weQetlIl8mcUbhMFg43CQWOMqHgioIUISlCdDCdDJrSCJpQEAokAIazS0zenB3Ia18IH+33xhSH5ikvJyyTzzKGv9KLGm80pp0lStTOXqF8GlY2ocDh5oGCFCEpQnQwnQwefqxT07WuhlAgUUIBKJw5/HFdpiCyvbnnkZVPxvasakFkf990wqdcqokNRvMt9tOTD5yqSy+7Kkq2al4vEzij8DJj6CUjFDimhIIrClKEpAjRwXQyaEojaEJBKJAAGM4u8eTKDEFkiacvOqT08jK+UD7y5OlVGV6m9zIZnLb8s4WHvEzvRzJnFH4UEhpZCAWOI6HgioIUISlCdDCdDJrSCJpQEAokAIazS8DLWb/X4TLPyefaPbRE4+gwn6SdE0T2EoctxgjEGQU+CjeDUOCIEwquKEgRkiJEB9PJoCmNoAkFoUACYDi7xP3vJgsiO1l9ySGll5elFzsEkd01N9HL9F4me3XbSR5nGStrd0ahfBpWNqHA4SYUXFGQIiRFiA6mk0FTGkETCkKBBMBwdomfzDsoiKzkYrtDSi8vG9p7BJHdEsksVpuXWbxJ9sB7KYLI/F659KYKZxTe5ArJNIQCh5VQcEVBipAUITqYTgZNaQRNKEIYRZvBNOXTnMNnGrGP3hjOLvHDmXF9W0NqWgzeZHdOYzRbYTvwpS6j81P/7lzqMkKZbd0m/0rwJpczCm9yhWQaQoHDSii4oiBFSIoQHUwng6Y0giYUIYxih32T74OLU2w2HxbnHFzCYrWB9mru7EVWvhq3zYoXRHausdPXjO7SHz7TKIjs/7T+NtGhOgcUDk/D6pJQ4HATCq4oSBGSIkQH08mgKY2gCUUIo1iVWg5i7lRtK3ZT1XBwic5eMxTSbbSo5nWXAL5EzKny80tE52LXHD4riOxf23OdH2l4xwGFhiUPuqIIBQ4ZoeCKghQhKUJ0MJ0MmtIImlDoj6Kps5edurAhvcInoYbt9N5YGFsMYm5hrA9HEju4BHwFODyS+bTQ6NDIXy1PF0R2qLje4b7fl9N2ySfXfZB0xu8SvMnogMKbLKGahlDgyBIKrihIEZIiRAfTyaApjaAJhf4oxi+Wt0QIIhs9O6G+vafNYIotuNBj8n8FDrvgYLxlP1C4L5Tgz6MPWa/e1dFrtmxIr3hm9dH/fS+5qrlLmdHBJSqbugSR3TYrXpnGV/vP64/39VfDg+Z+t+ZY3/7lmDw/g2Z72X4HFF7mCslkhAKHlVBwRUGKkBQhOphOBk1pBE0odEbRa7aAHPx59CFBZJM3Zz+69LAgss+OV2FLtDJe3CKfPgd/2ZUtymLXp1fgo81HK5WPHFzidF2bILKxC5KUaXy1/73dh5ORLVabg351rm7sgqS+qNe8F1kdUDg3I3zuEAoca0LBFQUpQlKE6GA6GTSlETSh0BnFhbZuQWS3RsUW1LbBIWygzHx6sYtt9mz8ds1RQWS3z0kQRBYdd9WL4zcvLx86v3t1cIm9uecFkT24OMVzXZ6fzo4pFET2XnyJ52Tw9MUt2ffMP9jifmNyR48JoLX3cNxoTOcaKwfLwSuUj8LNJhQ44jxQkCIkRYgOppPBw491arrW1RAKJKoPisLz8pLbvfYltzn7TuNC3Rs787ElWhmw+vifz/MEkf12zVFlsU+vkg+me9D+/nrOvtPKR0oOJ6sv/WimvE34nf1XpVGm98ZedvCMILLILwtUExfVtQOTBPeH5gHDn8w7qFpagAmUKAIsarBnJxQ4goSCKwpShKQI0cF0MmhKI2hCoTOK1NIGQWS//PCIJEm9Zsu249VLEkoFkb2wMQtb4qvRa7a4fM16z3z51eqBU3WCyEbNiOs1X/lU8c65iYLIXreLxdd2XLVjF13CYrWNs7/afn5DltFs9bVVyvSbj1YKIpvyaY7ypksbVfJHh8pcJpAkaX++3KPfrL5K47pLHMh9RBFIIaGRl1DgOBIKrihIEZIiRAfTyaApjaAJhc4ovjxZK4jsz+uPY71JRfV9Z8T9ekU63vHJON/afdus+H9szXHYC2yz2W6NihVEdr61+y67/sNj6DC889ZjslB7fsNVYhRdoqFDPmtkeCTr7DX71CTnxDF58qvnZ9cec36kvNNjssA7bkFkr2w7qXyktD86VCaI7M0vtF9VVdZCb42VNNArlDfD0yYUOO48UJAiJEWIDqaTwcOPdWq61tUQCiSqD4pP0s4JIpuqWJY7WX1JENl9i5KxJZIkdfWav8iuaTWoH/IBYst54y3GETQYzZM3nxBE9knaOagip6oFNiCDGH3iajGKHODl7D3zA9pTAjWm2QNKT/wgTdlHZxv6MjxS3g3z6NLDzgngDixtrkwpd5dAq/uIQqsCB285hALHjlBwRUGKkBQhOphOBk1pBE0odEYRHSfHCJy7vwjrrW42CCL74cw4vCNJ0soUObh0tBdxBCElbAdW7rSoaZGLHTUjzmazrU6V4zn/Y2v/S9ud2TWCyP64LjO7UpaGD7x31a4RdImUEvkF92P2F9zKtvlhF9TKX0/+dKGKuPzH1hxBZBA059aoWHzN7bD8+eRK+SPI2IILfrTEpyyIwqdcIZmYUOCwEgquKEgRkiJEB9PJoCmNoAmFzihgk69yfUu5mIeNgVW9F7dk4x13RuSXBbg9ZWliKSaDFT4QYVkVsvIbuyAJpNW78SWCyGbuLSxv6BRENmZOAuZSvir9/ER1gB84YrHnW+Ud1iOnx1quDouICcCAnS4Z5U1j7Pujiy+0J56++Md1maOmx21Ir8DE8BFkUV073uFk0OxAsISCUCABNHh4BSlCUoToYDoZPPxYp6ZrXQ2hQKL6oPjbJvkF7ucnqrFem832gxlxgshqWgx4E6IV/mq5+seFz2/Igk/0BJEp3/8eKZNP/p2wTH5R22OyjJwuf1MIAfxe3irHKdyYUdHc2Qtq0my5snEEOSy3f6739i4NPtezWG2jpjv2ETsLRtfl4/KaO3t/s1qOm/OSIp4ivhbHjyANxkC/bnRogPMlonB+FG53CAWOOKHgioIUISlCdDCdDJrSCJpQ6IOioaNnVkxhTYvhiRXyeW5JRVed5wb6L6+m//ThVoMRhJo33/A99H5q3zrf7hx5w8qIqNiOyyH6YEPu7z/u38wBwnH07IRDxfUQlSa1tMFssUJFTZ29zhxm2YMILkm4su6IafwwsFJ3eXPt31NCKOyoPVcWPv/zeR5cjpwe+9GhssmbZTl7/7tXfXbprswA79PsQICEglAgATR4eAUpQlKE6GA6GTz8WKema10NoUCiXFFAUJXIL0/dtyi5bzEvt/oS1itJksOxv0fPNuGLYM9hX3B9sbrZ8MB78uF4KaUNUDLsI8ZvBxs7euHkt1siZeGIS5Kwt7e8oQPbgxzgq74tx6460QST+WrAwqTy5a9DCduz5JfUsAt7i30TtCCyO+cmdvSYrFbb1B3yqSfwN2pGnIOkdihKq0tEoVWBg7ccQoFjRyi4oiBFSIoQHUwng6Y0giYU+qB4wr4Z4smVGT+cKb88rW6+8oJYkqS/2N/87syugcasOyLvR4Y/5atkbCoajR3ya9/hkcxotsKGjEVx/eeCQIgWcfcpTGw0W/GoklEz4uCTPvh074TijDt0CYhiHafRBg74eHHGXrdBquFcEzi7JfNcM3QfP7i02Wz78uvuXZB0z/yDOVVXnciHHdTcQBSalzzoCiQUOGSEgisKUoSkCNHBdDJoSiNoQqEDir5I1PAV3Sj794J922m7ro7w9/pO+ViR1alnoTFwCZIoq8KT+smraRVENi76kCRJu+wvjp9alWGyWDt7zXP3FwkiQ4EIJVuttsgvTym/OASpmqg4IARd4v535eVMreTXF/YNzs99konAHYzff3wMXn9LktTeY7p9TsJPFyY5hEI0W6y4AdkhO49LRMGj8MFVJqHA8SIUXFGQIiRFiA6mk0FTGkETCh1QwBdyuOz3w5lyRBisV5KkBUxWbwtYf0iaiR+kwUeBuJ1CmVhpw3kkcHoHhJsZERX704VJd7yT+NeN8o6TNYf7VSbmslptcQUXKpq64M4L9mQ7T9TszK5ZGFv8QdKZ8vq2mJgYo9EI+tXzIiUWq2rkVMlhFx0C0DR19qaUNOzPr6tv77njHfkYldN1bVDUxbYe5deNquXzSECzA6kSCkKBBNDg4RWkCEkRooPpZPDwY52arnU1hAKJ8kOxKaMC5aBzMGpJkiBe4Ouf58HRdnDWyO/sa2YfO0k6bLAkSR8flgMN4jF08JEi1AWFKDc1KzOiDacew8IhZHxiRXpMTExTuxzOUBBZj+nK2XeYyw8Dt8vgsp/FavvZwkNQy22z5NOTRyhiEPpRheZZ+LmE5k3lXSChQMKEgisKUoSkCNHBdDJoSiNoQqEDCuWuCJcH1kHI6L/YT5ODOIJ3vJO4KE6OGjhn32lsobMxc2+hILLFCf3fDi5NLB01PQ529YLSSlC8DnbOLknSO/tPg0iFU0wgSM2qbTFF5+UlvduvDlXosgTvb/5k3kFBZAW1/auAxRfa5Rja0+NgT4wgsl8sc3tOife1aJiSZgfCJBSEAgmgwcMrSBGSIkQH08ng4cc6NV3raggFEuWHYvxieRcwrPkJIvvrxqvOEZYk6VCxfLQxRB+E7+2eXXsM9tviZmFsp9KA6Ibbjl+JbmiyWOGsEVCEx881K9M727ABBRJH7Sn452fyqSF//mD/4ZKLgsgecX+UnHNRqnd+u0aOMhiTdx5Swubi5z7J7OgxPWMPQPjGTg1iH6o2w/sE/FzC+zYESUpCgQNBKLiiIEVIihAdTCeDpjSCJhS8UeDbUtj5IYjszS8cdQ9sEPm5fYMILNrN3V+UeFrWZMqg09hUNH6x7LAgsrQzjXhHkqTOXjO8MhZEdqb+SlgZZRq0IUgNKMJPM6vgAOIfTT/w6TH5TbeHjSBYgvfGtF3yppalB89Alrd35eMCZ1ev+fMT1Q3tPd6XpkNKmh0ImVAQCiSABg+vIEVIihAdTCeDhx/r1HStqyEUSJQTitRS+XTg/1uSCjs/5NOK44qxUjDg0Q/sZxDDlttdObXw+vjeBW7PArbZbPD53dnGTocCYclNEJmqxtqXXwdy0L6t+JLVart/kfxt3y+Wylpz6o5ch5IDuYSvHp9dewy+TQQ5e/DqYN2BlK95Xk4uoXk7dSiQUCBkQsEVBSlCUoToYDoZNKURNKHgjeKDpDOCyP7zeZ7Vavuxff/E2jTH/b8GoxlkWUePCY70Laprb7IfMTc8kpkUR8xhayVJws3Fzps/liaWQoGeA1xLkgSH3UFQQ4iJsypFbjD8QXRAZaWB2Pn2WDmCyB5+P7Wgtm14pFxLY8eV41ICKZxHXpodSJVQEAokgAYPryBFSIoQHUwng4cf69R0rashFEiUEwqIArMpo0KSpCftcar35NZipWhA5Oqj5fJpJSOnxxrNVuvls4C3ZlYdOFWHKdHYmlklf564pv+cOrwvSRJEeB49O0F506UNK5GCyMYvToEEHYaeu2cfAEX4Sdo5l7n8vnmwqH7sgiRBZBBrRp/D6PxuLSeX8Ls9A5iRUCB8QsEVBSlCUoToYDoZNKURNKHgisJms901Vw6zB2cWp51pfGNnflu3CStFAwLHwEeEv/zwCNz/3/fkGNHwl3/51GPMMnnzCUFkeKoH3pckyWK1zdhbsNEuQ5X3ne3aS/1RZqZ8mgNPTSbTnPX7oFLcBeKc0e87De09wEQQ2avbTvpdjg4ZaXYgZEJBKJAAGjy8ghQhKUJ0MJ0MHn6sU9O1roZQIFEeKKqauyDAiupJG6/Zz+2F4C+45Ra3Jwsim7u/qPhC+0Pvp8LO4l6zBd5BF57vD+aCHfHJ6Ortf2H90aEyyGgymfbujfnzuswRUbGVlwNZ+1SmauL9lz9eXJ8uL50G7Y+HSwRtZz03jFAgH0LBFQUpQlKE6GA6GTSlETSh4IoiJu+8vF94ZQbW4s4oqpOD88Ef6qRDxfUvbslefqhMENnYBUnPfZIJm1QkScqwv18euyDJ4fgTd+W7u2+z2eCEPdzhAS5h6Om91GV0lyvw+1F7Cu6cm6jVgSiBt8dlCTQ7EAuhIBRIAA0eXkGKkBQhOphOBg8/1qnpWldDKJAoDxTwFthzlGlsAAQXFER27OxVQQSNZuud9lfPKBlrWgxw8J1zIBsszXvjqVUZP54Vj0fG8eDgsjEBalmXZWp7UzcU2jabR2mEAqkSCq4oSBGSIkQH08mgKY2gCQVXFE+tyhBEtje3PyYz1uXSyKlqEUR2SyRrMzh+aBi1pwDlYN/Wk8+OV8E5H/vzXew4cVm4h5vdRktz55UNv+QSyIpQEAokgAZ5BVcUpAhJEaKD6WTQlEbQhIIfih6TZdSMOEFk3n+N92lm1a4cFzuRj59rlr9HnBEHBxDfe3m7rsFoxvZrZZBLIElCQSiQABrkFVxRkCIkRYgOppNBUxpBEwp+KA6ckoM//zz6UOCvR202246s6iNljbCOCOuF78b3H2eMXdDEIJdAjISCUCABNMgruKIgRUiKEB1MJ4OmNIImFPxQPL8hSxDZ+4mlWEXghtliHTM7AWIW1vM5841cAoeJUBAKJIAGeQVXFKQISRGig+lk0JRG0ISCE4q61m44k6OquQur0MR4eWu2ILLXP8/TpDTnQsglkAmhIBRIAA3yCq4oSBGSIkQH08mgKY2gCQUnFBAy5tm1Lg4UwRr9M/pOMZ6z73RDR49/2VVzkUsgIkJBKJAAGuQVXFGQIiRFiA6mk0FTGkETCk4oJn6QJohst6ttIlhjcBrkEjguhIJQIAE0yCu4oiBFSIoQHUwng6Y0giYUPFDIRxLbdxkHeQRm7LvSIJdAGoSCUCABNMgruKIgRUiKEB1MJ4OmNIImFDxQ1LV2CyK7NSrWbLFi+YPFIJfAkSIUhAIJoEFewRUFKUJShOhgOhk0pRE0oeCB4thZOXzg+MUpWPggMsglcLAIBaFAAmiQV3BFQYqQFCE6mE4GTWkETSh4oPj8RLUgsuc3ZGHhg8ggl8DBIhSEAgmgQV7BFQUpQlKE6GA6GTSlETSh4IHivfgSQWQz9xZi4YPIIJfAwSIUhAIJoEFewRUFKUJShOhgOhk0pRE0oeCB4pVtJwWRrTtyDgsfRAa5BA4WoSAUSAAN8gquKEgRkiJEB9PJoCmNoEMbxbbj1U+vymjq7MX+ejA0RPGr5el959clnr7oobqgfaQhh6Dto5cNIxQIilAQCiSABg+vIEVIihAdTCeDhx/r1HStqwltFE+skJXZhvQKb7BpiOL2OfJBcyUX272pN9jSaMgh2Lrma3sIBRIjFIQCCaDBwytIEZIiRAfTyeDhxzo1XetqQhvFI0sPCyJ7aUu2N9i0QtFqMAoiE0RmMJq9qTfY0mjFIdj65Ud7CAVCIxSEAgmgwcMrSBGSIkQH08ng4cc6NV3rakIbxc+jDwkiu+OdRKvVpkpOKxT5Na2CyMYuSFKtMTgTaMUhOHvnU6sIBeIiFIQCCaDBwytIEZIiRAfTyeDhxzo1XetqQhvFHe8kwnJd4fk2VXJaodiXXyeI7Derj6rWGJwJtOIQnL3zqVWEAnERCkKBBNDg4RWkCEkRooPpZPDwY52arnU1oY1i5PRYUITebPvVCsXKlHJBZK/vzNN6rHQqTysOOjWXZzWEAukSCkKBBNDg4RWkCEkRooPpZPDwY52arnU1IYzCaLaCHBRENnnzCVVy3qAovdixgBX9ekX6pgy3u1X+83meILIPk8pUawzOBN5wCM6Wa94qQoFICQWhQAJo8PAKUoSkCNHBdDJ4+LFOTde6mhBG0WYwoSIcMydB9YhhVRTnGjt/MCMOyhw1I+5iW4/zaFistp/MOyiI7Gh5k/PTQXFHlcOg6IUmjSQUiJFQEAokgAYPryBFSIoQHUwng4cf69R0rasJYRR1rd2CyEZOj73bLtFUowOqopi8OVsQ2a9XpE/66IggslkxLo4kOVHZIojs9jkJJotV67HSqTxVDjq1IwiqIRQ4CISCUCABNHh4BSlCUoToYDoZPPxYp6ZrXU0Ioyhv6BBEdufcxEVx8plyf15/3DM8dyjOt3avTCmHrwNHRMWWN3QcPdskiGzU9Ljzrd0OZS6MLRZENnVHrsP9QXTpjsMg6oJWTSUUSJJQEAokgAYPryBFSIoQHUwng4cf69R0rasJYRQQBea+Rck1LYbhkXKAwHONncDPZpOD0Vittlc+Ozn78lKfOxRv78rHt8+4Lvjs2mOCyBbGFisHxGazjV+c0hd6hp26oLw/uGx3HAZXLzRpLaFAjISCUCABNHh4BSlCUoToYDoZPPxYp6ZrXU0Io4CVvEeXHpYkafLmE4LIovYUWK22ufuL7ngnMbf60tnGTpB6PSaLJEnuUPxxXaYgsvsWJf9uzbFLXUYYAXbqgiCyh5akKgekrF5elRw1Pa6zd1DGpoa+uOOg7GmY2IQCB5pQEAokgAYPryBFSIoQHUwng4cf69R0rasJYRRJRfWCyJ5YmSFJUtqZRhB//7ckFYylB8+kljaAXdXc5UERTvwgTRDZ4TONSvYdPaZbo+TQNuUNnX9Ym/nQ+6lt3aZo+yvjFzZmKVMOOjuEXcLXsSAUSIxQEAokgAYPryBFSIoQHUwng4cf69R0rasJYRQQKfq5TzIlSbLZbKtTz4KGAxX42o7crccqwT5+rtmDIhy7IKkv4rRzjGtYO/ztmqNQiLj71G2z4gWRJZfUaz1KupYXwi7hK0dCgcQIBaFAAmjw8ApShKQI0cF0Mnj4sU5N17qaEEaxI6vaHonwyqHGp2pbp+7InR1TCGuHC1gRiLmYvPPuFKHVahthXwt0jjWzIb0Csiv/O/GDNPhIUeuB0q+8EHYJXyESCiRGKAgFEkCDh1eQIiRFiA6mk8HDj3VqutbVhDCK9XbF9prTtt+Si+2wB/nlrXI0GUFkHx8+604RthqMkKbXLH9rqPxVNXfBo9GzE55Z3b9SCOJSmWzQ2SHsEr6OBaFAYoSCUCABNHh4BSlCUoToYDoZPPxYp6ZrXU0Io1h+qEwQWeSXpxyYGYxmUHL3LUoGY86+0w6K0GyxbjtenVN1qbxB3n0yZk6CQyFw+cjSw4LI3osvKTzfNmp63KNLD6vGwXZZTlDdDGGX8JUzoUBihIJQIAE0eHjFACvC6OjosWPH3njjjcOGDXvyySdLS0uxtz09Pa+88sp3vvOdG2644Zlnnqmvv/J5UHV19aRJk6677rphw4a99dZbZvOVrYWpqal33333kCFDbr311k2bNmFpLg3VzrvM5d9NHoMC87hiAAAgAElEQVTnX0sGPBehwCEIYRQQhnDegSLsLBo/XSh/Goh/Uz7NUSrC9h7T8xuy+r4IfOC9lKwKOeL0+MUpmFdpZFW0zDtQBDuLa1oMbQaT8ukgtUPYJXwdEUKBxAgFoUACaPDwClVRFIHV8zAmTpy4adOm06dP5+fnT5o06eabb+7qkjceSpI0ZcqU73//+8nJyTk5OePGjbvvvvvgvsViGTNmzKOPPpqXlxcXF3fTTTdFRUXBo4qKiuuvv/6NN94oLi5esWLFtddem5DgenUB0qt2HpJp8l8eg6dJw/QvhFAg8xBGMcv+veDSxCv/xsNe/26NHE0Q/56070cGFEaj8TeXXwEPj2QxeecFkT2z+ijmDXkjhF3C17EjFEiMUBAKJIAGD69QFUV8FSH2TZKkxsbGiIiItLQ0SZLa2tq+9rWv7dq1CxKUlJRERERkZsr7FuPi4q655hpcMlyzZs3QoUONRjlQ2bRp00aPHo1lPvvssxMnTsRLZ0O1885Z/L7DY/C8aUxu9aVHlx5OKWnwJrE+aQYKhT6986mWEEbxxk45svQa+zeCDkze+uJK0GlBZD9beAjXCKub5JiCI6JiR9mPMIbdJy9uubI9xaGo0LsMYZfwdbAIBRIjFIQCCaDBwytURZF+irC8vDwiIqKwUD6uNDk5OSIiorW1FTt/8803L1u2rO+og1mzZt155514v6KiIiIiIjdXPrfqgQcemDp1Kj7auHHj0KFD8RKM3t7e9su/2traiIiI5uZmE/+fwWCIiYkxGAz8q7qqhmj7js4pW7OvujugFwOFYkA77bryEEbxD/vGkU3pZ517/lFSKSwQ3v+u/CnhiKjY7p5eQLEnWw5J89iHaQ+/L0cu/M3qDEFk03blORcSqndC2CV8HTJCgcQIBaFAAmjw8Irm5uaICE+bK3RShFar9fHHH7///vtBt23btm3IkCFKMXfvvfdOmzZNkqSXXnppwoQJ+MhgMERERMTFxUmSNGrUqOjoaHwUGxsbERHR3X3V4adz5syJuPq3ffv2mND9Pbt0vyCyce8cCN0uUs+CkcAvF8mON33dPufGzVm/DxThM0v23yIeEES2eWd/qr99KOf647L9j9mzj4qSn764fL9zIXSHCBABIkAEtCWwffv2oFCEU6ZMEQShtraWtyIMtzXCyZvkj/RHTpeXYfDfFgNr8PiXzcD2yO/aQxgFLO/tz6t1hpNX1QyKcEl88c/su0yyK5oAxTOr0gWR7TheOf3LU/ih4Sdp5c6FhOqdEHYJX4eMUCAxQkEokAAaPLwiKNYIX3311e9973sVFRW4vMfvrTFWIUmS6itzZeIAbR6v/L1pEn6nX9HUv2XHm1xc0wwUCq6d8q/wEEbx2IdHnE+fA0rtPSZQe7tyap9cKb8Xji+8YDKZvtwb86OZcfaz6To+PnwWFWEIRBn03j1C2CW8hwApCQUSIxSEAgmgwcMrVEUR37fGNpvt1Vdf/e53v1tWVob9xJ0lu3fvhpulpaUOO0saGvq3Sqxdu3bo0KG9vb2ws2TMmDFYznPPPUc7Sx66fJJsUtGV8D2IaEAMHn48IB0JvNIQRjF+cYogsuzKFpeU7pl/UBDZicqWKZ/m9Cm/TRkVJpNp1bYYOfrg7ATr/2/vTKCjqPI13gwHGEQJOETHcYZCJTg8mEEdxPXBOCjEZeDh0/GBS5QZEMHn8lA7gBBlFxUVkH1RFIKohGBlAZJASEIIhOwLWUhIQhbI1tm37qpH5cKfnk7S3enuqk5Xf304nK+qq+7yu/+bfKm6i0Hgk0vIEUZll3eaiCpPqjgkutteQEHEgAIoiAAJOaLCyY7wjTfe8PDwOH78eOm1Dw37mzNnztChQyMiIuLj4x9q/zAQbPWZSZMmJSUlhYaGenp6mqw+8/7772dmZn799ddYfUYUxTEfH2a/WTud9UmxpaSQI46VLL8D81IxCrYfcXpxTae4rjz28wtM0xuEjw6lcVp+ZXBGa2vrB1uk8YUztklLCiQVVpMjzCjpPJFOU3b1kyoOie42DVAQMaAACiJAQo6ocLIj/Pc5HtIRLSvNVqgePHjwDTfcMG3atNLSUgJx4cKFJ598sn///kOGDJk/f77JCtX33HNP375977zzTkqKbjQRFitvcr09h3I0nsXytOkN9Gt1/v4ki9crc4FTUChTte7momIUo5aEclr+QoWFsQrs7fCzG2O2HM95ZKk0j2RNaKYoihV1zRS6l2qaugvWda9XcUh0t1GAgogBBVAQARJyRIVFUyTvW2Oqm1OExco7sFT2N54gCEfTyworG6wvVbnRr1W2DrD198p3pf0o5CubwimrFYUgCMN8pTWoL9dKwznMfA4lFZPzY4K9IxYEYeTiEHamVW8wk4LKvlJrSNjQTEBB0IACKIgACTmiwqIpgiMk/nYJ+xvPP66Abe3V1Kq3sijZZdJ6v+zf6CWhgiBYeaOsl9mPQtbiKZm4WlE0tuhZ1NU3X99hslOw9c1tb/snvLIj7vXdZ2avPxSeUUJR+sRaadviP390uNMb1XpSrSFhQ3sBBUEDCqAgAiTkiAo4QnOLMRJ6+4WdjVfd0HJP90cExp6Xlvl4eFX4He0PbHrI2zc7UdjfFj0nBbWioIfTBoO1f4R0RPHartOcln/ss2M9p70UKElHDgpk2jOzAApqF6AACiJAQo6ogCN0DUe4KCCFTcPktPyoJaEWX8axoAlOkSZs/vfGGDbxMyT1+lhMiirlhRxxrHwtHJKjWlEUVDRwWn7k4hDrKXVEwXZGfm6TG21qTLv5tba2Wo9OrVd2DAm11tRivYCCEAGFrCjgCHuuI0wqrP7fvQkpRbrDaaVsVFZMTvmU9dISvh8dSqOwMCO+i70gbfnw7Rm2yazXwuBvYvLprZyZG2X9Cl2a8KoVRUZJDafl/7LsKNXUouiIYtuJ81dGIs79/qzFe9V0QUcOaqpdt+oCFIQLKICCCJCQIyrgCHuuI3xzbwKn5b0WBf/xQ2mI/eKD0o7Px7MuSw8L/UIbWiyM0BJFcV1YNqfltT8lVze0/PMb6R0cM4hV9S0UVcoLOeJY+Vo4JEe1ooi/UMlp+fFrIqyn1BFFeV2z788pyUXXNze3PjXXvbIjB9eti50lBwoCCBRAQQRIyBEVcIQ91xGyx4HMxs3YFstmXBoMwvj2tX/94wooMroSbLG31SHSch6CIOyMzvNaKO0JMWFNRHmdhUmgXaVp/3k54tj+UjklBbWiOJEt/d3i/eUJ66mqFYX1BNiV4EDEgAIoiAAJRIWsKOAIe64jZFNJFhxIeXdfYnXD9ad6WyKlDb6e+uqExfe/b/lLTxm3Rp6nGEq9qHt4VTin5aesj7LmKSPd6ECBLk0w1YoiJLWUDWClmloUakVhseImF4ADAQEKoCACJBAVsqKAI+yhjrD22t6vdR3W76iqb/FaJD3qSyq08ELtpe2nrrxi/im+iGJIFMXcy3XMa87efcaipzS+0VEaXZpIqhXFz2eLOC3/0vZTVFOLQq0oLFbc5AJwICBAARREgASiQlYUcIROdoSCICQWVndcgze9WBqbf9/SI9T8xmLWt2dMHv4Zf0v6qa9OXBnOFZF5dQ9oOh9/oYq9Pt524vrjQ/pWboEuTYRVhqKqvoX9AbO7fUrT67vjqaYWhcpQWKxvVxeAA5EBCqAgAiQQFbKigCN0siNcHy5N/lgXlk3NzAR77zZlQ7TJeXb4xdEsTstb3JjuoZVhXT1K3H0yn9Pydy0ICs8s6zQL+U6iSxNb1aCoqGtecjB1+MKgB1aEFVY2sL3p3v0hkWpqUagGhcWamr8AHIgPUAAFESCBqJAVBRyhco5w/fcH/++HhOLqxoaWtslfRE7dEK1raL136RFOyz+9ThqDH3+hip7nbY2Ult54c28CNb+xCEmVFhr8+/oo45Md9d0fSi+XO934ThCE/22fyzzMl19wIOV/9yZM3RD96CfhzJtW1beEppXK9E4ZXZpaSjUojGdBTVgTMff7s5yW/zBAmh1v5Uc1KKysb1eXgQORAQqgIAIkEBWyooAjVM4RTltziNPyL247xRaFYZMx2VTiYb58UVXDyMUhd/jyF6sbRVH8MCCV0/JrQqVpwh0/5y/XcVr+7g+D9V3vCdHQ0sYS7zgSkSXY3Kb3/TmZXUP/ey0MrqxvmbEt9soGYgcS/m0AokkxrN+OwuRGdGkCog4ULBrvWhAUlFLyyGpp3hL792noOaqpRaEOFBarafECcCBEQAEURIAEokJWFHCEyjnCvy7/hf2mvGtBEP3WJPGv9qGBnJY/nCbtLPLKjjhOy+873fkSM3qDwCaX5JfXU3wwsfBAyp8/OvzClpMrgjLYcobmH/UdTLw4f3/ShoickNRS7y+lcYfv/pDISjV3TyeLAwuCcDDx4sOrwp9Ye9zirrUmZWOH6NKERR0o2FLS07fGXonbvPL65zeffH7zyfd/TCpu/9uGKmteqAOF+Tpa8y04ECWgAAoiQAJRISsKOELlHOG9S646QrZ2DLOAIxeHvLvvqgNjPmx9uDSm8LFPj3FaPia3nJrfRLBZI6FppVlltRcqrvrCiHOXyGIy8cCKMJMbzRyyPU4ohTEfH2bPIOub2zYdz00r1gmCwFa0YdesPZLFUiuoaNgeldfSZjCTOH2FLq0yFOyJsp2zlBAVLCrAQWW9g6pjj0BUED2gkBUFHKFCjrC5ueUOX8kRspVforLLL9U0+eyM23OqIDRNWryN/r25N0F6BNi+lHSnQwBZQLAneXO+i79rQdAwX3727jNBKSX/+UkE26Rkd+wFNq1k2tedz02hqDIWNU2tbH8U6eFiewGSCqsFQZi7RxoWNmpJqF9gGqflhy8MYvup/PHDkEs1TfXNbWzRbCs9Abo0MVcBirrmtuELpWfeuZfrqF42CBWgsKHWHW8BB2ICFEBBBEggKmRFAUeokCMsrpRG/rFhggkFVdSooijqGlvv8JUc4Yj2VQafWHu8uLqRTQRu03f51I1N5yQfSeKBFWFs4GBji94/riCrrNY4L4t6/v4ktrbw7N3SAjfrw7O/PyVtjmz8b0dUniAI//V1NKflX94R93b7OticlrfSfaJLUyuoAAWb5DR+TYT5wQlU5a6EClB0VbVunQcHwgUUQEEESCAqZEUBR6iQIzybX85p+XHLj1JzGoupGyR3xUb+3bUgKCpbutj8trDGL4hDUkv8AtMmfxE5ekmonavJlNU0+f6cnFVWy94gj1txlD0B+vxIFhtlOOvbq+tax1+ovLPDgMgSnTQtptNPTVPr/2yJ/fv6qDf3xPtuDSyvaej0Mrc6qYKfbuxZ9UeH0uxsOBWgsJMAux0cCCNQAAURIIGokBUFHKFCjjA4+aK0Xkz7KjPUoiQySmo2ROS0tBlGLwnltNJyMGxWMl3QUZTopOeInJaf81031gHumE5XZwoqGui54Jt7EwwGQdfYyieXNLXq6ZbEwmq2Lcqq4Mz/3hjDafmd0Xn0rYnYGZ1HCbJXz6/ujPskJHPunrNbInPNTJo2SUdNh6740y29uIY2y6m8tn1O/IVKO9vFFVHYWeVObwcHwgIUQEEESCAqZEUBR6iQI9wZJW1G/K9vTlNzdiqebfdV7CXylsjcTq9hJwVBeGhl2J0LgtKKdWYus+erKeujvBYFf3sy3/wLQbbn8vYoyfA9v+lkVzk+vU6ayPxhQOpnoRkPfnx9kg35Wt+fk//zk4iIc6Y7rHSVoArOu9xPN11j638sDhmxSFqiSBTFDRE5nJZ/Zl2U+QixpqVcDoU1lbLhGnAgaEABFESABKJCVhRwhAo5wpV8ersfSqHm7FSwp4Oclh+5OETX2NrpNXQyr7w+ucjC1sZ0sQ2iuU1vsQyU7MX2sY/DfPm535+Ny5OeGFU3tBxKKq5tkmpxrrSWPResrG9hXTqzuPqrsOwFB1JWh2SyF9PMGo5dftT6TCl3FxUu99PthzOFrJkOp5W26Q0Ptm+KY7Jxtm1t4XIobKumxbvAgRABBVAQARKICllRwBEq5Ajf2itN190QfnW5FmpUE/FNjLS5HKfl/QLtHZhlkrICh9qfrq93/e6+xLHLj3Ja/pHV4ZFZlxcflBbcnvXtGVEUO3bp6Jzy8Wsi/vnNmQlrpLnS3drrQoF6yZdFRxTy5eWQlNkgAU7LrwzKCE6RNs75y7IjzW3XBxLYnIvLobC5puZvBAfiAxRAQQRIICpkRQFHqJAjfGGzNMzuxzOdrzhNbRx7voLT8sN8+Y5LT9M1PVYIgpBWrPvgx+u+0GTqSWj74ttmunRMjjSlZpgvn3pRrlfhPYqeGRQ9qpysMJdqm9h4Bk7LP7sx5vXd8ZyWXxXc+bY63S2/a6Hobu2svx4ciBVQAAURIIGokBUFHKFCjpA9/YrKKqPm7FS06Q3v7Ev8+lhOp9+6yslj5y5NWR+1Kjizoq7Z9+fkMR8fvmtB0JQN0WwJa/Ndmq10+E9LAy5dBYX5cppHYf5e5b9lc4PYm2KvhcFs12xHeXfXQiEffHAgtkABFESABKJCVhRwhEo4QkEQ2K/PnDK3ePRFIUvCeOaB+S59/nIdexAl6xBJKphzhXkUzi2bce6tesPGY7kjF4dwWn57VN5flh1hYxvsX4aQcnEVFFRgmQQ4EFigAAoiQAJRISsKOEIlHGF1Qwv7DVrb0ETN6bbCYpdm2/q9tsvCvGwVALSIQvk6trQZMkpqTPJ9r33dcjaXvK65ja1ezmn51SGOeWXc6ehSkzK4yWEPDAlnkQcKIg8UQEEESMgRFXCESjjCzNIaTsv/x6JfWlstTB+mxlaxsBjHeeX1zEBXtS9x4s4oFK67IAj//Ebaq+Zg4kXK+kBCEdtu54fThexZ79bI86yBHPXKGI6QaFvsHXSl6gVQUBMDBVAQARJyRAUcoRKOkO0v8vDHcIRSMFsTx/culd5LZpaaPqyizqAOYQ0KJWt6MFFaR53T8pPWRjLzV1DRwF4Wf3k0m0qSUVIzzJd/Yu1x48EA9K1toqehsK0W9t8FDsQQKICCCJBAVMiKAo5QCUe4N66A0/JPrjqEZ4RWOsIn1h7ntHx0TjlFvypFz/np1tJmiMktZ0acmcLIrMuiKLIXxM9vPmmyqUxiYXWpzpFDIHoOCudGGjgQf6AACiJAAlEhKwo4QiUcYWBS8d/Xn/jnOjhCKZit6dLTt8aavLukbqAmYQ0KBepbVNXw8Kpwejq4KEDaRPGl7adicqXFgO5cEJRdVit3MXoICrmraTF9cCBEQAEURIAEokJWFHCESjhCK20QtbS6hTVdmq1Bs+3EeaBQgMDcPdLy6WM+PvzOvsTCyobCygY23XuYr/QGeVGAhY12HFJCa6LCIRn18ETAgRoIKICCCJBAVMiKAo4QjpACTCFhTZf+6FCaA1c/Vqhi3c/GGhTdT7V7d8RfqGKrgqcXXx+1ue3E+dFLQjkt/ye/0Iq65u6laNPVPQGFTQV38E3gQECBAiiIAAlEhawo4AjhCCnAFBLWdOkNETmcln9vf5JCZXJSNtagkLtoz26UdtP54Mdkk4ya2/TROeV55fUm52U67AkoZKpat5IFB8IFFEBBBEggKmRFAUcIR0gBppCwpkvvOy3NxXl1Z5xCZXJSNtagkLVoNU2tbPigY6eJ2FBmp6Owocxy3AIORBUogIIIkEBUyIoCjhCOkAJMIWFNlw7LKOO0/DProhQqk5OysQaFrEXLLqvltPxov1BZc7EmcaejsKaQClwDDgQZKICCCJBAVMiKAo4QjpACTCFhTZdOKqzmtPxDK8MUKpOTsrEGhaxFO5F9+coqP49/flzWXKxJ3OkorCmkAteAA0EGCqAgAiQQFbKigCOEI6QAU0hY06UvVjdyWt5rYbAD10BWqHrdycYaFN1Jr9vX7j9TyBaa6fadjr7B6SgcXSEb0wMHAgcUQEEESCAqZEUBRwhHSAGmkLCmSze16tn4Nl2jmvf9M0GxKzovIvOSQs3Qns368GxOy8/vATN4TFAoCaFH5QUO1BxAARREgASiQlYUcIRwhBRgCgkruzRb/ST3cp3NxfoqLHv61tie7CmNUZwrlYb0/fmjw0o+FmWLUX8aes5myI660RiFo9J0xXTAgVoNKICCCJBAVMiKAo4QjpACTCFhZZf+66fHrmz9F5dXaVuxBEEY7SetqPf1sRzbUlDgLmMUAQlX9xS+VOPI3eHM1+Jf3565sivJ7tgL5i9T4FtjFApk12OzAAdqGqAACiJAAlEhKwo4QjhCCjCFhJVd+r/b18kLSimxrVhV9S3svfMDK8Ja9QbbEpH7LmMUq0MyWYFP5lbInS+l//f1UZyWP5JeRmecJYxROKsMPSFfcKBWAAqgIAIkEBWyooAjhCOkAFNIWNmlX98dz2n5b0/m21asxPbZysxjHUoqti0Rue8yRjFz12lW2u9PKffE7v7lRzktn1Kkk7umFtM3RmHxYhVfAA7UuEABFESABKJCVhRwhHCEFGAKCSu7NBvi9vmRLNuKdTDx6ktYTsv/19fRtiUi913GKB79JJw5wqW/pMudL0u/TW9g+xdfqlXuPXVXVTNG0dU17nAeHKiVgQIoiAAJRIWsKOAI4QgpwBQSVnbptUeyOC2/4ECKbcX6KkyaReuzM47ZLF1DT5yzTCjqm9tYOZXcqaVEJy3xc+eCIL1BsA2yA+8iFA5M0xWTAgdqNaAACiJAAlEhKwo4QjhCCjCFhJVdenfsBU7Lz/r2jG3FeveHRE7Lb4jIeXiV9OzN5hkqtuVu5V2Ewvgd9/g1EVbebudlCQVVnJZ/sGcsA04o7KyUq98ODtSCQAEURIAEokJWFHCEcIQUYAoJK7t0SGoJp+WnGb3wzSipOZxWamUp2cSUQ0nFbHyezeMRrczOtssIxQ+npZWin1h7/MrQyTt8+eY2vW0JdusuRnjqhh7xSp1QdKsK6rsYHKhNgQIoiAAJRIWsKOAI4QgpwBQSVnbp+AvSE6x7Pj7M7FFRVQNboZBmH1fVt2yPyutqucG/LLs6Z2JNqDSH1/dnG98+ywqFUCz7JZ3T8h8dShu1RFoxJ7usVtZ8WeK7ovM4Lf/67ngF8rKYBaGweKW6LwAHal+gAAoiQAJRISsKOEI4QgowhYSVXbpVb3hgRRin5fefKTQYhH9sPslG2j2wIqyuuU0UxY8PSS6q09fKNCxP19h6KKm4x04uIRQvbT/FaXn/uAK2HExIqrWPQu1ps1XBklf2C0yzJxFH3UsoHJWgi6YDDtRwQAEURIAEokJWFHCEcIQUYAoJ67v0puO5nJaftDZyZVAGp+VHLg5hgwKXtc/G9f7yBPOIHccIphfXsOeLoijmXJL2Ahm5OMTQA+ZPmCBubW394ruDz22KYXN+zxZUve2foNiq2u/uk4ZabjyWa1IqpxxaHxVOKZ5imYIDoQYKoCACJBAVsqKAI4QjpABTSFjfpXWNrSMXh9AkXP+4gojMS5yW91oYfLG6cZgvz76asj7KxO0Zj5Br0xu8FgVfmcN7oaJeoRpanU1Bee3Ihb+wWjy/6WRLm4FNkf7H5pO1TbJPjp6+NfbKvnkHEoqsLq+MF1ofFTIWogckDQ7UCEABFESABKJCVhRwhHCEFGAKiW51ab/ANMkCLgref6aQle9vn0m727HnW/cvP8os44xtsczwReeUP/758cc/l6ZovOWfwG55ep30NFGZV7HWQzQYhP/ZIr0Kf/qrE4WVDezGxMJq5nQfXBnW8dmn9YlbvLKlzcDGZSYWVlu8WIELuhUVCpTHWVmAA5EHCqAgAiQQFbKigCOEI6QAU0h0q0vXN7d9fSwnrfj6phpspgh7rvZ/PyQdSCga0f4IcMSi4KW/pP/xw+vPFGl16/n7kzgt/8VRC4tdN7boL1Y3KkRBFH+ML5LM7oJfskr+zZPF5JaPXxPBafnhC4P2nS6QqTzHsy5zWn7s8qMmj1dlys5ist2KCoupue4F4EBtBxRAQQRIICpkRQFHCEdIAaaQsLNLp17U0XtkZpjyy+vZC1B2fsa22H9+c/qejw+fLahiVdp24jyn5WfuOm2mhvXNbX/77NgwX/7ns5bforbpDakXdSYLO2eW1qw9klVWY+3+H++0D+Obte5Qa6vpC+KGlra5e86y6iQVVl+qbfrrp8c++DG5zXEbNC88kGLPAuBmSNr2lZ1RYVumPfAucKBGAQqgIAIkEBWyooAjhCOkAFNI2NmlBUFg80s4LZ97uY4VWhCE/WcKxy4/+tqu002tpov5MRM5zJc/W1CVWVqzISJn98n8+AtX/SJLwfdnySGxPTy+icmPv1DZMR3Ki+25/My6KPbKtaXNsPhgKpsd8uK2U1ZyZKsPLt8V2NERiqIoCMK/vj3DaflVwZlbIyVHy2n5+fuTWtoMVqZv5jKDQWA7Gh87d8nMZUp+ZWdUKFlUWfMCB8ILFEBBBEggKmRFAUcIR0gBppCwv0svbV+9776lRwTh37ZfMzk0rg/bwuThVeFeC6VZJuzfnO/ifX9OHrfi6F8/lcYmclre+Fnji9tOdZrg7pP5lMKdC4KOppd9dEga7MhpeTYE8GRuhXHWnerGFj1zkN/uP9ipIxRFkW3NPGlt5HObYihHTss/sjr8/DUr3GniFk+y3UpGLQlVZilsi+URRdH+qLAml55/DThQGwEFUBABEogKWVHAEcIRUoApJOzv0llltf+xOGRFUIb1Ja6oax7z8WHmq57fdHLmrtN3Lggytlmcll/2S3qb3vBJSOa0r6OZceSTS0yyyC6rZTOX1x7JYk8K2eGVMXl8csmHAamcln92Y0ynVtI4KebJ7lt6JCCgS0dY3dDCXCMzmhuP5bK5IGx3PuPUuquX89JSjvP2nO3ujfJdb39UyFc2JVMGB6INFEBBBEggKmRFAUcIR0gBppBwSJe2aLk6ViYktfShlWHrwiDwBmYAABlTSURBVLLZXIqMkpq3/BPe/zHpRPblmJzyI+llxuMC1x7J4rT8w6vCG1uuv4MWBOHFbdJS0j474wRBaNUbXt4Rx2wlWyKxrKaJTXOJySnvWADjM9+179r88vbYgwe7dISiKD6/6eq63E+vOyGKosEgbIjIsXOjkYaWtj/5STujHEkvMy6Sc7VDosK5VXBI7uBAGIECKIgACUSFrCjgCOEIKcAUEi7RpRtb9Gy04tbI88QlPLOMrYZYUHF1sZjaptZ/fXvmzb0JNLzvgx+TrdkIxPdn6bJVQenmHeHGY9Ia3ZyW/yosmxUjJrecWVUqVXcFM6Pj10QYO+DuJuLw610iKhxe644JggMxAQqgIAIkEBWyooAjhCOkAFNIuEqXZvM55nx3ddvfVr2BLYW4Mtjc2+rglBJOyz/22THzNNludYEJheYd4blSacMVTstnltawBGuaWtmZqvoW81l0+q3BILBa7IjK6/QCZ510laiQmw84EGGgAAoiQAJRISsKOEI4QgowhYSrdOnI9hX7/nbN231++Byn5e9deqTG7G4iusZWNkKxqOrqc8SOWFuvbaOSU6Yz7wgFQVgRlLEiKMP4LfmE9tUKI7Mud0zZ+Eyr3hCYVGyy90lMjvSIcdSSUJPzxjc6RbtKVMgNBxyIMFAABREggaiQFQUcIRwhBZhCwlW6dImukS1G09JmSCioYj7vl+Rii5ie3ShNDd5zqqCoquF41uXQtFJd4/UVB/PK69lGLKP9QltaWsw7wk7zmte+VOGGiJxOv6WTWyKlN87an5LpzBXBsjY5aXyBs7SrRIXcfMCBCAMFUBABEogKWVHAEcIRUoApJFylSwuCMGqJNAPjXGntpLWRxtvimSf15dFsTss/+kk4TWd+Zl1UU6s+q6x2znfxtB3zvD1nbUOx+bhk9eh1dleFmbFN2rb4no8PG69rzZ4vhqaVdnWXs87bhsJZpZUvX3AgtkABFESABKJCVhRwhHCEFGAKCRfq0lM3RHNafn245PC8FgZXN1g1dI+tLMNG+/3ts2NsyZgp66NoKcRXd8aFpJa26g22oWBvfh9ZHW6mwZrb9GzWM6flaX/kvPJ6tjleXXObmXud8pVtKJxSVFkzBQfCCxRAQQRIICpkRQFHCEdIAaaQcKEu/f6P0obID6wIuzK344UtJ60EpDcI7JYNETmCIMSer7jr2tqHr+06fa60ltKxDYWu8erkkvzyekrKRMTlVTJLyml5WrhxR1QeW4Xb5OKecGgbip5QcseWARyIJ1AABREggaiQFQUcIRwhBZhCwoW6NG0fx2n5ddfWf7EGU1FVQ3rx1dnBoigGJFyc/EWkf1yB8QQRezbqYOsUPvbZsa5mHLM312xR7sc+vTrx+aXt0mKKxuvpWFMXZa5xoaiQFQg4EF6gAAoiQAJRISsKOEI4QgowhYQLdemIc5foSZvJPsgOgWUzilJd00MrpSeXo/1Cp26IDs80XWv6f7ZIgwg3Hc8dvlDammVdWPbqkEz22jq77PpDSofUwiGJ2IzCIbn3nETAgdoCKICCCJBAVMiKAo4QjpACTCHhQl26qKqBOcJRS0KN52c4ipQ9KLLKascuP8qK98jqcLYRCyvY5dpmNogw51Kdz86ru6qwK5/66oTJc0pH1cXOdOxBYWfWPep2cKDmAAqgIAIkEBWyooAjhCOkAFNIuFCXNhiEkYtDOC0/c9dpOejYiaKpVZ96Uce2pDt27tLF6sbPDp+bsj6KTWceu/yoIAjF1Y1rj2TN/f7svD1nf0kubmq9vimfHDWyOU07Udicb0+7ERyoRYACKIgACUSFrCjgCOEIKcAUEq7Vpaesj+K0/HZ5dvhwCAq2xODzm07SI0NOy0/+IpJPLlGoRR2RjUNQOKIgTk4DHKgBgAIoiAAJRIWsKOAI4QgpwBQSrtWlI7Muz9+fJNMOHw5BkV12dac7TstP/Pz4/jOFZTVNCrWl47JxCArHFcdpKYEDoQcKoCACJBAVsqKAI4QjpABTSKBLE2hHoXhuk7RLytjlRy9WN1LiriUchcK1at2xtOBATIACKIgACUSFrCjgCOEIKcAUEujSBNpRKJIKq1/fHZ9WrKOUXU44CoXLVdykwOBAQIACKIgACUSFrCjgCOEIKcAUEujSBBoogIIIMIGQICBAARREgASiQlYUTnaEkZGRzzzzzG233abRaAICAqiqPj4+GqPP5MmT6avKysoZM2bcdNNNHh4eM2fOrKuro6+Sk5MfffTRfv36/f73v//kk0/ofFfCYuW7utGG84hjggYUQEEESCAqGApwQEgQARKICqAgAiTkiAqLpkhD2cshgoODFy1adODAgY6O0Nvbu/Tap6qqinL39vYeM2bMqVOnoqKihg8fPn36dPZVTU3Nrbfe+uKLL6alpfn7+/fv33/Lli10V6fCYuU7vcu2k3I0nm0lcfpdQEFNABRAQQSYQEgQEKAACiJAAlEhKwqLpkheR0h16+gIp06dSt+SyMjI0Gg0Z86cYWdCQkJ69epVXFwsiuLGjRsHDx7c0tLCvtJqtXfffTfd2KmwWPlO77LtJOKYuAEFUBABEogKhgIcEBJEgASiAiiIAAk5osKiKXKaI/Tw8PD09BwxYsScOXMqKioYhR07dgwaNIiItLW19e7d+8CBA6Iovvzyy8YmMiIiQqPRGD9cZHc1NzfXXPsUFRVpNJqKiopW+T8NDQ0HDx5saGiQP6uengNQUAsBBVAQASYQEgQEKICCCJBAVMiKoqKiQqMxN7nCOY7Q398/MDAwJSUlICBg5MiR999/v14v7bWwYsWKESNGkCMURdHT03Pjxo2iKD7xxBOzZ8+mr9LT0zUaTUZGBp1hws/Pz2iAoiT37t17EB8QAAEQAAEQAAEQcGMCe/fu7YmO0NjGnT9/XqPRhIWFOcQR4hkh/YXhLIE/8og8UAAFEWACIUFAgAIoiAAJRIWsKHroM0JjRyiK4pAhQzZv3iyKov1vjY1TtvjK3PhiO7Ucr/ztLJKzbgcKIg8UQEEEmEBIEBCgAAoiQAJRISsKi6bIOW+Nqc6iKBYVFfXq1SswMFAURTazJD4+nl1w+PBhk5klra2t7KsFCxZgZokxxp6j0aWpLYACKIgAEwgJAgIUQEEESCAqZEXhZEdYV1eX2P7RaDRr165NTEwsKCioq6t77733YmNj8/Pzw8LC7rvvPi8vr+bmZgbC29v73nvvjYuLi46O9vLyotVndDrdrbfe+vLLL6elpe3bt++GG27A6jMUOj1KoEtTcwAFUBABJhASBAQogIIIkEBUyIrCyY7w2LFjJvM8fHx8GhsbJ02a5Onp2adPH47jZs2aVVZWRhQqKyunT59+4403Dhw48LXXXut0herbb7999erVdEtXwmLlu7rRhvOIY4IGFEBBBEggKhgKcEBIEAESiAqgIAIk5IgKi6ZIobfGVEklhcXKO7AwcjSeA4unZFJAQbSBAiiIABMICQICFEBBBEggKmRFYdEUwRESf7sE4pjwAQVQEAESiAqGAhwQEkSABKICKIgACTmiAo7Q3GKMhN5+IUfj2V8qp6QAFIQdKICCCDCBkCAgQAEURIAEokJWFHCEcIQUYAoJdGkCDRRAQQSYQEgQEKAACiJAAlEhKwo4QjhCCjCFBLo0gQYKoCACTCAkCAhQAAURIIGokBUFHCEcIQWYQgJdmkADBVAQASYQEgQEKICCCJBAVMiKAo4QjpACTCGBLk2ggQIoiAATCAkCAhRAQQRIICpkRQFHCEdIAaaQQJcm0EABFESACYQEAQEKoCACJBAVsqJwa0eo0+k0Gk1RUVGN/J+Kioq9e/dWVFTIn1VPzwEoqIWAAiiIABMICQICFEBBBEggKmRFUVRUpNFodDod+U4Toeb1CFnlTTZNwSEIgAAIgAAIgAAIuCeBoqIiEyNIh2p2hAaDoaioSKfTkemWTzD3qczzSPlq4ZCUgYIwAgVQEAEmEBIEBCiAggiQQFTIikKn0xUVFRkMBrKAJkLNjtCkqrIeWnw9L2vuPSpxoKDmAAqgIAJMICQICFAABREggahwLgo4QuJvl0AcEz6gAAoiQAJRwVCAA0KCCJBAVAAFESDhlKiAIyT+dgmnNJ5dJZbtZqAgtEABFESACYQEAQEKoCACJBAVzkUBR0j87RLNzc1+fn5X/rcrFVXcDBTUjEABFESACYQEAQEKoCACJBAVzkUBR0j8IUAABEAABEAABEDATQnAEbppw6PaIAACIAACIAACIEAE4AgJBQQIgAAIgAAIgAAIuCkBOEI3bXhUGwRAAARAAARAAASIABwhoYAAARAAARAAARAAATclAEfogIbfsGEDx3H9+vUbN25cXFycA1J0kST8/PyMdwG6++67WcGbmprmzp178803Dxgw4Nlnny0rK3ORCnWvmJGRkc8888xtt92m0WgCAgLoZkEQFi9e/Nvf/vbXv/71xIkTs7Oz6avKysoZM2bcdNNNHh4eM2fOrKuro69cWnSFwsfHxzhCJk+eTNVUJYqVK1eOHTv2xhtv9PT0nDp16rlz56i+ZjpFQUHBU0891b9/f09Pz/fee6+trY3ucl1hBsWECROMo+L111+naqoSxcaNG//0pz/d1P558MEHg4ODWX3dLSREUewKhbuFBAU8E6tWrdJoNG+//bbTAwOO0KRpun24b9++vn377ty5Mz09fdasWYMGDbp06VK3U3HNG/z8/EaNGlV67VNeXs7qMWfOnD/84Q/h4eHx8fEPPvjgww8/7Jr1s1Dq4ODgRYsWHThwwMQRrl692sPD4+DBg8nJyVOmTLnjjjuamppYWt7e3mPGjDl16lRUVNTw4cOnT59uIQ8X+borFD4+Pt7e3tcCpLSqqooqpEoUkydP3rVrV1paWlJS0lNPPTV06ND6+npW5a46hV6vHz169OOPP56YmBgcHDxkyJAFCxYQJdcVZlBMmDBh1qxZFBU1NTWsmmpFcejQoaCgoOzs7KysrIULF/bp0yctLU0URXcLCVEUu0LhbiFh3K9Pnz49bNiwP//5z+QInRgYcITGTWOLHjdu3Lx589idBoPhd7/73apVq2xJyAXv8fPzGzNmjEnBdTpdnz59fvzxR3Y+MzNTo9HExsaaXKamQ2NHKAjCb3/7208//ZRVUKfT9evXz9/fXxTFjIwMjUZz5swZ9lVISEivXr2Ki4vVikIURR8fn6lTp3asoDuguHz5skajiYyMFEXRTKcIDg7+1a9+Rc/RN23aNHDgwJaWlo7QXPeMMQpRFCdMmEC//Iwr5Q4oRFEcPHjw9u3b3TwkWLszFO4cEnV1dV5eXkePHqVO4dzAgCM0/onUbd3S0tK7d2/jN4avvPLKlClTup2Qa97g5+d3ww033HbbbXfccceMGTMKCgpEUQwPD7/yALy6uprqNHTo0LVr19Kh+oSxIzx//rxGo0lMTKRqjh8//q233hJFcceOHYMGDaLzbW1tvXv3PnDgAJ1RgTBGwRyhh4eHp6fniBEj5syZU1FRweroDihycnI0Gk1qaqr5TrF48WLjP6vy8vI0Gk1CQoIKgoGqYIyC/fofMmTIb37zm1GjRvn6+jY0NLArVY9Cr9f7+/v37ds3PT3dzM9J1XMQRdEYhTuHxCuvvPLOO+8Ye2LnBgYcIf3UskUUFxdrNJqTJ0/Sze+///64cePoUN0iODh4//79ycnJoaGhDz300NChQ2tra/fs2dO3b1/jit9///0ffPCB8RmVaWMbFBMTo9FoSkpKqI7PP//8P/7xD1EUV6xYMWLECDoviqKnp+fGjRuNz7i6NkYhiqK/v39gYGBKSkpAQMDIkSPvv/9+vV7vDigMBsPTTz/9yCOPsAY10ylmzZo1adIkaveGhgaNRkNDzei86woTFKIobtmyJTQ0NCUl5fvvv7/99tunTZvGaqdiFCkpKQMGDOjdu7eHh0dQUJAoim4bEh1RuGdIsB+Po0ePZmOK6BmhcwMDjtCun7Ru7giN2VVXVw8cOHD79u1mAtr4ejVpYxsER2j8yNy4ldnT07CwMHdwhHPmzOE4rqioiBEw0ylUbINY3U1QGIcEPT3Nzc0VRVHFKFpaWnJycuLj4319fYcMGZKenu62IdERhXuGRGFh4S233JKcnMyqD0doEgYueejmb41N2mzs2LG+vr5mHnqbXK+aQ2NHiLfGXTlCURSHDBmyefNm1b9Anzdv3u9///u8vDyKcDOdQt2vCDuiICZM1NfXazSa0NBQURTVjYIqPnHixNmzZ7ttSBAHURQZCuMzoii6SUgEBARoNJre1z4ajaZXr169e/cOCwvratiVAh0EzwhNorHbh+PGjXvzzTfZbQaD4fbbb3efmSXGsOrq6gYPHvzVV1+xgbE//fQT+/bcuXNuOLPks88+Y9WvqakxmVkSHx/Pvjp8+LDqZ5YYR0hRUVGvXr0CAwNpko36UAiCMG/evN/97nfGSw7RzJJOOwWbTkELFGzZsmXgwIHNzc3G6FxRd4XCpC7R0dEajYY9KVErCpMqP/bYYz4+PmZ+TroJB1EUGQoTPm4SErW1talGn7Fjx7700kupqanODQw4QpNo7Pbhvn37+vXr980332RkZMyePXvQoEE0bbDbabnaDfPnzz9+/Hh+fn5MTMzjjz8+ZMiQy5cvs1UVhg4dGhERER8f/1D7x9VqZlV56+rqEts/Go1m7dq1iYmJbG7N6tWrBw0axMbPTZ061WT1mXvvvTcuLi46OtrLy0s1q890iqKuru69996LjY3Nz88PCwu77777vLy8yOt4e3urD8Ubb7zh4eFx/PhxWlqlsbGRBdOcOXM67RRsyZVJkyYlJSWFhoZ6enqqY/WZrlDk5uYuXbo0Pj4+Pz8/MDDwzjvvHD9+PEOkVhS+vr6RkZH5+fkpKSm+vr69evU6cuSImZ+TauUgimKnKNwwJDr+gqG3xs4NDDjCjk3T7TPr168fOnRo3759x40bd+rUqW7f77I3vPDCC7fddlvfvn1vv/32F154gQ0GEkWRrbw6ePDgG264Ydq0aaWlpS5bRXMFP3bsmPFCuxqNxsfHRxRFtkL1rbfe2q9fv4kTJ2ZlZVEqlZWV06dPv/HGGwcOHPjaa6+pZoXqTlE0NjZOmjTJ09OzT58+HMfNmjXL+I8lVaIwiQeNRrNr1y7W+mY6xYULF5588sn+/fsPGTJk/vz56lihuisUhYWF48ePv/nmm/v16zd8+PD333+f1iMURVGVKGbOnMlxXN++fT09PSdOnMjsoPmfk6rkIIpipyjcMCToNwIJY0foxJ8VcITUIhAgAAIgAAIgAAIg4KYE4AjdtOFRbRAAARAAARAAARAgAnCEhAICBEAABEAABEAABNyUAByhmzY8qg0CIAACIAACIAACRACOkFBAgAAIgAAIgAAIgICbEoAjdNOGR7VBAARAAARAAARAgAjAERIKCBAAARAAARAAARBwUwJwhG7a8Kg2CIAACIAACIAACBABOEJCAQECIAACIAACIAACbkoAjtBNGx7VBgEQkIOAj4/P1KlT5UgZaYIACICArATgCGXFi8RBAARUSKDjFm3sjJ+fn06nq66uVmGdUSUQAAG1E4AjVHsLo34gAAKOJlB67fPll18OHDjw2lGpajaqdjQwpAcCIOACBOAIXaCRUEQQAIGeSWDXrl0eHh7GZTN+azxhwoQ333zz7bffHjRo0C233LJ169b6+vpXX331xhtvvOuuu4KDg+nG1NRUb2/vAQMG3HLLLS+99FJ5eTl9BQECIAACyhCAI1SGM3IBARBQIQGLjvCmm25atmxZdnb2smXLevfu/eSTT27dujU7O/uNN974zW9+09DQIIpidXW1p6fnggULMjMzExISnnjiiccee0yFsFAlEACBnk0AjrBntw9KBwIg0IMJWHSEjz76KCu+Xq8fMGDAyy+/zA5LS0s1Gk1sbKwoisuWLZs0aRLVsqioSKPRZGVl0RkIEAABEFCAAByhApCRBQiAgDoJWHSEc+fOpZoPHTp0zZo17FAQBI1GExgYKIric88916dPnwFGH41GY/xOmVKAAAEQAAH5CMARyscWKYMACKicgEVH+PbbbxMCjuO++OILOtRoNAEBAaIoent7P/vsszn//qmvr6crIUAABEBAAQJwhApARhYgAALqJOAQR7hw4cK77767ra1NnYxQKxAAARchAEfoIg2FYoIACPQ8Ag5xhMXFxZ6ens8999zp06dzc3NDQ0NfffVVvV7f86qLEoEACKiZAByhmlsXdQMBEJCVgEMcoSiK2dnZ06ZNGzRoUP/+/f/4xz++8847giDIWnIkDgIgAAImBOAITYDgEARAAARAAARAAATcjgAcods1OSoMAiAAAiAAAiAAAiYE4AhNgOAQBEAABEAABEAABNyOAByh2zU5KgwCIAACIAACIAACJgTgCE2A4BAEQAAEQAAEQAAE3I4AHKHbNTkqDAIgAAIgAAIgAAImBOAITYDgEARAAARAAARAAATcjgAcods1OSoMAiAAAiAAAiAAAiYE4AhNgOAQBEAABEAABEAABNyOAByh2zU5KgwCIAACIAACIAACJgTgCE2A4BAEQAAEQAAEQAAE3I4AHKHbNTkqDAIgAAIgAAIgAAImBP4fGSPwceD0Gs4AAAAASUVORK5CYII=)\n",
        "\n",
        "![image.png](data:image/png;base64,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)"
      ]
    },
    {
      "cell_type": "code",
      "execution_count": null,
      "metadata": {
        "id": "EufhBCaBvRuk"
      },
      "outputs": [],
      "source": []
    },
    {
      "cell_type": "markdown",
      "metadata": {
        "id": "NjX1ffgVVRNY"
      },
      "source": [
        "## Adding strategies"
      ]
    },
    {
      "cell_type": "code",
      "execution_count": null,
      "metadata": {
        "id": "0l8Dlq2KVTtg"
      },
      "outputs": [],
      "source": [
        "import ccxt\n",
        "import pandas as pd\n",
        "import numpy as np\n",
        "from datetime import datetime\n",
        "from sqlalchemy import create_engine\n",
        "import backtrader as bt\n",
        "import os\n",
        "import json\n",
        "import ta\n",
        "import pyfolio as pf\n",
        "from sklearn.preprocessing import MinMaxScaler\n",
        "from keras.models import Sequential\n",
        "from keras.layers import Dense, LSTM\n",
        "import torch\n",
        "from chronos import ChronosPipeline\n",
        "import matplotlib.pyplot as plt\n",
        "\n",
        "\n",
        "# RDS connection information\n",
        "rds_host = os.getenv('PG_HOST')\n",
        "rds_port = os.getenv('PG_PORT')\n",
        "rds_db = os.getenv('PG_DATABASE')\n",
        "rds_user = os.getenv('PG_USER')\n",
        "rds_password = os.getenv('PG_PASSWORD')\n",
        "\n",
        "engine = create_engine(f'postgresql+psycopg2://{rds_user}:{rds_password}@{rds_host}:{rds_port}/{rds_db}')\n",
        "\n",
        "\n",
        "def fetch_ohlcv(symbol, since):\n",
        "    try:\n",
        "        ticker = yf.Ticker(symbol)\n",
        "        ohlcv = ticker.history(period='1d', start=since)\n",
        "        return ohlcv.reset_index()\n",
        "    except Exception as e:\n",
        "        print(f\"Error fetching data for {symbol}: {str(e)}\")\n",
        "        return None\n",
        "\n",
        "def store_dataframe(df, table_name):\n",
        "    df.to_sql(table_name, con=engine, if_exists='append', index=False)\n",
        "\n",
        "# Fetch and store data for multiple symbols\n",
        "symbols = ['BTC-USD', 'ETH-USD', 'BNB-USD', 'XRP-USD', 'ADA-USD', 'SOL1-USD', 'DOGE-USD', 'DOT1-USD', 'SHIB-USD', 'MATIC-USD', 'LTC-USD', 'UNI-USD', 'BCH-USD', 'LINK-USD', 'XLM-USD', 'ATOM-USD', 'VET-USD', 'ICP-USD', 'FIL-USD', 'THETA-USD']\n",
        "since = '2023-06-20'\n",
        "\n",
        "for symbol in symbols:\n",
        "    ohlcv = fetch_ohlcv(symbol, since)\n",
        "    if ohlcv is not None and not ohlcv.empty:\n",
        "        df = ohlcv.rename(columns={'Date': 'timestamp', 'Open': 'open', 'High': 'high', 'Low': 'low', 'Close': 'close', 'Volume': 'volume'})\n",
        "        store_dataframe(df, f'ohlcv_{symbol.replace(\"-\", \"_\")}')\n",
        "        print(f'Stored data for {symbol}')\n",
        "    else:\n",
        "        print(f'Failed to fetch data for {symbol}')\n",
        "    sleep(1)  # Add a delay to avoid hitting rate limits\n",
        "\n",
        "\n",
        "def fetch_data_from_db(symbol):\n",
        "    table_name = f'ohlcv_{symbol.replace(\"-\", \"_\")}'\n",
        "    query = f\"SELECT * FROM {table_name}\"\n",
        "    df = pd.read_sql(query, con=engine)\n",
        "    return df\n",
        "\n",
        "\n",
        "def backtest_strategy_with_forecast(strategy_func, df, forecast_df):\n",
        "    # Integrate forecasted data into the original dataframe\n",
        "    df = pd.concat([df, forecast_df])\n",
        "\n",
        "    # Run the strategy on the combined dataframe\n",
        "    df = strategy_func(df)\n",
        "\n",
        "    df['strategy_return'] = df['close'].pct_change() * df['signal']\n",
        "\n",
        "\n"
      ]
    },
    {
      "cell_type": "markdown",
      "metadata": {
        "id": "0o1J-36Fmw1B"
      },
      "source": [
        "### Data Fetching function"
      ]
    },
    {
      "cell_type": "code",
      "execution_count": null,
      "metadata": {
        "id": "rW_lNzc_VUqj"
      },
      "outputs": [],
      "source": [
        "def fetch_data(symbol, start_date, end_date):\n",
        "    query = f\"\"\"\n",
        "        SELECT timestamp AS date, open AS open, high AS high, low AS low, close AS close, volume AS volume\n",
        "        FROM public.\"ohlcv_{symbol.replace('/', '_')}\"\n",
        "        WHERE timestamp >= '{start_date}' AND timestamp <= '{end_date}';\n",
        "    \"\"\"\n",
        "    try:\n",
        "        print(f\"Executing query:\\n{query}\\n\")  # Print the SQL query for debugging purposes\n",
        "\n",
        "        data = pd.read_sql(query, con=engine)\n",
        "        print(f\"Fetched data:\\n{data.head()}\\n\")  # Print the first few rows of fetched data for debugging\n",
        "\n",
        "        # Check if data is empty\n",
        "        if data.empty:\n",
        "            raise ValueError(\"No data returned from query.\")\n",
        "\n",
        "        # Convert 'date' column to datetime\n",
        "        data['date'] = pd.to_datetime(data['date'], format='%Y-%m-%d')\n",
        "\n",
        "        # Set 'date' column as index\n",
        "        data.set_index('date', inplace=True)\n",
        "\n",
        "        # Ensure column names are correctly capitalized for Backtrader\n",
        "        data.rename(columns={'open': 'Open', 'high': 'High', 'low': 'Low', 'close': 'Close', 'volume': 'Volume'}, inplace=True)\n",
        "\n",
        "        return data\n",
        "    except Exception as e:\n",
        "        print(f\"Error fetching data: {e}\")\n",
        "        raise\n"
      ]
    },
    {
      "cell_type": "markdown",
      "metadata": {
        "id": "ThNVa9H2mrVy"
      },
      "source": [
        "### Fetching from binance\n",
        "\n"
      ]
    },
    {
      "cell_type": "code",
      "execution_count": null,
      "metadata": {
        "id": "IXTH_5Swmg23"
      },
      "outputs": [],
      "source": [
        "\n",
        "# Initialize Binance API\n",
        "binance = ccxt.binance()\n",
        "\n",
        "def fetch_ohlcv(symbol, timeframe, since=None, limit=1000):\n",
        "    ohlcv = binance.fetch_ohlcv(symbol, timeframe, since=since, limit=limit)\n",
        "    return ohlcv\n",
        "\n",
        "def ohlcv_to_dataframe(ohlcv):\n",
        "    df = pd.DataFrame(ohlcv, columns=['timestamp', 'open', 'high', 'low', 'close', 'volume'])\n",
        "    df['timestamp'] = pd.to_datetime(df['timestamp'], unit='ms')\n",
        "    return df\n",
        "\n",
        "def fetch_and_store_data(symbol, timeframe, since, until):\n",
        "    since_timestamp = binance.parse8601(since)\n",
        "    until_timestamp = binance.parse8601(until)\n",
        "    all_ohlcv = []\n",
        "\n",
        "    while since_timestamp < until_timestamp:\n",
        "        ohlcv = fetch_ohlcv(symbol, timeframe, since=since_timestamp)\n",
        "        all_ohlcv.extend(ohlcv)\n",
        "        since_timestamp = ohlcv[-1][0]\n",
        "\n",
        "    return ohlcv_to_dataframe(all_ohlcv)"
      ]
    },
    {
      "cell_type": "code",
      "execution_count": null,
      "metadata": {
        "id": "QqkQLQ8jnE5A"
      },
      "outputs": [],
      "source": []
    },
    {
      "cell_type": "code",
      "execution_count": null,
      "metadata": {
        "id": "ovgBlWPDnQE6"
      },
      "outputs": [],
      "source": []
    },
    {
      "cell_type": "markdown",
      "metadata": {
        "id": "nacJqrYknQmi"
      },
      "source": [
        "### LSTM Model"
      ]
    },
    {
      "cell_type": "code",
      "execution_count": 86,
      "metadata": {
        "id": "otiANSZi7ApP"
      },
      "outputs": [],
      "source": [
        "import yfinance as yf\n",
        "import numpy as np\n",
        "import pandas as pd\n",
        "import tensorflow as tf\n",
        "import matplotlib.pyplot as plt\n",
        "from sklearn.preprocessing import MinMaxScaler\n",
        "from tensorflow.keras.models import Sequential\n",
        "from tensorflow.keras.layers import Dense , Dropout , LSTM\n",
        "\n"
      ]
    },
    {
      "cell_type": "code",
      "execution_count": 78,
      "metadata": {
        "id": "s-oSmpN3265C"
      },
      "outputs": [],
      "source": [
        "crypto_data_dict = {\n",
        "    'BTC': \"/content/drive/MyDrive/backtesting/datas/yfinance/BTC-USD.csv\",\n",
        "    'BNB': \"/content/drive/MyDrive/backtesting/datas/yfinance/BNB-USD.csv\",\n",
        "    'ETH': \"/content/drive/MyDrive/backtesting/datas/yfinance/ETH-USD.csv\"\n",
        "}\n",
        "btc = pd.read_csv('/content/drive/MyDrive/backtesting/datas/yfinance/BTC-USD.csv')"
      ]
    },
    {
      "cell_type": "code",
      "execution_count": null,
      "metadata": {
        "id": "vCpxPJob28HT"
      },
      "outputs": [],
      "source": []
    },
    {
      "cell_type": "code",
      "execution_count": 79,
      "metadata": {
        "id": "zW1A4lvOnFjf"
      },
      "outputs": [],
      "source": [
        "# Example of LSTM Strategy\n",
        "def lstm_strategy(df, look_back=60):\n",
        "    data = btc['close'].values\n",
        "    scaler = MinMaxScaler(feature_range=(0, 1))\n",
        "    data = scaler.fit_transform(data.reshape(-1, 1))\n",
        "\n",
        "    X, y = [], []\n",
        "    for i in range(look_back, len(data)):\n",
        "        X.append(data[i-look_back:i, 0])\n",
        "        y.append(data[i, 0])\n",
        "    X, y = np.array(X), np.array(y)\n",
        "\n",
        "    X = np.reshape(X, (X.shape[0], X.shape[1], 1))\n",
        "\n",
        "    model = Sequential()\n",
        "    model.add(LSTM(units=50, return_sequences=True, input_shape=(X.shape[1], 1)))\n",
        "    model.add(LSTM(units=50))\n",
        "    model.add(Dense(1))\n",
        "\n",
        "    model.compile(optimizer='adam', loss='mean_squared_error')\n",
        "    model.fit(X, y, epochs=1, batch_size=1, verbose=2)\n",
        "\n",
        "    predictions = model.predict(X)\n",
        "    predictions = scaler.inverse_transform(predictions)"
      ]
    },
    {
      "cell_type": "code",
      "execution_count": null,
      "metadata": {
        "id": "-pK-p5MT66pR"
      },
      "outputs": [],
      "source": []
    },
    {
      "cell_type": "code",
      "execution_count": null,
      "metadata": {
        "id": "Py8GLU5x7PVc"
      },
      "outputs": [],
      "source": []
    },
    {
      "cell_type": "code",
      "execution_count": 81,
      "metadata": {
        "id": "OLbWfO1H7Ptf"
      },
      "outputs": [],
      "source": [
        "btc[\"Close\"]=pd.to_numeric(btc.Close,errors='coerce')"
      ]
    },
    {
      "cell_type": "code",
      "execution_count": 82,
      "metadata": {
        "colab": {
          "base_uri": "https://localhost:8080/",
          "height": 430
        },
        "id": "DCFZr3mR668D",
        "outputId": "7156576c-acfd-49bc-b092-eb094f048631"
      },
      "outputs": [
        {
          "data": {
            "image/png": "[encoded data removed]",
            "text/plain": [
              "<Figure size 640x480 with 1 Axes>"
            ]
          },
          "metadata": {},
          "output_type": "display_data"
        }
      ],
      "source": [
        "# 'Close' feature\n",
        "plt.plot(btc.index, btc['Close'], color = 'green', label = 'Close')\n",
        "plt.show()\n"
      ]
    },
    {
      "cell_type": "code",
      "execution_count": null,
      "metadata": {
        "id": "rlRwwuFP7gER"
      },
      "outputs": [],
      "source": []
    },
    {
      "cell_type": "markdown",
      "metadata": {
        "id": "hwMwBQlP7lCe"
      },
      "source": [
        "#### preprocessing"
      ]
    },
    {
      "cell_type": "code",
      "execution_count": 84,
      "metadata": {
        "colab": {
          "base_uri": "https://localhost:8080/"
        },
        "id": "kFttlNaCnFzb",
        "outputId": "71d7467f-52ed-4487-a89a-511f074a478d"
      },
      "outputs": [
        {
          "data": {
            "text/plain": [
              "(367, 1)"
            ]
          },
          "execution_count": 84,
          "metadata": {},
          "output_type": "execute_result"
        }
      ],
      "source": [
        "# saving 'Close' feature in a variable name dataV1, since we only need that\n",
        "dataV1 = btc.iloc[:,3:4]\n",
        "dataV1 = dataV1.values\n",
        "dataV1.shape\n"
      ]
    },
    {
      "cell_type": "code",
      "execution_count": 87,
      "metadata": {
        "colab": {
          "base_uri": "https://localhost:8080/"
        },
        "id": "zjABgxVl7uAJ",
        "outputId": "56edc720-5918-4433-9910-0bf24c1d826b"
      },
      "outputs": [
        {
          "data": {
            "text/plain": [
              "(367, 1)"
            ]
          },
          "execution_count": 87,
          "metadata": {},
          "output_type": "execute_result"
        }
      ],
      "source": [
        "# normalizing the data\n",
        "Scaler = MinMaxScaler(feature_range=(0,1))\n",
        "dataV1 = Scaler.fit_transform(dataV1)\n",
        "dataV1.shape\n"
      ]
    },
    {
      "cell_type": "code",
      "execution_count": 88,
      "metadata": {
        "id": "F1Y1YQc97uPC"
      },
      "outputs": [],
      "source": [
        "# declaring feature length\n",
        "feature_length = 100\n",
        "# Function to create x and y data\n",
        "def Create_Features_and_Targets(data, feature_length):\n",
        "  X = list()\n",
        "  Y = list()\n",
        "  for i in range(len(data) - feature_length -1):\n",
        "    X.append(data[i:(i + feature_length), 0])\n",
        "    Y.append(data[i + feature_length, 0])\n",
        "  X = np.array(X)\n",
        "  Y = np.array(Y)\n",
        "  return X,Y\n"
      ]
    },
    {
      "cell_type": "code",
      "execution_count": null,
      "metadata": {
        "id": "DP3Fnk5h79sv"
      },
      "outputs": [],
      "source": []
    },
    {
      "cell_type": "code",
      "execution_count": 89,
      "metadata": {
        "id": "AOBJlNxm79-V"
      },
      "outputs": [],
      "source": [
        "X_train, y_train = Create_Features_and_Targets(dataV1, feature_length)\n"
      ]
    },
    {
      "cell_type": "code",
      "execution_count": 90,
      "metadata": {
        "id": "XqYkjtvD8Bxw"
      },
      "outputs": [],
      "source": [
        "X_train, y_train = Create_Features_and_Targets(dataV1, feature_length)\n",
        "\n",
        "# Making data 3 dimensional\n",
        "X_train = np.reshape(X_train,(X_train.shape[0],X_train.shape[1],1))\n"
      ]
    },
    {
      "cell_type": "code",
      "execution_count": 91,
      "metadata": {
        "colab": {
          "base_uri": "https://localhost:8080/"
        },
        "id": "znvYX-X88CGN",
        "outputId": "4ba31268-660c-47c2-f017-be852f176eb7"
      },
      "outputs": [
        {
          "data": {
            "text/plain": [
              "((266, 100, 1), (266,))"
            ]
          },
          "execution_count": 91,
          "metadata": {},
          "output_type": "execute_result"
        }
      ],
      "source": [
        "X_train.shape, y_train.shape"
      ]
    },
    {
      "cell_type": "markdown",
      "metadata": {
        "id": "6RUHXe9D8JUX"
      },
      "source": [
        "#### LSTM Model"
      ]
    },
    {
      "cell_type": "code",
      "execution_count": 92,
      "metadata": {
        "id": "0Vr27lm-8CTy"
      },
      "outputs": [],
      "source": [
        "# model\n",
        "model = Sequential([\n",
        "    LSTM(100, return_sequences = True, input_shape =(X_train.shape[1],1)),\n",
        "    Dropout(0.3),\n",
        "\n",
        "    LSTM(100, return_sequences = False),\n",
        "    Dropout(0.3),\n",
        "    Dense(1),\n",
        "])\n",
        "model.compile(optimizer='adam',loss=\"mean_squared_error\")"
      ]
    },
    {
      "cell_type": "code",
      "execution_count": 93,
      "metadata": {
        "colab": {
          "base_uri": "https://localhost:8080/"
        },
        "id": "cm2UmGUD8Tsy",
        "outputId": "adb6e1e8-f46f-49ae-b3d1-89e53601aec8"
      },
      "outputs": [
        {
          "name": "stdout",
          "output_type": "stream",
          "text": [
            "Model: \"sequential\"\n",
            "_________________________________________________________________\n",
            " Layer (type)                Output Shape              Param #   \n",
            "=================================================================\n",
            " lstm (LSTM)                 (None, 100, 100)          40800     \n",
            "                                                                 \n",
            " dropout (Dropout)           (None, 100, 100)          0         \n",
            "                                                                 \n",
            " lstm_1 (LSTM)               (None, 100)               80400     \n",
            "                                                                 \n",
            " dropout_1 (Dropout)         (None, 100)               0         \n",
            "                                                                 \n",
            " dense (Dense)               (None, 1)                 101       \n",
            "                                                                 \n",
            "=================================================================\n",
            "Total params: 121301 (473.83 KB)\n",
            "Trainable params: 121301 (473.83 KB)\n",
            "Non-trainable params: 0 (0.00 Byte)\n",
            "_________________________________________________________________\n"
          ]
        }
      ],
      "source": [
        "model.summary()"
      ]
    },
    {
      "cell_type": "code",
      "execution_count": 94,
      "metadata": {
        "colab": {
          "base_uri": "https://localhost:8080/"
        },
        "id": "s7vKrZh-8T8T",
        "outputId": "c7ef7f00-bb54-4fd5-868d-9c1fe071b723"
      },
      "outputs": [
        {
          "name": "stdout",
          "output_type": "stream",
          "text": [
            "Epoch 1/50\n",
            "23/23 [==============================] - 12s 110ms/step - loss: 0.0672\n",
            "Epoch 2/50\n",
            "23/23 [==============================] - 2s 91ms/step - loss: 0.0117\n",
            "Epoch 3/50\n",
            "23/23 [==============================] - 3s 110ms/step - loss: 0.0082\n",
            "Epoch 4/50\n",
            "23/23 [==============================] - 3s 147ms/step - loss: 0.0065\n",
            "Epoch 5/50\n",
            "23/23 [==============================] - 2s 90ms/step - loss: 0.0071\n",
            "Epoch 6/50\n",
            "23/23 [==============================] - 3s 111ms/step - loss: 0.0091\n",
            "Epoch 7/50\n",
            "23/23 [==============================] - 3s 146ms/step - loss: 0.0067\n",
            "Epoch 8/50\n",
            "23/23 [==============================] - 4s 167ms/step - loss: 0.0061\n",
            "Epoch 9/50\n",
            "23/23 [==============================] - 4s 189ms/step - loss: 0.0064\n",
            "Epoch 10/50\n",
            "23/23 [==============================] - 3s 142ms/step - loss: 0.0063\n",
            "Epoch 11/50\n",
            "23/23 [==============================] - 4s 173ms/step - loss: 0.0052\n",
            "Epoch 12/50\n",
            "23/23 [==============================] - 4s 180ms/step - loss: 0.0060\n",
            "Epoch 13/50\n",
            "23/23 [==============================] - 5s 193ms/step - loss: 0.0080\n",
            "Epoch 14/50\n",
            "23/23 [==============================] - 3s 144ms/step - loss: 0.0068\n",
            "Epoch 15/50\n",
            "23/23 [==============================] - 5s 202ms/step - loss: 0.0069\n",
            "Epoch 16/50\n",
            "23/23 [==============================] - 7s 283ms/step - loss: 0.0053\n",
            "Epoch 17/50\n",
            "23/23 [==============================] - 3s 147ms/step - loss: 0.0067\n",
            "Epoch 18/50\n",
            "23/23 [==============================] - 3s 147ms/step - loss: 0.0074\n",
            "Epoch 19/50\n",
            "23/23 [==============================] - 3s 145ms/step - loss: 0.0082\n",
            "Epoch 20/50\n",
            "23/23 [==============================] - 5s 202ms/step - loss: 0.0052\n",
            "Epoch 21/50\n",
            "23/23 [==============================] - 4s 153ms/step - loss: 0.0049\n",
            "Epoch 22/50\n",
            "23/23 [==============================] - 4s 161ms/step - loss: 0.0057\n",
            "Epoch 23/50\n",
            "23/23 [==============================] - 5s 203ms/step - loss: 0.0060\n",
            "Epoch 24/50\n",
            "23/23 [==============================] - 4s 196ms/step - loss: 0.0066\n",
            "Epoch 25/50\n",
            "23/23 [==============================] - 3s 143ms/step - loss: 0.0045\n",
            "Epoch 26/50\n",
            "23/23 [==============================] - 4s 154ms/step - loss: 0.0054\n",
            "Epoch 27/50\n",
            "23/23 [==============================] - 2s 89ms/step - loss: 0.0048\n",
            "Epoch 28/50\n",
            "23/23 [==============================] - 3s 143ms/step - loss: 0.0047\n",
            "Epoch 29/50\n",
            "23/23 [==============================] - 4s 176ms/step - loss: 0.0051\n",
            "Epoch 30/50\n",
            "23/23 [==============================] - 3s 145ms/step - loss: 0.0054\n",
            "Epoch 31/50\n",
            "23/23 [==============================] - 3s 152ms/step - loss: 0.0051\n",
            "Epoch 32/50\n",
            "23/23 [==============================] - 4s 170ms/step - loss: 0.0045\n",
            "Epoch 33/50\n",
            "23/23 [==============================] - 4s 180ms/step - loss: 0.0058\n",
            "Epoch 34/50\n",
            "23/23 [==============================] - 3s 149ms/step - loss: 0.0066\n",
            "Epoch 35/50\n",
            "23/23 [==============================] - 3s 152ms/step - loss: 0.0048\n",
            "Epoch 36/50\n",
            "23/23 [==============================] - 4s 170ms/step - loss: 0.0052\n",
            "Epoch 37/50\n",
            "23/23 [==============================] - 4s 194ms/step - loss: 0.0045\n",
            "Epoch 38/50\n",
            "23/23 [==============================] - 3s 150ms/step - loss: 0.0047\n",
            "Epoch 39/50\n",
            "23/23 [==============================] - 4s 174ms/step - loss: 0.0050\n",
            "Epoch 40/50\n",
            "23/23 [==============================] - 2s 91ms/step - loss: 0.0053\n",
            "Epoch 41/50\n",
            "23/23 [==============================] - 3s 138ms/step - loss: 0.0040\n",
            "Epoch 42/50\n",
            "23/23 [==============================] - 3s 116ms/step - loss: 0.0046\n",
            "Epoch 43/50\n",
            "23/23 [==============================] - 2s 91ms/step - loss: 0.0039\n",
            "Epoch 44/50\n",
            "23/23 [==============================] - 2s 91ms/step - loss: 0.0038\n",
            "Epoch 45/50\n",
            "23/23 [==============================] - 2s 91ms/step - loss: 0.0045\n",
            "Epoch 46/50\n",
            "23/23 [==============================] - 2s 91ms/step - loss: 0.0043\n",
            "Epoch 47/50\n",
            "23/23 [==============================] - 3s 134ms/step - loss: 0.0045\n",
            "Epoch 48/50\n",
            "23/23 [==============================] - 3s 129ms/step - loss: 0.0044\n",
            "Epoch 49/50\n",
            "23/23 [==============================] - 2s 92ms/step - loss: 0.0042\n",
            "Epoch 50/50\n",
            "23/23 [==============================] - 2s 93ms/step - loss: 0.0038\n"
          ]
        }
      ],
      "source": [
        "\n",
        "#LSTM Training the model\n",
        "history = model.fit(\n",
        "    X_train,\n",
        "    y_train,\n",
        "    epochs = 50,\n",
        "    batch_size = 12,\n",
        "    verbose=1,\n",
        ")\n",
        "\n"
      ]
    },
    {
      "cell_type": "code",
      "execution_count": 95,
      "metadata": {
        "colab": {
          "base_uri": "https://localhost:8080/",
          "height": 472
        },
        "id": "KeSWo9Ks8UYI",
        "outputId": "ed06c10f-770c-4e4f-c87c-6b89f441cc36"
      },
      "outputs": [
        {
          "data": {
            "image/png": "[encoded data removed]",
            "text/plain": [
              "<Figure size 640x480 with 1 Axes>"
            ]
          },
          "metadata": {},
          "output_type": "display_data"
        }
      ],
      "source": [
        "# training model\n",
        "plt.plot(history.history['loss'])\n",
        "plt.title('Training model loss')\n",
        "plt.ylabel('loss')\n",
        "plt.xlabel('epoch')\n",
        "plt.show()"
      ]
    },
    {
      "cell_type": "code",
      "execution_count": null,
      "metadata": {
        "id": "X9J27gKq8nCq"
      },
      "outputs": [],
      "source": []
    },
    {
      "cell_type": "code",
      "execution_count": 97,
      "metadata": {
        "colab": {
          "base_uri": "https://localhost:8080/"
        },
        "id": "N8BTQKmp8nyI",
        "outputId": "3008f03c-f94e-4ca7-acdf-f89695f1f203"
      },
      "outputs": [
        {
          "data": {
            "text/plain": [
              "((266, 1), (367, 1))"
            ]
          },
          "execution_count": 97,
          "metadata": {},
          "output_type": "execute_result"
        }
      ],
      "source": [
        "testData = btc.iloc[:,3:4]\n",
        "y_real = testData.iloc[feature_length+1:,0:].values\n",
        "x_test = testData.iloc[:,0:].values\n",
        "y_real.shape, x_test.shape"
      ]
    },
    {
      "cell_type": "code",
      "execution_count": 98,
      "metadata": {
        "colab": {
          "base_uri": "https://localhost:8080/"
        },
        "id": "gzfEkyEP8pRY",
        "outputId": "181d29c4-528d-497b-eb8b-8cec851cc7cf"
      },
      "outputs": [
        {
          "data": {
            "text/plain": [
              "(367, 1)"
            ]
          },
          "execution_count": 98,
          "metadata": {},
          "output_type": "execute_result"
        }
      ],
      "source": [
        "# normalize\n",
        "x_test = Scaler.transform(x_test)\n",
        "x_test.shape\n"
      ]
    },
    {
      "cell_type": "code",
      "execution_count": 99,
      "metadata": {
        "colab": {
          "base_uri": "https://localhost:8080/"
        },
        "id": "OJTIOUs08wxR",
        "outputId": "32b1ff33-2652-4db4-f137-0007a57ac11b"
      },
      "outputs": [
        {
          "data": {
            "text/plain": [
              "(266, 100, 1)"
            ]
          },
          "execution_count": 99,
          "metadata": {},
          "output_type": "execute_result"
        }
      ],
      "source": [
        "\n",
        "x_test, y_test = Create_Features_and_Targets(x_test, feature_length)\n",
        "x_test = np.reshape(x_test,(x_test.shape[0],x_test.shape[1],1))\n",
        "x_test.shape"
      ]
    },
    {
      "cell_type": "code",
      "execution_count": 100,
      "metadata": {
        "colab": {
          "base_uri": "https://localhost:8080/"
        },
        "id": "Dvcnh3VZ8xY5",
        "outputId": "58eaf0a5-e14c-4cd7-f861-0e83c3b4fcdb"
      },
      "outputs": [
        {
          "name": "stdout",
          "output_type": "stream",
          "text": [
            "9/9 [==============================] - 1s 41ms/step\n"
          ]
        }
      ],
      "source": [
        "# making predictions\n",
        "y_pred = model.predict(x_test)"
      ]
    },
    {
      "cell_type": "code",
      "execution_count": 101,
      "metadata": {
        "id": "vwhS5Voi8xqm"
      },
      "outputs": [],
      "source": [
        "predicted_price = Scaler.inverse_transform(y_pred)"
      ]
    },
    {
      "cell_type": "code",
      "execution_count": 101,
      "metadata": {
        "id": "AZPNbAO98_d9"
      },
      "outputs": [],
      "source": []
    },
    {
      "cell_type": "code",
      "execution_count": 102,
      "metadata": {
        "colab": {
          "base_uri": "https://localhost:8080/",
          "height": 449
        },
        "id": "jvsajIUe9ANj",
        "outputId": "f0a507e7-c984-439c-8b95-70c82e119740"
      },
      "outputs": [
        {
          "data": {
            "image/png": "[encoded data removed]",
            "text/plain": [
              "<Figure size 640x480 with 1 Axes>"
            ]
          },
          "metadata": {},
          "output_type": "display_data"
        }
      ],
      "source": [
        "#Actual Stock Price and the Predicted Stock Price\n",
        "plt.plot(y_real, color = 'red', label = 'Actual')\n",
        "plt.plot(predicted_price, color = 'green', label = 'Predicted')\n",
        "\n",
        "plt.xlabel('Time')\n",
        "plt.ylabel('BTC Trade')\n",
        "plt.legend()\n",
        "plt.show()"
      ]
    },
    {
      "cell_type": "code",
      "execution_count": null,
      "metadata": {
        "id": "GuuZ3PqY9Bnq"
      },
      "outputs": [],
      "source": []
    }
  ],
  "metadata": {
    "colab": {
      "collapsed_sections": [
        "TNVFj6FxPfAH",
        "0o1J-36Fmw1B"
      ],
      "provenance": []
    },
    "kernelspec": {
      "display_name": "Python 3",
      "name": "python3"
    },
    "language_info": {
      "name": "python"
    },
    "widgets": {
      "application/vnd.jupyter.widget-state+json": {
        "037d472ccd824b63ae3b90a1d8abd585": {
          "model_module": "@jupyter-widgets/controls",
          "model_module_version": "1.5.0",
          "model_name": "HTMLModel",
          "state": {
            "_dom_classes": [],
            "_model_module": "@jupyter-widgets/controls",
            "_model_module_version": "1.5.0",
            "_model_name": "HTMLModel",
            "_view_count": null,
            "_view_module": "@jupyter-widgets/controls",
            "_view_module_version": "1.5.0",
            "_view_name": "HTMLView",
            "description": "",
            "description_tooltip": null,
            "layout": "IPY_MODEL_6b7abcce62144b028b24f47afef1eed2",
            "placeholder": "​",
            "style": "IPY_MODEL_d9036a9f979f4682a9814b98ec2370c7",
            "value": " 142/142 [00:00&lt;00:00, 5.61kB/s]"
          }
        },
        "0b4ce759e67f4a54a219fbf401c5cbb1": {
          "model_module": "@jupyter-widgets/controls",
          "model_module_version": "1.5.0",
          "model_name": "DescriptionStyleModel",
          "state": {
            "_model_module": "@jupyter-widgets/controls",
            "_model_module_version": "1.5.0",
            "_model_name": "DescriptionStyleModel",
            "_view_count": null,
            "_view_module": "@jupyter-widgets/base",
            "_view_module_version": "1.2.0",
            "_view_name": "StyleView",
            "description_width": ""
          }
        },
        "117ef9df0f3d4907b88502009bd136cd": {
          "model_module": "@jupyter-widgets/base",
          "model_module_version": "1.2.0",
          "model_name": "LayoutModel",
          "state": {
            "_model_module": "@jupyter-widgets/base",
            "_model_module_version": "1.2.0",
            "_model_name": "LayoutModel",
            "_view_count": null,
            "_view_module": "@jupyter-widgets/base",
            "_view_module_version": "1.2.0",
            "_view_name": "LayoutView",
            "align_content": null,
            "align_items": null,
            "align_self": null,
            "border": null,
            "bottom": null,
            "display": null,
            "flex": null,
            "flex_flow": null,
            "grid_area": null,
            "grid_auto_columns": null,
            "grid_auto_flow": null,
            "grid_auto_rows": null,
            "grid_column": null,
            "grid_gap": null,
            "grid_row": null,
            "grid_template_areas": null,
            "grid_template_columns": null,
            "grid_template_rows": null,
            "height": null,
            "justify_content": null,
            "justify_items": null,
            "left": null,
            "margin": null,
            "max_height": null,
            "max_width": null,
            "min_height": null,
            "min_width": null,
            "object_fit": null,
            "object_position": null,
            "order": null,
            "overflow": null,
            "overflow_x": null,
            "overflow_y": null,
            "padding": null,
            "right": null,
            "top": null,
            "visibility": null,
            "width": null
          }
        },
        "1b6dcda84157435badbd2d27b81fbd44": {
          "model_module": "@jupyter-widgets/controls",
          "model_module_version": "1.5.0",
          "model_name": "DescriptionStyleModel",
          "state": {
            "_model_module": "@jupyter-widgets/controls",
            "_model_module_version": "1.5.0",
            "_model_name": "DescriptionStyleModel",
            "_view_count": null,
            "_view_module": "@jupyter-widgets/base",
            "_view_module_version": "1.2.0",
            "_view_name": "StyleView",
            "description_width": ""
          }
        },
        "25782fa97aa9493c8ab059b982c37444": {
          "model_module": "@jupyter-widgets/controls",
          "model_module_version": "1.5.0",
          "model_name": "ProgressStyleModel",
          "state": {
            "_model_module": "@jupyter-widgets/controls",
            "_model_module_version": "1.5.0",
            "_model_name": "ProgressStyleModel",
            "_view_count": null,
            "_view_module": "@jupyter-widgets/base",
            "_view_module_version": "1.2.0",
            "_view_name": "StyleView",
            "bar_color": null,
            "description_width": ""
          }
        },
        "4c6874881fee455fb520f9941863a472": {
          "model_module": "@jupyter-widgets/controls",
          "model_module_version": "1.5.0",
          "model_name": "HTMLModel",
          "state": {
            "_dom_classes": [],
            "_model_module": "@jupyter-widgets/controls",
            "_model_module_version": "1.5.0",
            "_model_name": "HTMLModel",
            "_view_count": null,
            "_view_module": "@jupyter-widgets/controls",
            "_view_module_version": "1.5.0",
            "_view_name": "HTMLView",
            "description": "",
            "description_tooltip": null,
            "layout": "IPY_MODEL_53167bd685d74c48b5ce8c19902edfc6",
            "placeholder": "​",
            "style": "IPY_MODEL_0b4ce759e67f4a54a219fbf401c5cbb1",
            "value": "config.json: 100%"
          }
        },
        "53167bd685d74c48b5ce8c19902edfc6": {
          "model_module": "@jupyter-widgets/base",
          "model_module_version": "1.2.0",
          "model_name": "LayoutModel",
          "state": {
            "_model_module": "@jupyter-widgets/base",
            "_model_module_version": "1.2.0",
            "_model_name": "LayoutModel",
            "_view_count": null,
            "_view_module": "@jupyter-widgets/base",
            "_view_module_version": "1.2.0",
            "_view_name": "LayoutView",
            "align_content": null,
            "align_items": null,
            "align_self": null,
            "border": null,
            "bottom": null,
            "display": null,
            "flex": null,
            "flex_flow": null,
            "grid_area": null,
            "grid_auto_columns": null,
            "grid_auto_flow": null,
            "grid_auto_rows": null,
            "grid_column": null,
            "grid_gap": null,
            "grid_row": null,
            "grid_template_areas": null,
            "grid_template_columns": null,
            "grid_template_rows": null,
            "height": null,
            "justify_content": null,
            "justify_items": null,
            "left": null,
            "margin": null,
            "max_height": null,
            "max_width": null,
            "min_height": null,
            "min_width": null,
            "object_fit": null,
            "object_position": null,
            "order": null,
            "overflow": null,
            "overflow_x": null,
            "overflow_y": null,
            "padding": null,
            "right": null,
            "top": null,
            "visibility": null,
            "width": null
          }
        },
        "5f95a5cefc854e03bb744d4dc9a95f85": {
          "model_module": "@jupyter-widgets/controls",
          "model_module_version": "1.5.0",
          "model_name": "HTMLModel",
          "state": {
            "_dom_classes": [],
            "_model_module": "@jupyter-widgets/controls",
            "_model_module_version": "1.5.0",
            "_model_name": "HTMLModel",
            "_view_count": null,
            "_view_module": "@jupyter-widgets/controls",
            "_view_module_version": "1.5.0",
            "_view_name": "HTMLView",
            "description": "",
            "description_tooltip": null,
            "layout": "IPY_MODEL_85e40147660d4fbab4ba90e2cdc3062f",
            "placeholder": "​",
            "style": "IPY_MODEL_d392c40b703d4cd49c669859662cf542",
            "value": " 1.11k/1.11k [00:00&lt;00:00, 68.0kB/s]"
          }
        },
        "6001423116234fe0b688fbdce1acd217": {
          "model_module": "@jupyter-widgets/base",
          "model_module_version": "1.2.0",
          "model_name": "LayoutModel",
          "state": {
            "_model_module": "@jupyter-widgets/base",
            "_model_module_version": "1.2.0",
            "_model_name": "LayoutModel",
            "_view_count": null,
            "_view_module": "@jupyter-widgets/base",
            "_view_module_version": "1.2.0",
            "_view_name": "LayoutView",
            "align_content": null,
            "align_items": null,
            "align_self": null,
            "border": null,
            "bottom": null,
            "display": null,
            "flex": null,
            "flex_flow": null,
            "grid_area": null,
            "grid_auto_columns": null,
            "grid_auto_flow": null,
            "grid_auto_rows": null,
            "grid_column": null,
            "grid_gap": null,
            "grid_row": null,
            "grid_template_areas": null,
            "grid_template_columns": null,
            "grid_template_rows": null,
            "height": null,
            "justify_content": null,
            "justify_items": null,
            "left": null,
            "margin": null,
            "max_height": null,
            "max_width": null,
            "min_height": null,
            "min_width": null,
            "object_fit": null,
            "object_position": null,
            "order": null,
            "overflow": null,
            "overflow_x": null,
            "overflow_y": null,
            "padding": null,
            "right": null,
            "top": null,
            "visibility": null,
            "width": null
          }
        },
        "64340bf981b54b2aadf68dc95065ce22": {
          "model_module": "@jupyter-widgets/base",
          "model_module_version": "1.2.0",
          "model_name": "LayoutModel",
          "state": {
            "_model_module": "@jupyter-widgets/base",
            "_model_module_version": "1.2.0",
            "_model_name": "LayoutModel",
            "_view_count": null,
            "_view_module": "@jupyter-widgets/base",
            "_view_module_version": "1.2.0",
            "_view_name": "LayoutView",
            "align_content": null,
            "align_items": null,
            "align_self": null,
            "border": null,
            "bottom": null,
            "display": null,
            "flex": null,
            "flex_flow": null,
            "grid_area": null,
            "grid_auto_columns": null,
            "grid_auto_flow": null,
            "grid_auto_rows": null,
            "grid_column": null,
            "grid_gap": null,
            "grid_row": null,
            "grid_template_areas": null,
            "grid_template_columns": null,
            "grid_template_rows": null,
            "height": null,
            "justify_content": null,
            "justify_items": null,
            "left": null,
            "margin": null,
            "max_height": null,
            "max_width": null,
            "min_height": null,
            "min_width": null,
            "object_fit": null,
            "object_position": null,
            "order": null,
            "overflow": null,
            "overflow_x": null,
            "overflow_y": null,
            "padding": null,
            "right": null,
            "top": null,
            "visibility": null,
            "width": null
          }
        },
        "6b7abcce62144b028b24f47afef1eed2": {
          "model_module": "@jupyter-widgets/base",
          "model_module_version": "1.2.0",
          "model_name": "LayoutModel",
          "state": {
            "_model_module": "@jupyter-widgets/base",
            "_model_module_version": "1.2.0",
            "_model_name": "LayoutModel",
            "_view_count": null,
            "_view_module": "@jupyter-widgets/base",
            "_view_module_version": "1.2.0",
            "_view_name": "LayoutView",
            "align_content": null,
            "align_items": null,
            "align_self": null,
            "border": null,
            "bottom": null,
            "display": null,
            "flex": null,
            "flex_flow": null,
            "grid_area": null,
            "grid_auto_columns": null,
            "grid_auto_flow": null,
            "grid_auto_rows": null,
            "grid_column": null,
            "grid_gap": null,
            "grid_row": null,
            "grid_template_areas": null,
            "grid_template_columns": null,
            "grid_template_rows": null,
            "height": null,
            "justify_content": null,
            "justify_items": null,
            "left": null,
            "margin": null,
            "max_height": null,
            "max_width": null,
            "min_height": null,
            "min_width": null,
            "object_fit": null,
            "object_position": null,
            "order": null,
            "overflow": null,
            "overflow_x": null,
            "overflow_y": null,
            "padding": null,
            "right": null,
            "top": null,
            "visibility": null,
            "width": null
          }
        },
        "85e40147660d4fbab4ba90e2cdc3062f": {
          "model_module": "@jupyter-widgets/base",
          "model_module_version": "1.2.0",
          "model_name": "LayoutModel",
          "state": {
            "_model_module": "@jupyter-widgets/base",
            "_model_module_version": "1.2.0",
            "_model_name": "LayoutModel",
            "_view_count": null,
            "_view_module": "@jupyter-widgets/base",
            "_view_module_version": "1.2.0",
            "_view_name": "LayoutView",
            "align_content": null,
            "align_items": null,
            "align_self": null,
            "border": null,
            "bottom": null,
            "display": null,
            "flex": null,
            "flex_flow": null,
            "grid_area": null,
            "grid_auto_columns": null,
            "grid_auto_flow": null,
            "grid_auto_rows": null,
            "grid_column": null,
            "grid_gap": null,
            "grid_row": null,
            "grid_template_areas": null,
            "grid_template_columns": null,
            "grid_template_rows": null,
            "height": null,
            "justify_content": null,
            "justify_items": null,
            "left": null,
            "margin": null,
            "max_height": null,
            "max_width": null,
            "min_height": null,
            "min_width": null,
            "object_fit": null,
            "object_position": null,
            "order": null,
            "overflow": null,
            "overflow_x": null,
            "overflow_y": null,
            "padding": null,
            "right": null,
            "top": null,
            "visibility": null,
            "width": null
          }
        },
        "8b9d8de7ca924e2a96443f45c3a77980": {
          "model_module": "@jupyter-widgets/controls",
          "model_module_version": "1.5.0",
          "model_name": "FloatProgressModel",
          "state": {
            "_dom_classes": [],
            "_model_module": "@jupyter-widgets/controls",
            "_model_module_version": "1.5.0",
            "_model_name": "FloatProgressModel",
            "_view_count": null,
            "_view_module": "@jupyter-widgets/controls",
            "_view_module_version": "1.5.0",
            "_view_name": "ProgressView",
            "bar_style": "success",
            "description": "",
            "description_tooltip": null,
            "layout": "IPY_MODEL_af7b054a71634bb08e2608e56ccdb87b",
            "max": 1113,
            "min": 0,
            "orientation": "horizontal",
            "style": "IPY_MODEL_25782fa97aa9493c8ab059b982c37444",
            "value": 1113
          }
        },
        "8d15679b9a074f4793395d176910abde": {
          "model_module": "@jupyter-widgets/base",
          "model_module_version": "1.2.0",
          "model_name": "LayoutModel",
          "state": {
            "_model_module": "@jupyter-widgets/base",
            "_model_module_version": "1.2.0",
            "_model_name": "LayoutModel",
            "_view_count": null,
            "_view_module": "@jupyter-widgets/base",
            "_view_module_version": "1.2.0",
            "_view_name": "LayoutView",
            "align_content": null,
            "align_items": null,
            "align_self": null,
            "border": null,
            "bottom": null,
            "display": null,
            "flex": null,
            "flex_flow": null,
            "grid_area": null,
            "grid_auto_columns": null,
            "grid_auto_flow": null,
            "grid_auto_rows": null,
            "grid_column": null,
            "grid_gap": null,
            "grid_row": null,
            "grid_template_areas": null,
            "grid_template_columns": null,
            "grid_template_rows": null,
            "height": null,
            "justify_content": null,
            "justify_items": null,
            "left": null,
            "margin": null,
            "max_height": null,
            "max_width": null,
            "min_height": null,
            "min_width": null,
            "object_fit": null,
            "object_position": null,
            "order": null,
            "overflow": null,
            "overflow_x": null,
            "overflow_y": null,
            "padding": null,
            "right": null,
            "top": null,
            "visibility": null,
            "width": null
          }
        },
        "9a1e9a69f3b749c9afaf3f96cf0ba5c5": {
          "model_module": "@jupyter-widgets/controls",
          "model_module_version": "1.5.0",
          "model_name": "HTMLModel",
          "state": {
            "_dom_classes": [],
            "_model_module": "@jupyter-widgets/controls",
            "_model_module_version": "1.5.0",
            "_model_name": "HTMLModel",
            "_view_count": null,
            "_view_module": "@jupyter-widgets/controls",
            "_view_module_version": "1.5.0",
            "_view_name": "HTMLView",
            "description": "",
            "description_tooltip": null,
            "layout": "IPY_MODEL_64340bf981b54b2aadf68dc95065ce22",
            "placeholder": "​",
            "style": "IPY_MODEL_bfee1b6938d4431a97491039189ba4be",
            "value": "model.safetensors: 100%"
          }
        },
        "a6335bc3a2a948e8923bcf0cbb246544": {
          "model_module": "@jupyter-widgets/controls",
          "model_module_version": "1.5.0",
          "model_name": "HTMLModel",
          "state": {
            "_dom_classes": [],
            "_model_module": "@jupyter-widgets/controls",
            "_model_module_version": "1.5.0",
            "_model_name": "HTMLModel",
            "_view_count": null,
            "_view_module": "@jupyter-widgets/controls",
            "_view_module_version": "1.5.0",
            "_view_name": "HTMLView",
            "description": "",
            "description_tooltip": null,
            "layout": "IPY_MODEL_6001423116234fe0b688fbdce1acd217",
            "placeholder": "​",
            "style": "IPY_MODEL_bea87538ba274102bd74fe9751ac8f6c",
            "value": " 185M/185M [00:01&lt;00:00, 153MB/s]"
          }
        },
        "a84e44833e5b424fb040fdbce5d17cd3": {
          "model_module": "@jupyter-widgets/controls",
          "model_module_version": "1.5.0",
          "model_name": "HBoxModel",
          "state": {
            "_dom_classes": [],
            "_model_module": "@jupyter-widgets/controls",
            "_model_module_version": "1.5.0",
            "_model_name": "HBoxModel",
            "_view_count": null,
            "_view_module": "@jupyter-widgets/controls",
            "_view_module_version": "1.5.0",
            "_view_name": "HBoxView",
            "box_style": "",
            "children": [
              "IPY_MODEL_c71ccf9d8a7743508e2e08fe21727343",
              "IPY_MODEL_daac1393d05a48de81143a6d62eea469",
              "IPY_MODEL_037d472ccd824b63ae3b90a1d8abd585"
            ],
            "layout": "IPY_MODEL_8d15679b9a074f4793395d176910abde"
          }
        },
        "ab60294dd9164adb9182d223ea683bbb": {
          "model_module": "@jupyter-widgets/controls",
          "model_module_version": "1.5.0",
          "model_name": "HBoxModel",
          "state": {
            "_dom_classes": [],
            "_model_module": "@jupyter-widgets/controls",
            "_model_module_version": "1.5.0",
            "_model_name": "HBoxModel",
            "_view_count": null,
            "_view_module": "@jupyter-widgets/controls",
            "_view_module_version": "1.5.0",
            "_view_name": "HBoxView",
            "box_style": "",
            "children": [
              "IPY_MODEL_9a1e9a69f3b749c9afaf3f96cf0ba5c5",
              "IPY_MODEL_b6fa4f1d42aa46d58e77417896cac7f5",
              "IPY_MODEL_a6335bc3a2a948e8923bcf0cbb246544"
            ],
            "layout": "IPY_MODEL_c3229438e974408f84401a6da66c6f99"
          }
        },
        "af7b054a71634bb08e2608e56ccdb87b": {
          "model_module": "@jupyter-widgets/base",
          "model_module_version": "1.2.0",
          "model_name": "LayoutModel",
          "state": {
            "_model_module": "@jupyter-widgets/base",
            "_model_module_version": "1.2.0",
            "_model_name": "LayoutModel",
            "_view_count": null,
            "_view_module": "@jupyter-widgets/base",
            "_view_module_version": "1.2.0",
            "_view_name": "LayoutView",
            "align_content": null,
            "align_items": null,
            "align_self": null,
            "border": null,
            "bottom": null,
            "display": null,
            "flex": null,
            "flex_flow": null,
            "grid_area": null,
            "grid_auto_columns": null,
            "grid_auto_flow": null,
            "grid_auto_rows": null,
            "grid_column": null,
            "grid_gap": null,
            "grid_row": null,
            "grid_template_areas": null,
            "grid_template_columns": null,
            "grid_template_rows": null,
            "height": null,
            "justify_content": null,
            "justify_items": null,
            "left": null,
            "margin": null,
            "max_height": null,
            "max_width": null,
            "min_height": null,
            "min_width": null,
            "object_fit": null,
            "object_position": null,
            "order": null,
            "overflow": null,
            "overflow_x": null,
            "overflow_y": null,
            "padding": null,
            "right": null,
            "top": null,
            "visibility": null,
            "width": null
          }
        },
        "afa1056fc8114c1d8a8f902e2caf7621": {
          "model_module": "@jupyter-widgets/base",
          "model_module_version": "1.2.0",
          "model_name": "LayoutModel",
          "state": {
            "_model_module": "@jupyter-widgets/base",
            "_model_module_version": "1.2.0",
            "_model_name": "LayoutModel",
            "_view_count": null,
            "_view_module": "@jupyter-widgets/base",
            "_view_module_version": "1.2.0",
            "_view_name": "LayoutView",
            "align_content": null,
            "align_items": null,
            "align_self": null,
            "border": null,
            "bottom": null,
            "display": null,
            "flex": null,
            "flex_flow": null,
            "grid_area": null,
            "grid_auto_columns": null,
            "grid_auto_flow": null,
            "grid_auto_rows": null,
            "grid_column": null,
            "grid_gap": null,
            "grid_row": null,
            "grid_template_areas": null,
            "grid_template_columns": null,
            "grid_template_rows": null,
            "height": null,
            "justify_content": null,
            "justify_items": null,
            "left": null,
            "margin": null,
            "max_height": null,
            "max_width": null,
            "min_height": null,
            "min_width": null,
            "object_fit": null,
            "object_position": null,
            "order": null,
            "overflow": null,
            "overflow_x": null,
            "overflow_y": null,
            "padding": null,
            "right": null,
            "top": null,
            "visibility": null,
            "width": null
          }
        },
        "b201897328064218a170ffe1ccace7d4": {
          "model_module": "@jupyter-widgets/base",
          "model_module_version": "1.2.0",
          "model_name": "LayoutModel",
          "state": {
            "_model_module": "@jupyter-widgets/base",
            "_model_module_version": "1.2.0",
            "_model_name": "LayoutModel",
            "_view_count": null,
            "_view_module": "@jupyter-widgets/base",
            "_view_module_version": "1.2.0",
            "_view_name": "LayoutView",
            "align_content": null,
            "align_items": null,
            "align_self": null,
            "border": null,
            "bottom": null,
            "display": null,
            "flex": null,
            "flex_flow": null,
            "grid_area": null,
            "grid_auto_columns": null,
            "grid_auto_flow": null,
            "grid_auto_rows": null,
            "grid_column": null,
            "grid_gap": null,
            "grid_row": null,
            "grid_template_areas": null,
            "grid_template_columns": null,
            "grid_template_rows": null,
            "height": null,
            "justify_content": null,
            "justify_items": null,
            "left": null,
            "margin": null,
            "max_height": null,
            "max_width": null,
            "min_height": null,
            "min_width": null,
            "object_fit": null,
            "object_position": null,
            "order": null,
            "overflow": null,
            "overflow_x": null,
            "overflow_y": null,
            "padding": null,
            "right": null,
            "top": null,
            "visibility": null,
            "width": null
          }
        },
        "b6fa4f1d42aa46d58e77417896cac7f5": {
          "model_module": "@jupyter-widgets/controls",
          "model_module_version": "1.5.0",
          "model_name": "FloatProgressModel",
          "state": {
            "_dom_classes": [],
            "_model_module": "@jupyter-widgets/controls",
            "_model_module_version": "1.5.0",
            "_model_name": "FloatProgressModel",
            "_view_count": null,
            "_view_module": "@jupyter-widgets/controls",
            "_view_module_version": "1.5.0",
            "_view_name": "ProgressView",
            "bar_style": "success",
            "description": "",
            "description_tooltip": null,
            "layout": "IPY_MODEL_e4e2878194414935867000460cee245e",
            "max": 184632480,
            "min": 0,
            "orientation": "horizontal",
            "style": "IPY_MODEL_cb83d412f44b49e09c8a4c329b2bc90b",
            "value": 184632480
          }
        },
        "bea87538ba274102bd74fe9751ac8f6c": {
          "model_module": "@jupyter-widgets/controls",
          "model_module_version": "1.5.0",
          "model_name": "DescriptionStyleModel",
          "state": {
            "_model_module": "@jupyter-widgets/controls",
            "_model_module_version": "1.5.0",
            "_model_name": "DescriptionStyleModel",
            "_view_count": null,
            "_view_module": "@jupyter-widgets/base",
            "_view_module_version": "1.2.0",
            "_view_name": "StyleView",
            "description_width": ""
          }
        },
        "bfee1b6938d4431a97491039189ba4be": {
          "model_module": "@jupyter-widgets/controls",
          "model_module_version": "1.5.0",
          "model_name": "DescriptionStyleModel",
          "state": {
            "_model_module": "@jupyter-widgets/controls",
            "_model_module_version": "1.5.0",
            "_model_name": "DescriptionStyleModel",
            "_view_count": null,
            "_view_module": "@jupyter-widgets/base",
            "_view_module_version": "1.2.0",
            "_view_name": "StyleView",
            "description_width": ""
          }
        },
        "c3229438e974408f84401a6da66c6f99": {
          "model_module": "@jupyter-widgets/base",
          "model_module_version": "1.2.0",
          "model_name": "LayoutModel",
          "state": {
            "_model_module": "@jupyter-widgets/base",
            "_model_module_version": "1.2.0",
            "_model_name": "LayoutModel",
            "_view_count": null,
            "_view_module": "@jupyter-widgets/base",
            "_view_module_version": "1.2.0",
            "_view_name": "LayoutView",
            "align_content": null,
            "align_items": null,
            "align_self": null,
            "border": null,
            "bottom": null,
            "display": null,
            "flex": null,
            "flex_flow": null,
            "grid_area": null,
            "grid_auto_columns": null,
            "grid_auto_flow": null,
            "grid_auto_rows": null,
            "grid_column": null,
            "grid_gap": null,
            "grid_row": null,
            "grid_template_areas": null,
            "grid_template_columns": null,
            "grid_template_rows": null,
            "height": null,
            "justify_content": null,
            "justify_items": null,
            "left": null,
            "margin": null,
            "max_height": null,
            "max_width": null,
            "min_height": null,
            "min_width": null,
            "object_fit": null,
            "object_position": null,
            "order": null,
            "overflow": null,
            "overflow_x": null,
            "overflow_y": null,
            "padding": null,
            "right": null,
            "top": null,
            "visibility": null,
            "width": null
          }
        },
        "c71ccf9d8a7743508e2e08fe21727343": {
          "model_module": "@jupyter-widgets/controls",
          "model_module_version": "1.5.0",
          "model_name": "HTMLModel",
          "state": {
            "_dom_classes": [],
            "_model_module": "@jupyter-widgets/controls",
            "_model_module_version": "1.5.0",
            "_model_name": "HTMLModel",
            "_view_count": null,
            "_view_module": "@jupyter-widgets/controls",
            "_view_module_version": "1.5.0",
            "_view_name": "HTMLView",
            "description": "",
            "description_tooltip": null,
            "layout": "IPY_MODEL_afa1056fc8114c1d8a8f902e2caf7621",
            "placeholder": "​",
            "style": "IPY_MODEL_1b6dcda84157435badbd2d27b81fbd44",
            "value": "generation_config.json: 100%"
          }
        },
        "cb83d412f44b49e09c8a4c329b2bc90b": {
          "model_module": "@jupyter-widgets/controls",
          "model_module_version": "1.5.0",
          "model_name": "ProgressStyleModel",
          "state": {
            "_model_module": "@jupyter-widgets/controls",
            "_model_module_version": "1.5.0",
            "_model_name": "ProgressStyleModel",
            "_view_count": null,
            "_view_module": "@jupyter-widgets/base",
            "_view_module_version": "1.2.0",
            "_view_name": "StyleView",
            "bar_color": null,
            "description_width": ""
          }
        },
        "d392c40b703d4cd49c669859662cf542": {
          "model_module": "@jupyter-widgets/controls",
          "model_module_version": "1.5.0",
          "model_name": "DescriptionStyleModel",
          "state": {
            "_model_module": "@jupyter-widgets/controls",
            "_model_module_version": "1.5.0",
            "_model_name": "DescriptionStyleModel",
            "_view_count": null,
            "_view_module": "@jupyter-widgets/base",
            "_view_module_version": "1.2.0",
            "_view_name": "StyleView",
            "description_width": ""
          }
        },
        "d9036a9f979f4682a9814b98ec2370c7": {
          "model_module": "@jupyter-widgets/controls",
          "model_module_version": "1.5.0",
          "model_name": "DescriptionStyleModel",
          "state": {
            "_model_module": "@jupyter-widgets/controls",
            "_model_module_version": "1.5.0",
            "_model_name": "DescriptionStyleModel",
            "_view_count": null,
            "_view_module": "@jupyter-widgets/base",
            "_view_module_version": "1.2.0",
            "_view_name": "StyleView",
            "description_width": ""
          }
        },
        "daac1393d05a48de81143a6d62eea469": {
          "model_module": "@jupyter-widgets/controls",
          "model_module_version": "1.5.0",
          "model_name": "FloatProgressModel",
          "state": {
            "_dom_classes": [],
            "_model_module": "@jupyter-widgets/controls",
            "_model_module_version": "1.5.0",
            "_model_name": "FloatProgressModel",
            "_view_count": null,
            "_view_module": "@jupyter-widgets/controls",
            "_view_module_version": "1.5.0",
            "_view_name": "ProgressView",
            "bar_style": "success",
            "description": "",
            "description_tooltip": null,
            "layout": "IPY_MODEL_b201897328064218a170ffe1ccace7d4",
            "max": 142,
            "min": 0,
            "orientation": "horizontal",
            "style": "IPY_MODEL_eb6dbdcf6c24423ab8f1421ff46c1bed",
            "value": 142
          }
        },
        "e4e2878194414935867000460cee245e": {
          "model_module": "@jupyter-widgets/base",
          "model_module_version": "1.2.0",
          "model_name": "LayoutModel",
          "state": {
            "_model_module": "@jupyter-widgets/base",
            "_model_module_version": "1.2.0",
            "_model_name": "LayoutModel",
            "_view_count": null,
            "_view_module": "@jupyter-widgets/base",
            "_view_module_version": "1.2.0",
            "_view_name": "LayoutView",
            "align_content": null,
            "align_items": null,
            "align_self": null,
            "border": null,
            "bottom": null,
            "display": null,
            "flex": null,
            "flex_flow": null,
            "grid_area": null,
            "grid_auto_columns": null,
            "grid_auto_flow": null,
            "grid_auto_rows": null,
            "grid_column": null,
            "grid_gap": null,
            "grid_row": null,
            "grid_template_areas": null,
            "grid_template_columns": null,
            "grid_template_rows": null,
            "height": null,
            "justify_content": null,
            "justify_items": null,
            "left": null,
            "margin": null,
            "max_height": null,
            "max_width": null,
            "min_height": null,
            "min_width": null,
            "object_fit": null,
            "object_position": null,
            "order": null,
            "overflow": null,
            "overflow_x": null,
            "overflow_y": null,
            "padding": null,
            "right": null,
            "top": null,
            "visibility": null,
            "width": null
          }
        },
        "eb6dbdcf6c24423ab8f1421ff46c1bed": {
          "model_module": "@jupyter-widgets/controls",
          "model_module_version": "1.5.0",
          "model_name": "ProgressStyleModel",
          "state": {
            "_model_module": "@jupyter-widgets/controls",
            "_model_module_version": "1.5.0",
            "_model_name": "ProgressStyleModel",
            "_view_count": null,
            "_view_module": "@jupyter-widgets/base",
            "_view_module_version": "1.2.0",
            "_view_name": "StyleView",
            "bar_color": null,
            "description_width": ""
          }
        },
        "f006a98dc18b4b149af5eec489589349": {
          "model_module": "@jupyter-widgets/controls",
          "model_module_version": "1.5.0",
          "model_name": "HBoxModel",
          "state": {
            "_dom_classes": [],
            "_model_module": "@jupyter-widgets/controls",
            "_model_module_version": "1.5.0",
            "_model_name": "HBoxModel",
            "_view_count": null,
            "_view_module": "@jupyter-widgets/controls",
            "_view_module_version": "1.5.0",
            "_view_name": "HBoxView",
            "box_style": "",
            "children": [
              "IPY_MODEL_4c6874881fee455fb520f9941863a472",
              "IPY_MODEL_8b9d8de7ca924e2a96443f45c3a77980",
              "IPY_MODEL_5f95a5cefc854e03bb744d4dc9a95f85"
            ],
            "layout": "IPY_MODEL_117ef9df0f3d4907b88502009bd136cd"
          }
        }
      }
    }
  },
  "nbformat": 4,
  "nbformat_minor": 0
}
