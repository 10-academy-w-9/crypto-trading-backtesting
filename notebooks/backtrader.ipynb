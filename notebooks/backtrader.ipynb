{
 "cells": [
  {
   "cell_type": "markdown",
   "metadata": {},
   "source": [
    "# Feteching data from Yahoo finance"
   ]
  },
  {
   "cell_type": "code",
   "execution_count": 1,
   "metadata": {},
   "outputs": [],
   "source": [
    "import sys\n",
    "import os\n",
    "sys.path.append('../')"
   ]
  },
  {
   "cell_type": "code",
   "execution_count": 2,
   "metadata": {},
   "outputs": [],
   "source": [
    "import yfinance as yf\n",
    "import backtrader as bt\n",
    "import pandas as pd\n",
    "from datetime import datetime"
   ]
  },
  {
   "cell_type": "code",
   "execution_count": null,
   "metadata": {},
   "outputs": [],
   "source": []
  },
  {
   "cell_type": "code",
   "execution_count": null,
   "metadata": {},
   "outputs": [],
   "source": []
  },
  {
   "cell_type": "code",
   "execution_count": null,
   "metadata": {},
   "outputs": [],
   "source": []
  },
  {
   "cell_type": "markdown",
   "metadata": {},
   "source": [
    "# Fetching data from Binance"
   ]
  },
  {
   "cell_type": "code",
   "execution_count": null,
   "metadata": {},
   "outputs": [],
   "source": [
    "from BinanceAPI import *\n"
   ]
  },
  {
   "cell_type": "code",
   "execution_count": null,
   "metadata": {},
   "outputs": [],
   "source": [
    "import requests\n",
    "import json\n",
    "from datetime import datetime\n",
    "\n",
    "# Define the Binance API endpoint for Kline data\n",
    "endpoint = 'https://api.binance.com/api/v3/klines'"
   ]
  },
  {
   "cell_type": "code",
   "execution_count": null,
   "metadata": {},
   "outputs": [],
   "source": [
    "# Parameters for the API request\n",
    "symbol = 'BTCUSDT'  # Bitcoin against USDT\n",
    "interval = '1h'     # 1 hour interval (other options: 1m, 5m, 15m, 1h, 4h, 1d, 1w)\n",
    "limit = 1000        # Limit of data points to retrieve (max is 1000 per request)\n",
    "\n",
    "# Convert interval to milliseconds (Binance API expects it in milliseconds)\n",
    "interval_ms = {\n",
    "    '1m': 60000,\n",
    "    '5m': 300000,\n",
    "    '15m': 900000,\n",
    "    '1h': 3600000,\n",
    "    '4h': 14400000,\n",
    "    '1d': 86400000,\n",
    "    '1w': 604800000\n",
    "}[interval]\n",
    "\n"
   ]
  },
  {
   "cell_type": "code",
   "execution_count": null,
   "metadata": {},
   "outputs": [],
   "source": [
    "# Convert start and end times to milliseconds\n",
    "start_time = int(datetime.strptime('2020-01-01', '%Y-%m-%d').timestamp()) * 1000  # Example: start date\n",
    "end_time = int(datetime.strptime('2024-01-01', '%Y-%m-%d').timestamp()) * 1000    # Example: end date\n",
    "\n",
    "# Prepare the parameters for the API request\n",
    "params = {\n",
    "    'symbol': symbol,\n",
    "    'interval': interval,\n",
    "    'startTime': start_time,\n",
    "    'endTime': end_time,\n",
    "    'limit': limit\n",
    "}\n",
    "\n",
    "# Make the API request\n",
    "response = requests.get(endpoint, params=params)\n",
    "data = response.json()\n",
    "\n",
    "# Example of printing the fetched data\n",
    "for candle in data:\n",
    "    print(f\"Open time: {datetime.utcfromtimestamp(candle[0] / 1000)} \\\n",
    "          Close time: {datetime.utcfromtimestamp(candle[6] / 1000)} \\\n",
    "          Open: {candle[1]} \\\n",
    "          Close: {candle[4]} \\\n",
    "          High: {candle[2]} \\\n",
    "          Low: {candle[3]} \\\n",
    "          Volume: {candle[5]}\")\n",
    "\n",
    "# You can further process or save this data for backtesting\n"
   ]
  }
 ],
 "metadata": {
  "kernelspec": {
   "display_name": "Genv",
   "language": "python",
   "name": "python3"
  },
  "language_info": {
   "codemirror_mode": {
    "name": "ipython",
    "version": 3
   },
   "file_extension": ".py",
   "mimetype": "text/x-python",
   "name": "python",
   "nbconvert_exporter": "python",
   "pygments_lexer": "ipython3",
   "version": "3.12.3"
  }
 },
 "nbformat": 4,
 "nbformat_minor": 2
}
